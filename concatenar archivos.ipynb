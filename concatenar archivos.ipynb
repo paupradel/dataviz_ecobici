{
 "cells": [
  {
   "cell_type": "markdown",
   "metadata": {},
   "source": [
    "# 1. Concatenar archivos de 2010 a 2019"
   ]
  },
  {
   "cell_type": "markdown",
   "metadata": {},
   "source": [
    "Los datos de ecobici se encuentran disponibles al público en la siguiente en [la página de datos abiertos de ecobici](https://www.ecobici.cdmx.gob.mx/es/informacion-del-servicio/open-data). Están disponibles de febrero de 2010 a septiembre de 2019. Sin embargo se encuentran separados por año y mes, y hasta el momento la API no ha funcionado. Por esta razón se han tenido que bajar uno a uno y con este script se concatenarán en un sólo archivo csv los datos por año"
   ]
  },
  {
   "cell_type": "code",
   "execution_count": 1,
   "metadata": {},
   "outputs": [],
   "source": [
    "import os\n",
    "import glob\n",
    "import numpy as np\n",
    "import pandas as pd\n",
    "\n",
    "import warnings\n",
    "warnings.filterwarnings('ignore')\n",
    "\n",
    "os.chdir(\"/home/pradel/Desktop/ecobici_viz/data/2019\")"
   ]
  },
  {
   "cell_type": "markdown",
   "metadata": {},
   "source": [
    "Se importan los archivos csv de la carpeta antes mencionada"
   ]
  },
  {
   "cell_type": "code",
   "execution_count": 2,
   "metadata": {},
   "outputs": [],
   "source": [
    "extension = 'csv'\n",
    "all_filenames = [i for i in glob.glob('*.{}'.format(extension))]"
   ]
  },
  {
   "cell_type": "markdown",
   "metadata": {},
   "source": [
    "Se concatenan todos los archivos (basado en las mismas columnas) en un sólo `csv` llamado `ecobici.csv`."
   ]
  },
  {
   "cell_type": "code",
   "execution_count": 4,
   "metadata": {},
   "outputs": [],
   "source": [
    "ecobici_2019 = pd.concat([pd.read_csv(f) for f in all_filenames])\n",
    "\n",
    "ecobici_2019.to_csv(\"ecobici_2019.csv\", index=False, encoding = 'utf-8-sig')"
   ]
  },
  {
   "cell_type": "code",
   "execution_count": 5,
   "metadata": {},
   "outputs": [],
   "source": [
    "df = pd.read_csv(\"ecobici_2019.csv\")"
   ]
  },
  {
   "cell_type": "code",
   "execution_count": 8,
   "metadata": {},
   "outputs": [
    {
     "name": "stdout",
     "output_type": "stream",
     "text": [
      "<class 'pandas.core.frame.DataFrame'>\n",
      "RangeIndex: 6396090 entries, 0 to 6396089\n",
      "Data columns (total 10 columns):\n",
      "Bici                     object\n",
      "Ciclo_Estacion_Arribo    object\n",
      "Ciclo_Estacion_Retiro    int64\n",
      "Edad_Usuario             int64\n",
      "Fecha_Arribo             object\n",
      "Fecha_Retiro             object\n",
      "Genero_Usuario           object\n",
      "Hora_Arribo              object\n",
      "Hora_Retiro              object\n",
      "Unnamed: 9               object\n",
      "dtypes: int64(2), object(8)\n",
      "memory usage: 488.0+ MB\n"
     ]
    }
   ],
   "source": [
    "df.info()"
   ]
  },
  {
   "cell_type": "code",
   "execution_count": 9,
   "metadata": {},
   "outputs": [
    {
     "data": {
      "text/html": [
       "<div>\n",
       "<style scoped>\n",
       "    .dataframe tbody tr th:only-of-type {\n",
       "        vertical-align: middle;\n",
       "    }\n",
       "\n",
       "    .dataframe tbody tr th {\n",
       "        vertical-align: top;\n",
       "    }\n",
       "\n",
       "    .dataframe thead th {\n",
       "        text-align: right;\n",
       "    }\n",
       "</style>\n",
       "<table border=\"1\" class=\"dataframe\">\n",
       "  <thead>\n",
       "    <tr style=\"text-align: right;\">\n",
       "      <th></th>\n",
       "      <th>Bici</th>\n",
       "      <th>Ciclo_Estacion_Arribo</th>\n",
       "      <th>Ciclo_Estacion_Retiro</th>\n",
       "      <th>Edad_Usuario</th>\n",
       "      <th>Fecha_Arribo</th>\n",
       "      <th>Fecha_Retiro</th>\n",
       "      <th>Genero_Usuario</th>\n",
       "      <th>Hora_Arribo</th>\n",
       "      <th>Hora_Retiro</th>\n",
       "      <th>Unnamed: 9</th>\n",
       "    </tr>\n",
       "  </thead>\n",
       "  <tbody>\n",
       "    <tr>\n",
       "      <th>0</th>\n",
       "      <td>11444</td>\n",
       "      <td>36</td>\n",
       "      <td>67</td>\n",
       "      <td>36</td>\n",
       "      <td>01/01/2019</td>\n",
       "      <td>01/01/2019</td>\n",
       "      <td>M</td>\n",
       "      <td>0:14:03</td>\n",
       "      <td>0:08:44</td>\n",
       "      <td>NaN</td>\n",
       "    </tr>\n",
       "    <tr>\n",
       "      <th>1</th>\n",
       "      <td>9196</td>\n",
       "      <td>136</td>\n",
       "      <td>55</td>\n",
       "      <td>36</td>\n",
       "      <td>01/01/2019</td>\n",
       "      <td>01/01/2019</td>\n",
       "      <td>M</td>\n",
       "      <td>0:42:11</td>\n",
       "      <td>0:12:05</td>\n",
       "      <td>NaN</td>\n",
       "    </tr>\n",
       "    <tr>\n",
       "      <th>2</th>\n",
       "      <td>2612</td>\n",
       "      <td>115</td>\n",
       "      <td>29</td>\n",
       "      <td>38</td>\n",
       "      <td>01/01/2019</td>\n",
       "      <td>01/01/2019</td>\n",
       "      <td>M</td>\n",
       "      <td>0:37:47</td>\n",
       "      <td>0:13:15</td>\n",
       "      <td>NaN</td>\n",
       "    </tr>\n",
       "    <tr>\n",
       "      <th>3</th>\n",
       "      <td>7463</td>\n",
       "      <td>115</td>\n",
       "      <td>29</td>\n",
       "      <td>43</td>\n",
       "      <td>01/01/2019</td>\n",
       "      <td>01/01/2019</td>\n",
       "      <td>M</td>\n",
       "      <td>0:38:04</td>\n",
       "      <td>0:13:36</td>\n",
       "      <td>NaN</td>\n",
       "    </tr>\n",
       "    <tr>\n",
       "      <th>4</th>\n",
       "      <td>3987</td>\n",
       "      <td>35</td>\n",
       "      <td>136</td>\n",
       "      <td>37</td>\n",
       "      <td>01/01/2019</td>\n",
       "      <td>01/01/2019</td>\n",
       "      <td>M</td>\n",
       "      <td>0:22:47</td>\n",
       "      <td>0:15:30</td>\n",
       "      <td>NaN</td>\n",
       "    </tr>\n",
       "  </tbody>\n",
       "</table>\n",
       "</div>"
      ],
      "text/plain": [
       "    Bici Ciclo_Estacion_Arribo  Ciclo_Estacion_Retiro  Edad_Usuario  \\\n",
       "0  11444                    36                     67            36   \n",
       "1   9196                   136                     55            36   \n",
       "2   2612                   115                     29            38   \n",
       "3   7463                   115                     29            43   \n",
       "4   3987                    35                    136            37   \n",
       "\n",
       "  Fecha_Arribo Fecha_Retiro Genero_Usuario Hora_Arribo Hora_Retiro Unnamed: 9  \n",
       "0   01/01/2019   01/01/2019              M     0:14:03     0:08:44        NaN  \n",
       "1   01/01/2019   01/01/2019              M     0:42:11     0:12:05        NaN  \n",
       "2   01/01/2019   01/01/2019              M     0:37:47     0:13:15        NaN  \n",
       "3   01/01/2019   01/01/2019              M     0:38:04     0:13:36        NaN  \n",
       "4   01/01/2019   01/01/2019              M     0:22:47     0:15:30        NaN  "
      ]
     },
     "execution_count": 9,
     "metadata": {},
     "output_type": "execute_result"
    }
   ],
   "source": [
    "df.head()"
   ]
  },
  {
   "cell_type": "code",
   "execution_count": null,
   "metadata": {},
   "outputs": [],
   "source": []
  }
 ],
 "metadata": {
  "kernelspec": {
   "display_name": "Python 3",
   "language": "python",
   "name": "python3"
  },
  "language_info": {
   "codemirror_mode": {
    "name": "ipython",
    "version": 3
   },
   "file_extension": ".py",
   "mimetype": "text/x-python",
   "name": "python",
   "nbconvert_exporter": "python",
   "pygments_lexer": "ipython3",
   "version": "3.7.4"
  }
 },
 "nbformat": 4,
 "nbformat_minor": 2
}
