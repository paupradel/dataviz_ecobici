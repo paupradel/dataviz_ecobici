{
 "cells": [
  {
   "cell_type": "markdown",
   "metadata": {},
   "source": [
    "# Exploración Inicial"
   ]
  },
  {
   "cell_type": "markdown",
   "metadata": {},
   "source": [
    "__Descripción:__\n",
    "\n",
    "Se obtiene el AGEB de origen y destino de los viajes de los viajes de ecobici y se obtiene el agregado primedio de los viajes entre AGEBS por hora.\n",
    "\n",
    "__Input__\n",
    "\n",
    "- Estaciones de ecobici: Estaciones de ecobici con clave AGEB obtenida de __Uber © 2019 Copyright Uber Technologies, Inc.Data Attributions__\n",
    "\n",
    "- Viajes Ecobici 2019\n",
    "Responsable: Ecobici\n",
    "\n"
   ]
  },
  {
   "cell_type": "code",
   "execution_count": 1,
   "metadata": {},
   "outputs": [],
   "source": [
    "import pandas as pd\n",
    "import pickle\n",
    "\n",
    "import pandas as pd\n",
    "import dask.dataframe as dd\n",
    "import time\n",
    "\n",
    "import scipy.stats\n",
    "import re"
   ]
  },
  {
   "cell_type": "markdown",
   "metadata": {},
   "source": [
    "## Obtencion de AGEBS de interés:"
   ]
  },
  {
   "cell_type": "code",
   "execution_count": 2,
   "metadata": {},
   "outputs": [
    {
     "data": {
      "text/html": [
       "<div>\n",
       "<style scoped>\n",
       "    .dataframe tbody tr th:only-of-type {\n",
       "        vertical-align: middle;\n",
       "    }\n",
       "\n",
       "    .dataframe tbody tr th {\n",
       "        vertical-align: top;\n",
       "    }\n",
       "\n",
       "    .dataframe thead th {\n",
       "        text-align: right;\n",
       "    }\n",
       "</style>\n",
       "<table border=\"1\" class=\"dataframe\">\n",
       "  <thead>\n",
       "    <tr style=\"text-align: right;\">\n",
       "      <th></th>\n",
       "      <th>ID</th>\n",
       "      <th>Nombre</th>\n",
       "      <th>Dirección</th>\n",
       "      <th>Número</th>\n",
       "      <th>Código po</th>\n",
       "      <th>districtCo</th>\n",
       "      <th>Colonia</th>\n",
       "      <th>altitude</th>\n",
       "      <th>nearbyStat</th>\n",
       "      <th>location/l</th>\n",
       "      <th>...</th>\n",
       "      <th>nearbySt_3</th>\n",
       "      <th>nearbySt_4</th>\n",
       "      <th>nearbySt_5</th>\n",
       "      <th>punto_geo</th>\n",
       "      <th>CVE_AGEB</th>\n",
       "      <th>CVE_MUN</th>\n",
       "      <th>CVE_LOC</th>\n",
       "      <th>CVE_ENT</th>\n",
       "      <th>MOVEMENT_I</th>\n",
       "      <th>DISPLAY_NA</th>\n",
       "    </tr>\n",
       "  </thead>\n",
       "  <tbody>\n",
       "    <tr>\n",
       "      <td>0</td>\n",
       "      <td>440</td>\n",
       "      <td>440 REAL DE MAYORAZGO-PUENTE XOCO</td>\n",
       "      <td>440 - Real De Mayorazgo-Puente Xoco</td>\n",
       "      <td>S/N</td>\n",
       "      <td>3330.0</td>\n",
       "      <td>1</td>\n",
       "      <td>Ampliación Granada</td>\n",
       "      <td>NaN</td>\n",
       "      <td>433</td>\n",
       "      <td>19.360650</td>\n",
       "      <td>...</td>\n",
       "      <td>NaN</td>\n",
       "      <td>NaN</td>\n",
       "      <td>NaN</td>\n",
       "      <td>19.36065,-99.168669</td>\n",
       "      <td>0967</td>\n",
       "      <td>14</td>\n",
       "      <td>1</td>\n",
       "      <td>9</td>\n",
       "      <td>4550</td>\n",
       "      <td>Movement Zone 4550</td>\n",
       "    </tr>\n",
       "    <tr>\n",
       "      <td>1</td>\n",
       "      <td>283</td>\n",
       "      <td>283 AV. COYOACÁN-RAFAEL DONDE</td>\n",
       "      <td>283 - Av. Coyoacán-Rafael Donde</td>\n",
       "      <td>S/N</td>\n",
       "      <td>3103.0</td>\n",
       "      <td>1</td>\n",
       "      <td>Ampliación Granada</td>\n",
       "      <td>NaN</td>\n",
       "      <td>279</td>\n",
       "      <td>19.398270</td>\n",
       "      <td>...</td>\n",
       "      <td>NaN</td>\n",
       "      <td>NaN</td>\n",
       "      <td>NaN</td>\n",
       "      <td>19.39827,-99.167383</td>\n",
       "      <td>0045</td>\n",
       "      <td>14</td>\n",
       "      <td>1</td>\n",
       "      <td>9</td>\n",
       "      <td>4551</td>\n",
       "      <td>Movement Zone 4551</td>\n",
       "    </tr>\n",
       "    <tr>\n",
       "      <td>2</td>\n",
       "      <td>279</td>\n",
       "      <td>279 LA MORENA-PROVIDENCIA</td>\n",
       "      <td>279 - La Morena-Providencia</td>\n",
       "      <td>S/N</td>\n",
       "      <td>3103.0</td>\n",
       "      <td>DVN</td>\n",
       "      <td>Del Valle Norte</td>\n",
       "      <td>NaN</td>\n",
       "      <td>164</td>\n",
       "      <td>19.399908</td>\n",
       "      <td>...</td>\n",
       "      <td>NaN</td>\n",
       "      <td>NaN</td>\n",
       "      <td>NaN</td>\n",
       "      <td>19.399908,-99.166553</td>\n",
       "      <td>0045</td>\n",
       "      <td>14</td>\n",
       "      <td>1</td>\n",
       "      <td>9</td>\n",
       "      <td>4551</td>\n",
       "      <td>Movement Zone 4551</td>\n",
       "    </tr>\n",
       "    <tr>\n",
       "      <td>3</td>\n",
       "      <td>443</td>\n",
       "      <td>443 BRUNO TRAVEN-GOLONDRINAS</td>\n",
       "      <td>443 - Bruno Trave-Avenida México-Coyoacan</td>\n",
       "      <td>S/N</td>\n",
       "      <td>3340.0</td>\n",
       "      <td>1</td>\n",
       "      <td>Ampliación Granada</td>\n",
       "      <td>NaN</td>\n",
       "      <td>432</td>\n",
       "      <td>19.359655</td>\n",
       "      <td>...</td>\n",
       "      <td>NaN</td>\n",
       "      <td>NaN</td>\n",
       "      <td>NaN</td>\n",
       "      <td>19.359655,-99.162025</td>\n",
       "      <td>0971</td>\n",
       "      <td>14</td>\n",
       "      <td>1</td>\n",
       "      <td>9</td>\n",
       "      <td>4553</td>\n",
       "      <td>Movement Zone 4553</td>\n",
       "    </tr>\n",
       "    <tr>\n",
       "      <td>4</td>\n",
       "      <td>432</td>\n",
       "      <td>432 CARRILLO PUERTO-AV. MÉXICO-COYOACÁN</td>\n",
       "      <td>432 - Carrillo Pto-Golondrinas</td>\n",
       "      <td>S/N</td>\n",
       "      <td>3340.0</td>\n",
       "      <td>GPM</td>\n",
       "      <td>General Pedro Maria Anaya</td>\n",
       "      <td>NaN</td>\n",
       "      <td>442</td>\n",
       "      <td>19.361296</td>\n",
       "      <td>...</td>\n",
       "      <td>NaN</td>\n",
       "      <td>NaN</td>\n",
       "      <td>NaN</td>\n",
       "      <td>19.361296,-99.162581</td>\n",
       "      <td>0971</td>\n",
       "      <td>14</td>\n",
       "      <td>1</td>\n",
       "      <td>9</td>\n",
       "      <td>4553</td>\n",
       "      <td>Movement Zone 4553</td>\n",
       "    </tr>\n",
       "  </tbody>\n",
       "</table>\n",
       "<p>5 rows × 24 columns</p>\n",
       "</div>"
      ],
      "text/plain": [
       "    ID                                   Nombre  \\\n",
       "0  440        440 REAL DE MAYORAZGO-PUENTE XOCO   \n",
       "1  283            283 AV. COYOACÁN-RAFAEL DONDE   \n",
       "2  279                279 LA MORENA-PROVIDENCIA   \n",
       "3  443             443 BRUNO TRAVEN-GOLONDRINAS   \n",
       "4  432  432 CARRILLO PUERTO-AV. MÉXICO-COYOACÁN   \n",
       "\n",
       "                                   Dirección Número  Código po districtCo  \\\n",
       "0        440 - Real De Mayorazgo-Puente Xoco    S/N     3330.0          1   \n",
       "1            283 - Av. Coyoacán-Rafael Donde    S/N     3103.0          1   \n",
       "2                279 - La Morena-Providencia    S/N     3103.0        DVN   \n",
       "3  443 - Bruno Trave-Avenida México-Coyoacan    S/N     3340.0          1   \n",
       "4             432 - Carrillo Pto-Golondrinas    S/N     3340.0        GPM   \n",
       "\n",
       "                     Colonia  altitude  nearbyStat  location/l  ...  \\\n",
       "0         Ampliación Granada       NaN         433   19.360650  ...   \n",
       "1         Ampliación Granada       NaN         279   19.398270  ...   \n",
       "2            Del Valle Norte       NaN         164   19.399908  ...   \n",
       "3         Ampliación Granada       NaN         432   19.359655  ...   \n",
       "4  General Pedro Maria Anaya       NaN         442   19.361296  ...   \n",
       "\n",
       "   nearbySt_3 nearbySt_4  nearbySt_5             punto_geo  CVE_AGEB  CVE_MUN  \\\n",
       "0         NaN        NaN         NaN   19.36065,-99.168669      0967       14   \n",
       "1         NaN        NaN         NaN   19.39827,-99.167383      0045       14   \n",
       "2         NaN        NaN         NaN  19.399908,-99.166553      0045       14   \n",
       "3         NaN        NaN         NaN  19.359655,-99.162025      0971       14   \n",
       "4         NaN        NaN         NaN  19.361296,-99.162581      0971       14   \n",
       "\n",
       "   CVE_LOC CVE_ENT MOVEMENT_I          DISPLAY_NA  \n",
       "0        1       9       4550  Movement Zone 4550  \n",
       "1        1       9       4551  Movement Zone 4551  \n",
       "2        1       9       4551  Movement Zone 4551  \n",
       "3        1       9       4553  Movement Zone 4553  \n",
       "4        1       9       4553  Movement Zone 4553  \n",
       "\n",
       "[5 rows x 24 columns]"
      ]
     },
     "execution_count": 2,
     "metadata": {},
     "output_type": "execute_result"
    }
   ],
   "source": [
    "df_estaciones = pd.read_csv(\"/Users/danielbustillos/Documents/ecobici_viz/data/SIG/procesado/CSV/estaciones-de-ecobici_con_AGEB.csv\")\n",
    "df_estaciones.head()"
   ]
  },
  {
   "cell_type": "code",
   "execution_count": 3,
   "metadata": {},
   "outputs": [],
   "source": [
    "df_estaciones['CVE_AGEB'] = [''.join(filter(lambda x: x.isdigit(), row)) for row in df_estaciones['CVE_AGEB']]\n",
    "df_estaciones['CVE_AGEB'] = df_estaciones['CVE_AGEB'].astype(int)"
   ]
  },
  {
   "cell_type": "code",
   "execution_count": 4,
   "metadata": {},
   "outputs": [
    {
     "data": {
      "text/plain": [
       "143"
      ]
     },
     "execution_count": 4,
     "metadata": {},
     "output_type": "execute_result"
    }
   ],
   "source": [
    "lista_agebs = df_estaciones['CVE_AGEB'].astype(int).unique().tolist()\n",
    "len(lista_agebs)"
   ]
  },
  {
   "cell_type": "code",
   "execution_count": 5,
   "metadata": {},
   "outputs": [
    {
     "data": {
      "text/plain": [
       "[967, 45, 971, 219, 187]"
      ]
     },
     "execution_count": 5,
     "metadata": {},
     "output_type": "execute_result"
    }
   ],
   "source": [
    "lista_agebs[:5]"
   ]
  },
  {
   "cell_type": "markdown",
   "metadata": {},
   "source": [
    "Guardamos lo AGEBS en una lista:"
   ]
  },
  {
   "cell_type": "code",
   "execution_count": 6,
   "metadata": {},
   "outputs": [],
   "source": [
    "with open(\"../data/lista_agebs.txt\", \"wb\") as fp:\n",
    "    pickle.dump(lista_agebs, fp)"
   ]
  },
  {
   "cell_type": "markdown",
   "metadata": {},
   "source": [
    "## Leamos el archivo de viajes de UBER"
   ]
  },
  {
   "cell_type": "code",
   "execution_count": 7,
   "metadata": {},
   "outputs": [],
   "source": [
    "path_uber_trips = \"../data/uber/mexico_city-agebs-2019-1-OnlyWeekdays-HourlyAggregate.csv\""
   ]
  },
  {
   "cell_type": "code",
   "execution_count": 8,
   "metadata": {},
   "outputs": [],
   "source": [
    "## cambiar a pandas"
   ]
  },
  {
   "cell_type": "code",
   "execution_count": 9,
   "metadata": {},
   "outputs": [
    {
     "name": "stdout",
     "output_type": "stream",
     "text": [
      "load train:  49.177875\n"
     ]
    }
   ],
   "source": [
    "t=time.clock()\n",
    "df_trips = dd.read_csv(path_uber_trips)\n",
    "df_trips = df_trips.compute()\n",
    "print(\"load train: \" , time.clock()-t)"
   ]
  },
  {
   "cell_type": "code",
   "execution_count": 10,
   "metadata": {},
   "outputs": [
    {
     "data": {
      "text/html": [
       "<div>\n",
       "<style scoped>\n",
       "    .dataframe tbody tr th:only-of-type {\n",
       "        vertical-align: middle;\n",
       "    }\n",
       "\n",
       "    .dataframe tbody tr th {\n",
       "        vertical-align: top;\n",
       "    }\n",
       "\n",
       "    .dataframe thead th {\n",
       "        text-align: right;\n",
       "    }\n",
       "</style>\n",
       "<table border=\"1\" class=\"dataframe\">\n",
       "  <thead>\n",
       "    <tr style=\"text-align: right;\">\n",
       "      <th></th>\n",
       "      <th>sourceid</th>\n",
       "      <th>dstid</th>\n",
       "      <th>hod</th>\n",
       "      <th>mean_travel_time</th>\n",
       "      <th>standard_deviation_travel_time</th>\n",
       "      <th>geometric_mean_travel_time</th>\n",
       "      <th>geometric_standard_deviation_travel_time</th>\n",
       "    </tr>\n",
       "  </thead>\n",
       "  <tbody>\n",
       "    <tr>\n",
       "      <td>0</td>\n",
       "      <td>1599</td>\n",
       "      <td>1710</td>\n",
       "      <td>4</td>\n",
       "      <td>629.46</td>\n",
       "      <td>600.50</td>\n",
       "      <td>498.86</td>\n",
       "      <td>1.80</td>\n",
       "    </tr>\n",
       "    <tr>\n",
       "      <td>1</td>\n",
       "      <td>3277</td>\n",
       "      <td>3083</td>\n",
       "      <td>8</td>\n",
       "      <td>1651.38</td>\n",
       "      <td>672.78</td>\n",
       "      <td>1549.81</td>\n",
       "      <td>1.40</td>\n",
       "    </tr>\n",
       "    <tr>\n",
       "      <td>2</td>\n",
       "      <td>977</td>\n",
       "      <td>3047</td>\n",
       "      <td>6</td>\n",
       "      <td>1165.89</td>\n",
       "      <td>268.38</td>\n",
       "      <td>1137.46</td>\n",
       "      <td>1.25</td>\n",
       "    </tr>\n",
       "    <tr>\n",
       "      <td>3</td>\n",
       "      <td>963</td>\n",
       "      <td>3187</td>\n",
       "      <td>6</td>\n",
       "      <td>931.03</td>\n",
       "      <td>284.51</td>\n",
       "      <td>898.61</td>\n",
       "      <td>1.29</td>\n",
       "    </tr>\n",
       "    <tr>\n",
       "      <td>4</td>\n",
       "      <td>3758</td>\n",
       "      <td>4915</td>\n",
       "      <td>13</td>\n",
       "      <td>2632.10</td>\n",
       "      <td>510.63</td>\n",
       "      <td>2583.73</td>\n",
       "      <td>1.21</td>\n",
       "    </tr>\n",
       "  </tbody>\n",
       "</table>\n",
       "</div>"
      ],
      "text/plain": [
       "   sourceid  dstid  hod  mean_travel_time  standard_deviation_travel_time  \\\n",
       "0      1599   1710    4            629.46                          600.50   \n",
       "1      3277   3083    8           1651.38                          672.78   \n",
       "2       977   3047    6           1165.89                          268.38   \n",
       "3       963   3187    6            931.03                          284.51   \n",
       "4      3758   4915   13           2632.10                          510.63   \n",
       "\n",
       "   geometric_mean_travel_time  geometric_standard_deviation_travel_time  \n",
       "0                      498.86                                      1.80  \n",
       "1                     1549.81                                      1.40  \n",
       "2                     1137.46                                      1.25  \n",
       "3                      898.61                                      1.29  \n",
       "4                     2583.73                                      1.21  "
      ]
     },
     "execution_count": 10,
     "metadata": {},
     "output_type": "execute_result"
    }
   ],
   "source": [
    "df_trips.head()"
   ]
  },
  {
   "cell_type": "raw",
   "metadata": {},
   "source": [
    "lista_agebs.sort()\n",
    "lista_agebs"
   ]
  },
  {
   "cell_type": "code",
   "execution_count": 11,
   "metadata": {},
   "outputs": [
    {
     "data": {
      "text/plain": [
       "[1356, 717, 783, 1360, 49, 401, 533, 1337, 1341, 1214]"
      ]
     },
     "execution_count": 11,
     "metadata": {},
     "output_type": "execute_result"
    }
   ],
   "source": [
    "list(set(lista_agebs) - set(df_trips[\"sourceid\"].unique()))"
   ]
  },
  {
   "cell_type": "code",
   "execution_count": 12,
   "metadata": {},
   "outputs": [],
   "source": [
    "df_trips = df_trips[df_trips[\"sourceid\"].isin(lista_agebs)]"
   ]
  },
  {
   "cell_type": "code",
   "execution_count": 13,
   "metadata": {},
   "outputs": [],
   "source": [
    "#df_trips.to_csv('./data/procesado/mexico_city-agebs-2019-2-All-HourlyAggregate_filter.csv')"
   ]
  },
  {
   "cell_type": "code",
   "execution_count": 14,
   "metadata": {},
   "outputs": [
    {
     "data": {
      "text/plain": [
       "sourceid                                      int64\n",
       "dstid                                         int64\n",
       "hod                                           int64\n",
       "mean_travel_time                            float64\n",
       "standard_deviation_travel_time              float64\n",
       "geometric_mean_travel_time                  float64\n",
       "geometric_standard_deviation_travel_time    float64\n",
       "dtype: object"
      ]
     },
     "execution_count": 14,
     "metadata": {},
     "output_type": "execute_result"
    }
   ],
   "source": [
    "df_trips.dtypes"
   ]
  },
  {
   "cell_type": "code",
   "execution_count": 15,
   "metadata": {},
   "outputs": [],
   "source": [
    "df_trips.reset_index(drop=True, inplace=True)"
   ]
  },
  {
   "cell_type": "code",
   "execution_count": 16,
   "metadata": {},
   "outputs": [
    {
     "data": {
      "text/html": [
       "<div>\n",
       "<style scoped>\n",
       "    .dataframe tbody tr th:only-of-type {\n",
       "        vertical-align: middle;\n",
       "    }\n",
       "\n",
       "    .dataframe tbody tr th {\n",
       "        vertical-align: top;\n",
       "    }\n",
       "\n",
       "    .dataframe thead th {\n",
       "        text-align: right;\n",
       "    }\n",
       "</style>\n",
       "<table border=\"1\" class=\"dataframe\">\n",
       "  <thead>\n",
       "    <tr style=\"text-align: right;\">\n",
       "      <th></th>\n",
       "      <th>sourceid</th>\n",
       "      <th>dstid</th>\n",
       "      <th>hod</th>\n",
       "      <th>mean_travel_time</th>\n",
       "      <th>standard_deviation_travel_time</th>\n",
       "      <th>geometric_mean_travel_time</th>\n",
       "      <th>geometric_standard_deviation_travel_time</th>\n",
       "    </tr>\n",
       "  </thead>\n",
       "  <tbody>\n",
       "    <tr>\n",
       "      <td>0</td>\n",
       "      <td>806</td>\n",
       "      <td>4757</td>\n",
       "      <td>6</td>\n",
       "      <td>4167.13</td>\n",
       "      <td>913.33</td>\n",
       "      <td>4073.42</td>\n",
       "      <td>1.24</td>\n",
       "    </tr>\n",
       "    <tr>\n",
       "      <td>1</td>\n",
       "      <td>967</td>\n",
       "      <td>3147</td>\n",
       "      <td>6</td>\n",
       "      <td>1675.38</td>\n",
       "      <td>472.15</td>\n",
       "      <td>1613.91</td>\n",
       "      <td>1.31</td>\n",
       "    </tr>\n",
       "    <tr>\n",
       "      <td>2</td>\n",
       "      <td>803</td>\n",
       "      <td>4787</td>\n",
       "      <td>6</td>\n",
       "      <td>4408.13</td>\n",
       "      <td>1432.03</td>\n",
       "      <td>4032.96</td>\n",
       "      <td>1.63</td>\n",
       "    </tr>\n",
       "    <tr>\n",
       "      <td>3</td>\n",
       "      <td>1375</td>\n",
       "      <td>292</td>\n",
       "      <td>22</td>\n",
       "      <td>1508.99</td>\n",
       "      <td>364.23</td>\n",
       "      <td>1469.56</td>\n",
       "      <td>1.26</td>\n",
       "    </tr>\n",
       "    <tr>\n",
       "      <td>4</td>\n",
       "      <td>1430</td>\n",
       "      <td>4945</td>\n",
       "      <td>5</td>\n",
       "      <td>1107.10</td>\n",
       "      <td>227.94</td>\n",
       "      <td>1090.38</td>\n",
       "      <td>1.18</td>\n",
       "    </tr>\n",
       "  </tbody>\n",
       "</table>\n",
       "</div>"
      ],
      "text/plain": [
       "   sourceid  dstid  hod  mean_travel_time  standard_deviation_travel_time  \\\n",
       "0       806   4757    6           4167.13                          913.33   \n",
       "1       967   3147    6           1675.38                          472.15   \n",
       "2       803   4787    6           4408.13                         1432.03   \n",
       "3      1375    292   22           1508.99                          364.23   \n",
       "4      1430   4945    5           1107.10                          227.94   \n",
       "\n",
       "   geometric_mean_travel_time  geometric_standard_deviation_travel_time  \n",
       "0                     4073.42                                      1.24  \n",
       "1                     1613.91                                      1.31  \n",
       "2                     4032.96                                      1.63  \n",
       "3                     1469.56                                      1.26  \n",
       "4                     1090.38                                      1.18  "
      ]
     },
     "execution_count": 16,
     "metadata": {},
     "output_type": "execute_result"
    }
   ],
   "source": [
    "df_trips.head()"
   ]
  },
  {
   "cell_type": "code",
   "execution_count": 17,
   "metadata": {},
   "outputs": [
    {
     "data": {
      "text/plain": [
       "133"
      ]
     },
     "execution_count": 17,
     "metadata": {},
     "output_type": "execute_result"
    }
   ],
   "source": [
    "df_trips[\"sourceid\"].nunique()"
   ]
  },
  {
   "cell_type": "markdown",
   "metadata": {},
   "source": [
    "### tiempo máximo y mínimos por viaje y hora.\n",
    "Suponemos una distribución normal con media 'mean_travel_time' y desviación estandar 'standard_deviation_travel_time>'"
   ]
  },
  {
   "cell_type": "code",
   "execution_count": 18,
   "metadata": {},
   "outputs": [
    {
     "data": {
      "text/html": [
       "<div>\n",
       "<style scoped>\n",
       "    .dataframe tbody tr th:only-of-type {\n",
       "        vertical-align: middle;\n",
       "    }\n",
       "\n",
       "    .dataframe tbody tr th {\n",
       "        vertical-align: top;\n",
       "    }\n",
       "\n",
       "    .dataframe thead th {\n",
       "        text-align: right;\n",
       "    }\n",
       "</style>\n",
       "<table border=\"1\" class=\"dataframe\">\n",
       "  <thead>\n",
       "    <tr style=\"text-align: right;\">\n",
       "      <th></th>\n",
       "      <th>sourceid</th>\n",
       "      <th>dstid</th>\n",
       "      <th>hod</th>\n",
       "      <th>mean_travel_time</th>\n",
       "      <th>standard_deviation_travel_time</th>\n",
       "      <th>geometric_mean_travel_time</th>\n",
       "      <th>geometric_standard_deviation_travel_time</th>\n",
       "    </tr>\n",
       "  </thead>\n",
       "  <tbody>\n",
       "    <tr>\n",
       "      <td>0</td>\n",
       "      <td>806</td>\n",
       "      <td>4757</td>\n",
       "      <td>6</td>\n",
       "      <td>4167.13</td>\n",
       "      <td>913.33</td>\n",
       "      <td>4073.42</td>\n",
       "      <td>1.24</td>\n",
       "    </tr>\n",
       "    <tr>\n",
       "      <td>1</td>\n",
       "      <td>967</td>\n",
       "      <td>3147</td>\n",
       "      <td>6</td>\n",
       "      <td>1675.38</td>\n",
       "      <td>472.15</td>\n",
       "      <td>1613.91</td>\n",
       "      <td>1.31</td>\n",
       "    </tr>\n",
       "    <tr>\n",
       "      <td>2</td>\n",
       "      <td>803</td>\n",
       "      <td>4787</td>\n",
       "      <td>6</td>\n",
       "      <td>4408.13</td>\n",
       "      <td>1432.03</td>\n",
       "      <td>4032.96</td>\n",
       "      <td>1.63</td>\n",
       "    </tr>\n",
       "    <tr>\n",
       "      <td>3</td>\n",
       "      <td>1375</td>\n",
       "      <td>292</td>\n",
       "      <td>22</td>\n",
       "      <td>1508.99</td>\n",
       "      <td>364.23</td>\n",
       "      <td>1469.56</td>\n",
       "      <td>1.26</td>\n",
       "    </tr>\n",
       "    <tr>\n",
       "      <td>4</td>\n",
       "      <td>1430</td>\n",
       "      <td>4945</td>\n",
       "      <td>5</td>\n",
       "      <td>1107.10</td>\n",
       "      <td>227.94</td>\n",
       "      <td>1090.38</td>\n",
       "      <td>1.18</td>\n",
       "    </tr>\n",
       "  </tbody>\n",
       "</table>\n",
       "</div>"
      ],
      "text/plain": [
       "   sourceid  dstid  hod  mean_travel_time  standard_deviation_travel_time  \\\n",
       "0       806   4757    6           4167.13                          913.33   \n",
       "1       967   3147    6           1675.38                          472.15   \n",
       "2       803   4787    6           4408.13                         1432.03   \n",
       "3      1375    292   22           1508.99                          364.23   \n",
       "4      1430   4945    5           1107.10                          227.94   \n",
       "\n",
       "   geometric_mean_travel_time  geometric_standard_deviation_travel_time  \n",
       "0                     4073.42                                      1.24  \n",
       "1                     1613.91                                      1.31  \n",
       "2                     4032.96                                      1.63  \n",
       "3                     1469.56                                      1.26  \n",
       "4                     1090.38                                      1.18  "
      ]
     },
     "execution_count": 18,
     "metadata": {},
     "output_type": "execute_result"
    }
   ],
   "source": [
    "df_trips.head()"
   ]
  },
  {
   "cell_type": "code",
   "execution_count": 19,
   "metadata": {},
   "outputs": [],
   "source": [
    "def travel_min(mean,std):\n",
    "    min = scipy.stats.norm(mean, std).ppf(.10)\n",
    "    #max = scipy.stats.norm(mean, std).ppf(.90)\n",
    "    return(min)\n",
    "def travel_max(mean,std):\n",
    "    #min = scipy.stats.norm(mean, std).ppf(.10)\n",
    "    max = scipy.stats.norm(mean, std).ppf(.90)\n",
    "    return(max)"
   ]
  },
  {
   "cell_type": "code",
   "execution_count": 20,
   "metadata": {},
   "outputs": [],
   "source": [
    "df_trips['min_travel_time'] = 0\n",
    "df_trips['max_travel_time'] = 0"
   ]
  },
  {
   "cell_type": "code",
   "execution_count": 21,
   "metadata": {},
   "outputs": [],
   "source": [
    "df_trips['min_travel_time'] =  df_trips.apply(\n",
    "    lambda row : travel_min(row['mean_travel_time'], \n",
    "                            row['standard_deviation_travel_time']), axis = 1)"
   ]
  },
  {
   "cell_type": "code",
   "execution_count": 22,
   "metadata": {},
   "outputs": [],
   "source": [
    "df_trips['max_travel_time'] =  df_trips.apply(\n",
    "    lambda row : travel_max(row['mean_travel_time'], \n",
    "                            row['standard_deviation_travel_time']), axis = 1)"
   ]
  },
  {
   "cell_type": "code",
   "execution_count": 23,
   "metadata": {},
   "outputs": [
    {
     "data": {
      "text/html": [
       "<div>\n",
       "<style scoped>\n",
       "    .dataframe tbody tr th:only-of-type {\n",
       "        vertical-align: middle;\n",
       "    }\n",
       "\n",
       "    .dataframe tbody tr th {\n",
       "        vertical-align: top;\n",
       "    }\n",
       "\n",
       "    .dataframe thead th {\n",
       "        text-align: right;\n",
       "    }\n",
       "</style>\n",
       "<table border=\"1\" class=\"dataframe\">\n",
       "  <thead>\n",
       "    <tr style=\"text-align: right;\">\n",
       "      <th></th>\n",
       "      <th>sourceid</th>\n",
       "      <th>dstid</th>\n",
       "      <th>hod</th>\n",
       "      <th>mean_travel_time</th>\n",
       "      <th>standard_deviation_travel_time</th>\n",
       "      <th>geometric_mean_travel_time</th>\n",
       "      <th>geometric_standard_deviation_travel_time</th>\n",
       "      <th>min_travel_time</th>\n",
       "      <th>max_travel_time</th>\n",
       "    </tr>\n",
       "  </thead>\n",
       "  <tbody>\n",
       "    <tr>\n",
       "      <td>0</td>\n",
       "      <td>806</td>\n",
       "      <td>4757</td>\n",
       "      <td>6</td>\n",
       "      <td>4167.13</td>\n",
       "      <td>913.33</td>\n",
       "      <td>4073.42</td>\n",
       "      <td>1.24</td>\n",
       "      <td>2996.650509</td>\n",
       "      <td>5337.609491</td>\n",
       "    </tr>\n",
       "    <tr>\n",
       "      <td>1</td>\n",
       "      <td>967</td>\n",
       "      <td>3147</td>\n",
       "      <td>6</td>\n",
       "      <td>1675.38</td>\n",
       "      <td>472.15</td>\n",
       "      <td>1613.91</td>\n",
       "      <td>1.31</td>\n",
       "      <td>1070.295428</td>\n",
       "      <td>2280.464572</td>\n",
       "    </tr>\n",
       "    <tr>\n",
       "      <td>2</td>\n",
       "      <td>803</td>\n",
       "      <td>4787</td>\n",
       "      <td>6</td>\n",
       "      <td>4408.13</td>\n",
       "      <td>1432.03</td>\n",
       "      <td>4032.96</td>\n",
       "      <td>1.63</td>\n",
       "      <td>2572.909712</td>\n",
       "      <td>6243.350288</td>\n",
       "    </tr>\n",
       "    <tr>\n",
       "      <td>3</td>\n",
       "      <td>1375</td>\n",
       "      <td>292</td>\n",
       "      <td>22</td>\n",
       "      <td>1508.99</td>\n",
       "      <td>364.23</td>\n",
       "      <td>1469.56</td>\n",
       "      <td>1.26</td>\n",
       "      <td>1042.210473</td>\n",
       "      <td>1975.769527</td>\n",
       "    </tr>\n",
       "    <tr>\n",
       "      <td>4</td>\n",
       "      <td>1430</td>\n",
       "      <td>4945</td>\n",
       "      <td>5</td>\n",
       "      <td>1107.10</td>\n",
       "      <td>227.94</td>\n",
       "      <td>1090.38</td>\n",
       "      <td>1.18</td>\n",
       "      <td>814.983136</td>\n",
       "      <td>1399.216864</td>\n",
       "    </tr>\n",
       "  </tbody>\n",
       "</table>\n",
       "</div>"
      ],
      "text/plain": [
       "   sourceid  dstid  hod  mean_travel_time  standard_deviation_travel_time  \\\n",
       "0       806   4757    6           4167.13                          913.33   \n",
       "1       967   3147    6           1675.38                          472.15   \n",
       "2       803   4787    6           4408.13                         1432.03   \n",
       "3      1375    292   22           1508.99                          364.23   \n",
       "4      1430   4945    5           1107.10                          227.94   \n",
       "\n",
       "   geometric_mean_travel_time  geometric_standard_deviation_travel_time  \\\n",
       "0                     4073.42                                      1.24   \n",
       "1                     1613.91                                      1.31   \n",
       "2                     4032.96                                      1.63   \n",
       "3                     1469.56                                      1.26   \n",
       "4                     1090.38                                      1.18   \n",
       "\n",
       "   min_travel_time  max_travel_time  \n",
       "0      2996.650509      5337.609491  \n",
       "1      1070.295428      2280.464572  \n",
       "2      2572.909712      6243.350288  \n",
       "3      1042.210473      1975.769527  \n",
       "4       814.983136      1399.216864  "
      ]
     },
     "execution_count": 23,
     "metadata": {},
     "output_type": "execute_result"
    }
   ],
   "source": [
    "df_trips.head()"
   ]
  },
  {
   "cell_type": "markdown",
   "metadata": {},
   "source": [
    "## Definimos periodos del día para non graficar todas las horas:"
   ]
  },
  {
   "cell_type": "code",
   "execution_count": 24,
   "metadata": {},
   "outputs": [],
   "source": [
    "def periodo_hora(row):\n",
    "    if row in [7,8,9]:\n",
    "        return \"7-10\"\n",
    "    elif row in[10,11,12]:\n",
    "        return \"10-13\"\n",
    "    elif row in [13,14,15]:\n",
    "        return \"13-16\"\n",
    "    elif row in [16,17,18]:\n",
    "        return \"16-19\"\n",
    "    elif row in [19,20,21]:\n",
    "        return \"19-22\"\n",
    "    elif row in [22,23,0]:\n",
    "        return \"22-1\"\n",
    "    else:\n",
    "        return None\n",
    "\n",
    "df_trips[\"Hora_Retiro_bin\"] = df_trips[\"hod\"].apply(periodo_hora)\n",
    "\n",
    "df_trips = df_trips.dropna()"
   ]
  },
  {
   "cell_type": "markdown",
   "metadata": {},
   "source": [
    "## Convertimos la duración de los viajes de segundos a minutos:"
   ]
  },
  {
   "cell_type": "code",
   "execution_count": 28,
   "metadata": {},
   "outputs": [],
   "source": [
    "df_trips['max_travel_time']  = df_trips['max_travel_time'] / 60\n",
    "df_trips['min_travel_time']  = df_trips['min_travel_time'] / 60\n",
    "df_trips['mean_travel_time']  = df_trips['mean_travel_time'] / 60"
   ]
  },
  {
   "cell_type": "code",
   "execution_count": 30,
   "metadata": {},
   "outputs": [
    {
     "data": {
      "text/plain": [
       "Index(['sourceid', 'dstid', 'hod', 'mean_travel_time',\n",
       "       'standard_deviation_travel_time', 'geometric_mean_travel_time',\n",
       "       'geometric_standard_deviation_travel_time', 'min_travel_time',\n",
       "       'max_travel_time', 'Hora_Retiro_bin'],\n",
       "      dtype='object')"
      ]
     },
     "execution_count": 30,
     "metadata": {},
     "output_type": "execute_result"
    }
   ],
   "source": [
    "df_trips.columns"
   ]
  },
  {
   "cell_type": "markdown",
   "metadata": {},
   "source": [
    "seleccionamos columnnas"
   ]
  },
  {
   "cell_type": "code",
   "execution_count": 31,
   "metadata": {},
   "outputs": [],
   "source": [
    "df_trips = df_trips[['sourceid', 'dstid', 'hod', 'mean_travel_time', 'min_travel_time',\n",
    "       'max_travel_time', 'Hora_Retiro_bin']]"
   ]
  },
  {
   "cell_type": "code",
   "execution_count": 33,
   "metadata": {},
   "outputs": [],
   "source": [
    "df_trips.to_csv(\"../data/production_data/viajes_uber.csv\", index=False)"
   ]
  },
  {
   "cell_type": "code",
   "execution_count": null,
   "metadata": {},
   "outputs": [],
   "source": []
  }
 ],
 "metadata": {
  "kernelspec": {
   "display_name": "env_ecobici",
   "language": "python",
   "name": "env_ecobici"
  },
  "language_info": {
   "codemirror_mode": {
    "name": "ipython",
    "version": 3
   },
   "file_extension": ".py",
   "mimetype": "text/x-python",
   "name": "python",
   "nbconvert_exporter": "python",
   "pygments_lexer": "ipython3",
   "version": "3.6.8"
  }
 },
 "nbformat": 4,
 "nbformat_minor": 4
}
