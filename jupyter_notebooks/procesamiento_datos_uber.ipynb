{
 "cells": [
  {
   "cell_type": "markdown",
   "metadata": {},
   "source": [
    "# Exploración Inicial"
   ]
  },
  {
   "cell_type": "markdown",
   "metadata": {},
   "source": [
    "__Descripción:__\n",
    "\n",
    "Se obtiene el AGEB de origen y destino de los viajes de los viajes de ecobici y se obtiene el agregado primedio de los viajes entre AGEBS por hora.\n",
    "\n",
    "__Input__\n",
    "\n",
    "- Estaciones de ecobici: Estaciones de ecobici con clave AGEB obtenida de __Uber © 2019 Copyright Uber Technologies, Inc.Data Attributions__\n",
    "\n",
    "- Viajes Ecobici 2019\n",
    "Responsable: Ecobici\n",
    "\n"
   ]
  },
  {
   "cell_type": "code",
   "execution_count": 1,
   "metadata": {},
   "outputs": [],
   "source": [
    "import pandas as pd\n",
    "import pickle\n",
    "\n",
    "import pandas as pd\n",
    "import dask.dataframe as dd\n",
    "import time\n",
    "\n",
    "import scipy.stats\n",
    "import re"
   ]
  },
  {
   "cell_type": "markdown",
   "metadata": {},
   "source": [
    "## Obtencion de AGEBS de interés:"
   ]
  },
  {
   "cell_type": "code",
   "execution_count": 2,
   "metadata": {},
   "outputs": [
    {
     "data": {
      "text/html": [
       "<div>\n",
       "<style scoped>\n",
       "    .dataframe tbody tr th:only-of-type {\n",
       "        vertical-align: middle;\n",
       "    }\n",
       "\n",
       "    .dataframe tbody tr th {\n",
       "        vertical-align: top;\n",
       "    }\n",
       "\n",
       "    .dataframe thead th {\n",
       "        text-align: right;\n",
       "    }\n",
       "</style>\n",
       "<table border=\"1\" class=\"dataframe\">\n",
       "  <thead>\n",
       "    <tr style=\"text-align: right;\">\n",
       "      <th></th>\n",
       "      <th>ID</th>\n",
       "      <th>Nombre</th>\n",
       "      <th>Dirección</th>\n",
       "      <th>Número</th>\n",
       "      <th>Código po</th>\n",
       "      <th>districtCo</th>\n",
       "      <th>Colonia</th>\n",
       "      <th>altitude</th>\n",
       "      <th>nearbyStat</th>\n",
       "      <th>location/l</th>\n",
       "      <th>...</th>\n",
       "      <th>nearbySt_3</th>\n",
       "      <th>nearbySt_4</th>\n",
       "      <th>nearbySt_5</th>\n",
       "      <th>punto_geo</th>\n",
       "      <th>CVE_AGEB</th>\n",
       "      <th>CVE_MUN</th>\n",
       "      <th>CVE_LOC</th>\n",
       "      <th>CVE_ENT</th>\n",
       "      <th>MOVEMENT_I</th>\n",
       "      <th>DISPLAY_NA</th>\n",
       "    </tr>\n",
       "  </thead>\n",
       "  <tbody>\n",
       "    <tr>\n",
       "      <td>0</td>\n",
       "      <td>440</td>\n",
       "      <td>440 REAL DE MAYORAZGO-PUENTE XOCO</td>\n",
       "      <td>440 - Real De Mayorazgo-Puente Xoco</td>\n",
       "      <td>S/N</td>\n",
       "      <td>3330.0</td>\n",
       "      <td>1</td>\n",
       "      <td>Ampliación Granada</td>\n",
       "      <td>NaN</td>\n",
       "      <td>433</td>\n",
       "      <td>19.360650</td>\n",
       "      <td>...</td>\n",
       "      <td>NaN</td>\n",
       "      <td>NaN</td>\n",
       "      <td>NaN</td>\n",
       "      <td>19.36065,-99.168669</td>\n",
       "      <td>0967</td>\n",
       "      <td>14</td>\n",
       "      <td>1</td>\n",
       "      <td>9</td>\n",
       "      <td>4550</td>\n",
       "      <td>Movement Zone 4550</td>\n",
       "    </tr>\n",
       "    <tr>\n",
       "      <td>1</td>\n",
       "      <td>283</td>\n",
       "      <td>283 AV. COYOACÁN-RAFAEL DONDE</td>\n",
       "      <td>283 - Av. Coyoacán-Rafael Donde</td>\n",
       "      <td>S/N</td>\n",
       "      <td>3103.0</td>\n",
       "      <td>1</td>\n",
       "      <td>Ampliación Granada</td>\n",
       "      <td>NaN</td>\n",
       "      <td>279</td>\n",
       "      <td>19.398270</td>\n",
       "      <td>...</td>\n",
       "      <td>NaN</td>\n",
       "      <td>NaN</td>\n",
       "      <td>NaN</td>\n",
       "      <td>19.39827,-99.167383</td>\n",
       "      <td>0045</td>\n",
       "      <td>14</td>\n",
       "      <td>1</td>\n",
       "      <td>9</td>\n",
       "      <td>4551</td>\n",
       "      <td>Movement Zone 4551</td>\n",
       "    </tr>\n",
       "    <tr>\n",
       "      <td>2</td>\n",
       "      <td>279</td>\n",
       "      <td>279 LA MORENA-PROVIDENCIA</td>\n",
       "      <td>279 - La Morena-Providencia</td>\n",
       "      <td>S/N</td>\n",
       "      <td>3103.0</td>\n",
       "      <td>DVN</td>\n",
       "      <td>Del Valle Norte</td>\n",
       "      <td>NaN</td>\n",
       "      <td>164</td>\n",
       "      <td>19.399908</td>\n",
       "      <td>...</td>\n",
       "      <td>NaN</td>\n",
       "      <td>NaN</td>\n",
       "      <td>NaN</td>\n",
       "      <td>19.399908,-99.166553</td>\n",
       "      <td>0045</td>\n",
       "      <td>14</td>\n",
       "      <td>1</td>\n",
       "      <td>9</td>\n",
       "      <td>4551</td>\n",
       "      <td>Movement Zone 4551</td>\n",
       "    </tr>\n",
       "    <tr>\n",
       "      <td>3</td>\n",
       "      <td>443</td>\n",
       "      <td>443 BRUNO TRAVEN-GOLONDRINAS</td>\n",
       "      <td>443 - Bruno Trave-Avenida México-Coyoacan</td>\n",
       "      <td>S/N</td>\n",
       "      <td>3340.0</td>\n",
       "      <td>1</td>\n",
       "      <td>Ampliación Granada</td>\n",
       "      <td>NaN</td>\n",
       "      <td>432</td>\n",
       "      <td>19.359655</td>\n",
       "      <td>...</td>\n",
       "      <td>NaN</td>\n",
       "      <td>NaN</td>\n",
       "      <td>NaN</td>\n",
       "      <td>19.359655,-99.162025</td>\n",
       "      <td>0971</td>\n",
       "      <td>14</td>\n",
       "      <td>1</td>\n",
       "      <td>9</td>\n",
       "      <td>4553</td>\n",
       "      <td>Movement Zone 4553</td>\n",
       "    </tr>\n",
       "    <tr>\n",
       "      <td>4</td>\n",
       "      <td>432</td>\n",
       "      <td>432 CARRILLO PUERTO-AV. MÉXICO-COYOACÁN</td>\n",
       "      <td>432 - Carrillo Pto-Golondrinas</td>\n",
       "      <td>S/N</td>\n",
       "      <td>3340.0</td>\n",
       "      <td>GPM</td>\n",
       "      <td>General Pedro Maria Anaya</td>\n",
       "      <td>NaN</td>\n",
       "      <td>442</td>\n",
       "      <td>19.361296</td>\n",
       "      <td>...</td>\n",
       "      <td>NaN</td>\n",
       "      <td>NaN</td>\n",
       "      <td>NaN</td>\n",
       "      <td>19.361296,-99.162581</td>\n",
       "      <td>0971</td>\n",
       "      <td>14</td>\n",
       "      <td>1</td>\n",
       "      <td>9</td>\n",
       "      <td>4553</td>\n",
       "      <td>Movement Zone 4553</td>\n",
       "    </tr>\n",
       "  </tbody>\n",
       "</table>\n",
       "<p>5 rows × 24 columns</p>\n",
       "</div>"
      ],
      "text/plain": [
       "    ID                                   Nombre  \\\n",
       "0  440        440 REAL DE MAYORAZGO-PUENTE XOCO   \n",
       "1  283            283 AV. COYOACÁN-RAFAEL DONDE   \n",
       "2  279                279 LA MORENA-PROVIDENCIA   \n",
       "3  443             443 BRUNO TRAVEN-GOLONDRINAS   \n",
       "4  432  432 CARRILLO PUERTO-AV. MÉXICO-COYOACÁN   \n",
       "\n",
       "                                   Dirección Número  Código po districtCo  \\\n",
       "0        440 - Real De Mayorazgo-Puente Xoco    S/N     3330.0          1   \n",
       "1            283 - Av. Coyoacán-Rafael Donde    S/N     3103.0          1   \n",
       "2                279 - La Morena-Providencia    S/N     3103.0        DVN   \n",
       "3  443 - Bruno Trave-Avenida México-Coyoacan    S/N     3340.0          1   \n",
       "4             432 - Carrillo Pto-Golondrinas    S/N     3340.0        GPM   \n",
       "\n",
       "                     Colonia  altitude  nearbyStat  location/l  ...  \\\n",
       "0         Ampliación Granada       NaN         433   19.360650  ...   \n",
       "1         Ampliación Granada       NaN         279   19.398270  ...   \n",
       "2            Del Valle Norte       NaN         164   19.399908  ...   \n",
       "3         Ampliación Granada       NaN         432   19.359655  ...   \n",
       "4  General Pedro Maria Anaya       NaN         442   19.361296  ...   \n",
       "\n",
       "   nearbySt_3 nearbySt_4  nearbySt_5             punto_geo  CVE_AGEB  CVE_MUN  \\\n",
       "0         NaN        NaN         NaN   19.36065,-99.168669      0967       14   \n",
       "1         NaN        NaN         NaN   19.39827,-99.167383      0045       14   \n",
       "2         NaN        NaN         NaN  19.399908,-99.166553      0045       14   \n",
       "3         NaN        NaN         NaN  19.359655,-99.162025      0971       14   \n",
       "4         NaN        NaN         NaN  19.361296,-99.162581      0971       14   \n",
       "\n",
       "   CVE_LOC CVE_ENT MOVEMENT_I          DISPLAY_NA  \n",
       "0        1       9       4550  Movement Zone 4550  \n",
       "1        1       9       4551  Movement Zone 4551  \n",
       "2        1       9       4551  Movement Zone 4551  \n",
       "3        1       9       4553  Movement Zone 4553  \n",
       "4        1       9       4553  Movement Zone 4553  \n",
       "\n",
       "[5 rows x 24 columns]"
      ]
     },
     "execution_count": 2,
     "metadata": {},
     "output_type": "execute_result"
    }
   ],
   "source": [
    "df_estaciones = pd.read_csv(\"/Users/danielbustillos/Documents/ecobici_viz/data/SIG/procesado/CSV/estaciones-de-ecobici_con_AGEB.csv\")\n",
    "df_estaciones.head()"
   ]
  },
  {
   "cell_type": "code",
   "execution_count": 3,
   "metadata": {},
   "outputs": [],
   "source": [
    "df_estaciones['CVE_AGEB'] = [''.join(filter(lambda x: x.isdigit(), row)) for row in df_estaciones['CVE_AGEB']]\n",
    "df_estaciones['CVE_AGEB'] = df_estaciones['CVE_AGEB'].astype(int)"
   ]
  },
  {
   "cell_type": "code",
   "execution_count": 4,
   "metadata": {},
   "outputs": [
    {
     "data": {
      "text/plain": [
       "143"
      ]
     },
     "execution_count": 4,
     "metadata": {},
     "output_type": "execute_result"
    }
   ],
   "source": [
    "lista_agebs = df_estaciones['CVE_AGEB'].astype(int).unique().tolist()\n",
    "len(lista_agebs)"
   ]
  },
  {
   "cell_type": "code",
   "execution_count": 5,
   "metadata": {},
   "outputs": [
    {
     "data": {
      "text/plain": [
       "[967, 45, 971, 219, 187]"
      ]
     },
     "execution_count": 5,
     "metadata": {},
     "output_type": "execute_result"
    }
   ],
   "source": [
    "lista_agebs[:5]"
   ]
  },
  {
   "cell_type": "markdown",
   "metadata": {},
   "source": [
    "Guardamos lo AGEBS en una lista:"
   ]
  },
  {
   "cell_type": "code",
   "execution_count": 6,
   "metadata": {},
   "outputs": [],
   "source": [
    "with open(\"../data/lista_agebs.txt\", \"wb\") as fp:\n",
    "    pickle.dump(lista_agebs, fp)"
   ]
  },
  {
   "cell_type": "markdown",
   "metadata": {},
   "source": [
    "## Leamos el archivo de viajes de UBER"
   ]
  },
  {
   "cell_type": "code",
   "execution_count": 7,
   "metadata": {},
   "outputs": [],
   "source": [
    "path_uber_trips = \"../data/uber/mexico_city-agebs-2019-1-OnlyWeekdays-HourlyAggregate.csv\"\n",
    "path_uber_trips_0 = \"../data/uber/mexico_city-agebs-2019-2-All-HourlyAggregate.csv\"\n",
    "path_uber_trips_1 = \"../data/uber/mexico_city-agebs-2018-3-All-HourlyAggregate.csv\""
   ]
  },
  {
   "cell_type": "markdown",
   "metadata": {},
   "source": [
    "##### Leemos los CSV de los viajes de uber y luego los unimos y por ultimos hacemos un GB"
   ]
  },
  {
   "cell_type": "code",
   "execution_count": 8,
   "metadata": {},
   "outputs": [
    {
     "name": "stdout",
     "output_type": "stream",
     "text": [
      "load train:  80.375429\n"
     ]
    },
    {
     "data": {
      "text/html": [
       "<div>\n",
       "<style scoped>\n",
       "    .dataframe tbody tr th:only-of-type {\n",
       "        vertical-align: middle;\n",
       "    }\n",
       "\n",
       "    .dataframe tbody tr th {\n",
       "        vertical-align: top;\n",
       "    }\n",
       "\n",
       "    .dataframe thead th {\n",
       "        text-align: right;\n",
       "    }\n",
       "</style>\n",
       "<table border=\"1\" class=\"dataframe\">\n",
       "  <thead>\n",
       "    <tr style=\"text-align: right;\">\n",
       "      <th></th>\n",
       "      <th>sourceid</th>\n",
       "      <th>dstid</th>\n",
       "      <th>hod</th>\n",
       "      <th>mean_travel_time</th>\n",
       "      <th>standard_deviation_travel_time</th>\n",
       "      <th>geometric_mean_travel_time</th>\n",
       "      <th>geometric_standard_deviation_travel_time</th>\n",
       "    </tr>\n",
       "  </thead>\n",
       "  <tbody>\n",
       "    <tr>\n",
       "      <td>1755</td>\n",
       "      <td>1017</td>\n",
       "      <td>891</td>\n",
       "      <td>18</td>\n",
       "      <td>947.97</td>\n",
       "      <td>298.44</td>\n",
       "      <td>907.59</td>\n",
       "      <td>1.33</td>\n",
       "    </tr>\n",
       "    <tr>\n",
       "      <td>2187</td>\n",
       "      <td>767</td>\n",
       "      <td>894</td>\n",
       "      <td>10</td>\n",
       "      <td>603.12</td>\n",
       "      <td>1311.17</td>\n",
       "      <td>321.83</td>\n",
       "      <td>2.42</td>\n",
       "    </tr>\n",
       "    <tr>\n",
       "      <td>2925</td>\n",
       "      <td>875</td>\n",
       "      <td>872</td>\n",
       "      <td>4</td>\n",
       "      <td>624.35</td>\n",
       "      <td>400.41</td>\n",
       "      <td>527.76</td>\n",
       "      <td>1.75</td>\n",
       "    </tr>\n",
       "    <tr>\n",
       "      <td>5090</td>\n",
       "      <td>983</td>\n",
       "      <td>1430</td>\n",
       "      <td>23</td>\n",
       "      <td>2180.55</td>\n",
       "      <td>484.67</td>\n",
       "      <td>2136.46</td>\n",
       "      <td>1.21</td>\n",
       "    </tr>\n",
       "    <tr>\n",
       "      <td>5638</td>\n",
       "      <td>1375</td>\n",
       "      <td>1002</td>\n",
       "      <td>20</td>\n",
       "      <td>2882.15</td>\n",
       "      <td>747.86</td>\n",
       "      <td>2804.85</td>\n",
       "      <td>1.25</td>\n",
       "    </tr>\n",
       "  </tbody>\n",
       "</table>\n",
       "</div>"
      ],
      "text/plain": [
       "      sourceid  dstid  hod  mean_travel_time  standard_deviation_travel_time  \\\n",
       "1755      1017    891   18            947.97                          298.44   \n",
       "2187       767    894   10            603.12                         1311.17   \n",
       "2925       875    872    4            624.35                          400.41   \n",
       "5090       983   1430   23           2180.55                          484.67   \n",
       "5638      1375   1002   20           2882.15                          747.86   \n",
       "\n",
       "      geometric_mean_travel_time  geometric_standard_deviation_travel_time  \n",
       "1755                      907.59                                      1.33  \n",
       "2187                      321.83                                      2.42  \n",
       "2925                      527.76                                      1.75  \n",
       "5090                     2136.46                                      1.21  \n",
       "5638                     2804.85                                      1.25  "
      ]
     },
     "execution_count": 8,
     "metadata": {},
     "output_type": "execute_result"
    }
   ],
   "source": [
    "t = time.clock()\n",
    "df_trips = dd.read_csv(path_uber_trips)\n",
    "df_trips = df_trips.compute()\n",
    "df_trips = df_trips[(df_trips[\"sourceid\"].isin(lista_agebs)) & df_trips[\"dstid\"].isin(lista_agebs)]\n",
    "print(\"load train: \" , time.clock()-t)\n",
    "df_trips.head()"
   ]
  },
  {
   "cell_type": "code",
   "execution_count": 9,
   "metadata": {},
   "outputs": [
    {
     "name": "stdout",
     "output_type": "stream",
     "text": [
      "load train:  117.945552\n"
     ]
    },
    {
     "data": {
      "text/html": [
       "<div>\n",
       "<style scoped>\n",
       "    .dataframe tbody tr th:only-of-type {\n",
       "        vertical-align: middle;\n",
       "    }\n",
       "\n",
       "    .dataframe tbody tr th {\n",
       "        vertical-align: top;\n",
       "    }\n",
       "\n",
       "    .dataframe thead th {\n",
       "        text-align: right;\n",
       "    }\n",
       "</style>\n",
       "<table border=\"1\" class=\"dataframe\">\n",
       "  <thead>\n",
       "    <tr style=\"text-align: right;\">\n",
       "      <th></th>\n",
       "      <th>sourceid</th>\n",
       "      <th>dstid</th>\n",
       "      <th>hod</th>\n",
       "      <th>mean_travel_time</th>\n",
       "      <th>standard_deviation_travel_time</th>\n",
       "      <th>geometric_mean_travel_time</th>\n",
       "      <th>geometric_standard_deviation_travel_time</th>\n",
       "    </tr>\n",
       "  </thead>\n",
       "  <tbody>\n",
       "    <tr>\n",
       "      <td>3550</td>\n",
       "      <td>837</td>\n",
       "      <td>875</td>\n",
       "      <td>18</td>\n",
       "      <td>1393.31</td>\n",
       "      <td>449.05</td>\n",
       "      <td>1335.93</td>\n",
       "      <td>1.32</td>\n",
       "    </tr>\n",
       "    <tr>\n",
       "      <td>3567</td>\n",
       "      <td>825</td>\n",
       "      <td>995</td>\n",
       "      <td>18</td>\n",
       "      <td>1383.30</td>\n",
       "      <td>272.89</td>\n",
       "      <td>1355.85</td>\n",
       "      <td>1.22</td>\n",
       "    </tr>\n",
       "    <tr>\n",
       "      <td>4440</td>\n",
       "      <td>637</td>\n",
       "      <td>1002</td>\n",
       "      <td>10</td>\n",
       "      <td>1510.11</td>\n",
       "      <td>348.65</td>\n",
       "      <td>1473.44</td>\n",
       "      <td>1.24</td>\n",
       "    </tr>\n",
       "    <tr>\n",
       "      <td>8760</td>\n",
       "      <td>384</td>\n",
       "      <td>806</td>\n",
       "      <td>22</td>\n",
       "      <td>1952.67</td>\n",
       "      <td>546.02</td>\n",
       "      <td>1881.95</td>\n",
       "      <td>1.31</td>\n",
       "    </tr>\n",
       "    <tr>\n",
       "      <td>10274</td>\n",
       "      <td>1002</td>\n",
       "      <td>656</td>\n",
       "      <td>9</td>\n",
       "      <td>1502.75</td>\n",
       "      <td>317.97</td>\n",
       "      <td>1475.48</td>\n",
       "      <td>1.20</td>\n",
       "    </tr>\n",
       "  </tbody>\n",
       "</table>\n",
       "</div>"
      ],
      "text/plain": [
       "       sourceid  dstid  hod  mean_travel_time  standard_deviation_travel_time  \\\n",
       "3550        837    875   18           1393.31                          449.05   \n",
       "3567        825    995   18           1383.30                          272.89   \n",
       "4440        637   1002   10           1510.11                          348.65   \n",
       "8760        384    806   22           1952.67                          546.02   \n",
       "10274      1002    656    9           1502.75                          317.97   \n",
       "\n",
       "       geometric_mean_travel_time  geometric_standard_deviation_travel_time  \n",
       "3550                      1335.93                                      1.32  \n",
       "3567                      1355.85                                      1.22  \n",
       "4440                      1473.44                                      1.24  \n",
       "8760                      1881.95                                      1.31  \n",
       "10274                     1475.48                                      1.20  "
      ]
     },
     "execution_count": 9,
     "metadata": {},
     "output_type": "execute_result"
    }
   ],
   "source": [
    "t = time.clock()\n",
    "df_trips_0 = dd.read_csv(path_uber_trips_0)\n",
    "df_trips_0 = df_trips_0.compute()\n",
    "df_trips_0 = df_trips_0[(df_trips_0[\"sourceid\"].isin(lista_agebs)) & df_trips_0[\"dstid\"].isin(lista_agebs)]\n",
    "print(\"load train: \" , time.clock()-t)\n",
    "df_trips_0.head()"
   ]
  },
  {
   "cell_type": "code",
   "execution_count": 10,
   "metadata": {},
   "outputs": [
    {
     "name": "stdout",
     "output_type": "stream",
     "text": [
      "load train:  107.91800200000003\n"
     ]
    },
    {
     "data": {
      "text/html": [
       "<div>\n",
       "<style scoped>\n",
       "    .dataframe tbody tr th:only-of-type {\n",
       "        vertical-align: middle;\n",
       "    }\n",
       "\n",
       "    .dataframe tbody tr th {\n",
       "        vertical-align: top;\n",
       "    }\n",
       "\n",
       "    .dataframe thead th {\n",
       "        text-align: right;\n",
       "    }\n",
       "</style>\n",
       "<table border=\"1\" class=\"dataframe\">\n",
       "  <thead>\n",
       "    <tr style=\"text-align: right;\">\n",
       "      <th></th>\n",
       "      <th>sourceid</th>\n",
       "      <th>dstid</th>\n",
       "      <th>hod</th>\n",
       "      <th>mean_travel_time</th>\n",
       "      <th>standard_deviation_travel_time</th>\n",
       "      <th>geometric_mean_travel_time</th>\n",
       "      <th>geometric_standard_deviation_travel_time</th>\n",
       "    </tr>\n",
       "  </thead>\n",
       "  <tbody>\n",
       "    <tr>\n",
       "      <td>745</td>\n",
       "      <td>64</td>\n",
       "      <td>581</td>\n",
       "      <td>17</td>\n",
       "      <td>1918.42</td>\n",
       "      <td>430.38</td>\n",
       "      <td>1871.45</td>\n",
       "      <td>1.25</td>\n",
       "    </tr>\n",
       "    <tr>\n",
       "      <td>2645</td>\n",
       "      <td>1029</td>\n",
       "      <td>926</td>\n",
       "      <td>22</td>\n",
       "      <td>913.00</td>\n",
       "      <td>342.60</td>\n",
       "      <td>856.20</td>\n",
       "      <td>1.42</td>\n",
       "    </tr>\n",
       "    <tr>\n",
       "      <td>5023</td>\n",
       "      <td>810</td>\n",
       "      <td>767</td>\n",
       "      <td>22</td>\n",
       "      <td>1319.95</td>\n",
       "      <td>500.68</td>\n",
       "      <td>1242.42</td>\n",
       "      <td>1.40</td>\n",
       "    </tr>\n",
       "    <tr>\n",
       "      <td>12401</td>\n",
       "      <td>793</td>\n",
       "      <td>1093</td>\n",
       "      <td>13</td>\n",
       "      <td>1901.10</td>\n",
       "      <td>536.18</td>\n",
       "      <td>1827.43</td>\n",
       "      <td>1.33</td>\n",
       "    </tr>\n",
       "    <tr>\n",
       "      <td>17435</td>\n",
       "      <td>952</td>\n",
       "      <td>948</td>\n",
       "      <td>21</td>\n",
       "      <td>962.11</td>\n",
       "      <td>302.37</td>\n",
       "      <td>921.29</td>\n",
       "      <td>1.33</td>\n",
       "    </tr>\n",
       "  </tbody>\n",
       "</table>\n",
       "</div>"
      ],
      "text/plain": [
       "       sourceid  dstid  hod  mean_travel_time  standard_deviation_travel_time  \\\n",
       "745          64    581   17           1918.42                          430.38   \n",
       "2645       1029    926   22            913.00                          342.60   \n",
       "5023        810    767   22           1319.95                          500.68   \n",
       "12401       793   1093   13           1901.10                          536.18   \n",
       "17435       952    948   21            962.11                          302.37   \n",
       "\n",
       "       geometric_mean_travel_time  geometric_standard_deviation_travel_time  \n",
       "745                       1871.45                                      1.25  \n",
       "2645                       856.20                                      1.42  \n",
       "5023                      1242.42                                      1.40  \n",
       "12401                     1827.43                                      1.33  \n",
       "17435                      921.29                                      1.33  "
      ]
     },
     "execution_count": 10,
     "metadata": {},
     "output_type": "execute_result"
    }
   ],
   "source": [
    "t = time.clock()\n",
    "df_trips_1 = dd.read_csv(path_uber_trips_1)\n",
    "df_trips_1 = df_trips_1.compute()\n",
    "df_trips_1 = df_trips_1[(df_trips_1[\"sourceid\"].isin(lista_agebs)) & df_trips_1[\"dstid\"].isin(lista_agebs)]\n",
    "\n",
    "print(\"load train: \" , time.clock()-t)\n",
    "df_trips_1.head()"
   ]
  },
  {
   "cell_type": "markdown",
   "metadata": {},
   "source": [
    "##### Append"
   ]
  },
  {
   "cell_type": "code",
   "execution_count": 11,
   "metadata": {},
   "outputs": [],
   "source": [
    "df_trips = df_trips.append(df_trips_0) \n",
    "df_trips = df_trips.append(df_trips_1) "
   ]
  },
  {
   "cell_type": "code",
   "execution_count": 12,
   "metadata": {},
   "outputs": [],
   "source": [
    "del df_trips_0\n",
    "del df_trips_1"
   ]
  },
  {
   "cell_type": "markdown",
   "metadata": {},
   "source": [
    "### Gb"
   ]
  },
  {
   "cell_type": "code",
   "execution_count": 13,
   "metadata": {},
   "outputs": [],
   "source": [
    "df_trips = df_trips.groupby([\n",
    "    'sourceid','dstid',\"hod\"])[[\"mean_travel_time\",\"standard_deviation_travel_time\",]].mean().reset_index(drop=False)"
   ]
  },
  {
   "cell_type": "code",
   "execution_count": 14,
   "metadata": {},
   "outputs": [
    {
     "data": {
      "text/plain": [
       "(59622, 5)"
      ]
     },
     "execution_count": 14,
     "metadata": {},
     "output_type": "execute_result"
    }
   ],
   "source": [
    "df_trips.shape"
   ]
  },
  {
   "cell_type": "code",
   "execution_count": 15,
   "metadata": {},
   "outputs": [
    {
     "data": {
      "text/html": [
       "<div>\n",
       "<style scoped>\n",
       "    .dataframe tbody tr th:only-of-type {\n",
       "        vertical-align: middle;\n",
       "    }\n",
       "\n",
       "    .dataframe tbody tr th {\n",
       "        vertical-align: top;\n",
       "    }\n",
       "\n",
       "    .dataframe thead th {\n",
       "        text-align: right;\n",
       "    }\n",
       "</style>\n",
       "<table border=\"1\" class=\"dataframe\">\n",
       "  <thead>\n",
       "    <tr style=\"text-align: right;\">\n",
       "      <th></th>\n",
       "      <th>sourceid</th>\n",
       "      <th>dstid</th>\n",
       "      <th>hod</th>\n",
       "      <th>mean_travel_time</th>\n",
       "      <th>standard_deviation_travel_time</th>\n",
       "    </tr>\n",
       "  </thead>\n",
       "  <tbody>\n",
       "    <tr>\n",
       "      <td>0</td>\n",
       "      <td>37</td>\n",
       "      <td>204</td>\n",
       "      <td>0</td>\n",
       "      <td>1422.04</td>\n",
       "      <td>249.155</td>\n",
       "    </tr>\n",
       "    <tr>\n",
       "      <td>1</td>\n",
       "      <td>37</td>\n",
       "      <td>204</td>\n",
       "      <td>3</td>\n",
       "      <td>2005.00</td>\n",
       "      <td>706.710</td>\n",
       "    </tr>\n",
       "    <tr>\n",
       "      <td>2</td>\n",
       "      <td>37</td>\n",
       "      <td>204</td>\n",
       "      <td>4</td>\n",
       "      <td>1792.55</td>\n",
       "      <td>756.240</td>\n",
       "    </tr>\n",
       "    <tr>\n",
       "      <td>3</td>\n",
       "      <td>37</td>\n",
       "      <td>204</td>\n",
       "      <td>5</td>\n",
       "      <td>1946.88</td>\n",
       "      <td>471.540</td>\n",
       "    </tr>\n",
       "    <tr>\n",
       "      <td>4</td>\n",
       "      <td>37</td>\n",
       "      <td>204</td>\n",
       "      <td>6</td>\n",
       "      <td>1893.89</td>\n",
       "      <td>556.570</td>\n",
       "    </tr>\n",
       "  </tbody>\n",
       "</table>\n",
       "</div>"
      ],
      "text/plain": [
       "   sourceid  dstid  hod  mean_travel_time  standard_deviation_travel_time\n",
       "0        37    204    0           1422.04                         249.155\n",
       "1        37    204    3           2005.00                         706.710\n",
       "2        37    204    4           1792.55                         756.240\n",
       "3        37    204    5           1946.88                         471.540\n",
       "4        37    204    6           1893.89                         556.570"
      ]
     },
     "execution_count": 15,
     "metadata": {},
     "output_type": "execute_result"
    }
   ],
   "source": [
    "df_trips.head()"
   ]
  },
  {
   "cell_type": "raw",
   "metadata": {},
   "source": [
    "lista_agebs.sort()\n",
    "lista_agebs"
   ]
  },
  {
   "cell_type": "raw",
   "metadata": {},
   "source": [
    "list(set(lista_agebs) - set(df_trips[\"dstid\"].unique()))"
   ]
  },
  {
   "cell_type": "code",
   "execution_count": 16,
   "metadata": {},
   "outputs": [
    {
     "data": {
      "text/plain": [
       "[5,\n",
       " 11,\n",
       " 1356,\n",
       " 45,\n",
       " 1211,\n",
       " 783,\n",
       " 1360,\n",
       " 49,\n",
       " 401,\n",
       " 533,\n",
       " 1337,\n",
       " 444,\n",
       " 187,\n",
       " 1214,\n",
       " 1341,\n",
       " 1182]"
      ]
     },
     "execution_count": 16,
     "metadata": {},
     "output_type": "execute_result"
    }
   ],
   "source": [
    "list(set(lista_agebs) - set(df_trips[\"sourceid\"].unique()))"
   ]
  },
  {
   "cell_type": "code",
   "execution_count": 17,
   "metadata": {},
   "outputs": [],
   "source": [
    "df_trips = df_trips[(df_trips[\"sourceid\"].isin(lista_agebs)) & df_trips[\"dstid\"].isin(lista_agebs)]"
   ]
  },
  {
   "cell_type": "code",
   "execution_count": 18,
   "metadata": {},
   "outputs": [],
   "source": [
    "#df_trips.to_csv('./data/procesado/mexico_city-agebs-2019-2-All-HourlyAggregate_filter.csv')"
   ]
  },
  {
   "cell_type": "code",
   "execution_count": 19,
   "metadata": {},
   "outputs": [],
   "source": [
    "df_trips.reset_index(drop=True, inplace=True)"
   ]
  },
  {
   "cell_type": "code",
   "execution_count": 20,
   "metadata": {},
   "outputs": [
    {
     "data": {
      "text/html": [
       "<div>\n",
       "<style scoped>\n",
       "    .dataframe tbody tr th:only-of-type {\n",
       "        vertical-align: middle;\n",
       "    }\n",
       "\n",
       "    .dataframe tbody tr th {\n",
       "        vertical-align: top;\n",
       "    }\n",
       "\n",
       "    .dataframe thead th {\n",
       "        text-align: right;\n",
       "    }\n",
       "</style>\n",
       "<table border=\"1\" class=\"dataframe\">\n",
       "  <thead>\n",
       "    <tr style=\"text-align: right;\">\n",
       "      <th></th>\n",
       "      <th>sourceid</th>\n",
       "      <th>dstid</th>\n",
       "      <th>hod</th>\n",
       "      <th>mean_travel_time</th>\n",
       "      <th>standard_deviation_travel_time</th>\n",
       "    </tr>\n",
       "  </thead>\n",
       "  <tbody>\n",
       "    <tr>\n",
       "      <td>0</td>\n",
       "      <td>37</td>\n",
       "      <td>204</td>\n",
       "      <td>0</td>\n",
       "      <td>1422.04</td>\n",
       "      <td>249.155</td>\n",
       "    </tr>\n",
       "    <tr>\n",
       "      <td>1</td>\n",
       "      <td>37</td>\n",
       "      <td>204</td>\n",
       "      <td>3</td>\n",
       "      <td>2005.00</td>\n",
       "      <td>706.710</td>\n",
       "    </tr>\n",
       "    <tr>\n",
       "      <td>2</td>\n",
       "      <td>37</td>\n",
       "      <td>204</td>\n",
       "      <td>4</td>\n",
       "      <td>1792.55</td>\n",
       "      <td>756.240</td>\n",
       "    </tr>\n",
       "    <tr>\n",
       "      <td>3</td>\n",
       "      <td>37</td>\n",
       "      <td>204</td>\n",
       "      <td>5</td>\n",
       "      <td>1946.88</td>\n",
       "      <td>471.540</td>\n",
       "    </tr>\n",
       "    <tr>\n",
       "      <td>4</td>\n",
       "      <td>37</td>\n",
       "      <td>204</td>\n",
       "      <td>6</td>\n",
       "      <td>1893.89</td>\n",
       "      <td>556.570</td>\n",
       "    </tr>\n",
       "  </tbody>\n",
       "</table>\n",
       "</div>"
      ],
      "text/plain": [
       "   sourceid  dstid  hod  mean_travel_time  standard_deviation_travel_time\n",
       "0        37    204    0           1422.04                         249.155\n",
       "1        37    204    3           2005.00                         706.710\n",
       "2        37    204    4           1792.55                         756.240\n",
       "3        37    204    5           1946.88                         471.540\n",
       "4        37    204    6           1893.89                         556.570"
      ]
     },
     "execution_count": 20,
     "metadata": {},
     "output_type": "execute_result"
    }
   ],
   "source": [
    "df_trips.head()"
   ]
  },
  {
   "cell_type": "code",
   "execution_count": 21,
   "metadata": {},
   "outputs": [
    {
     "data": {
      "text/plain": [
       "(59622, 5)"
      ]
     },
     "execution_count": 21,
     "metadata": {},
     "output_type": "execute_result"
    }
   ],
   "source": [
    "df_trips.shape"
   ]
  },
  {
   "cell_type": "markdown",
   "metadata": {},
   "source": [
    "### tiempo máximo y mínimos por viaje y hora.\n",
    "Suponemos una distribución normal con media 'mean_travel_time' y desviación estandar 'standard_deviation_travel_time>'"
   ]
  },
  {
   "cell_type": "code",
   "execution_count": 22,
   "metadata": {},
   "outputs": [
    {
     "data": {
      "text/html": [
       "<div>\n",
       "<style scoped>\n",
       "    .dataframe tbody tr th:only-of-type {\n",
       "        vertical-align: middle;\n",
       "    }\n",
       "\n",
       "    .dataframe tbody tr th {\n",
       "        vertical-align: top;\n",
       "    }\n",
       "\n",
       "    .dataframe thead th {\n",
       "        text-align: right;\n",
       "    }\n",
       "</style>\n",
       "<table border=\"1\" class=\"dataframe\">\n",
       "  <thead>\n",
       "    <tr style=\"text-align: right;\">\n",
       "      <th></th>\n",
       "      <th>sourceid</th>\n",
       "      <th>dstid</th>\n",
       "      <th>hod</th>\n",
       "      <th>mean_travel_time</th>\n",
       "      <th>standard_deviation_travel_time</th>\n",
       "    </tr>\n",
       "  </thead>\n",
       "  <tbody>\n",
       "    <tr>\n",
       "      <td>0</td>\n",
       "      <td>37</td>\n",
       "      <td>204</td>\n",
       "      <td>0</td>\n",
       "      <td>1422.04</td>\n",
       "      <td>249.155</td>\n",
       "    </tr>\n",
       "    <tr>\n",
       "      <td>1</td>\n",
       "      <td>37</td>\n",
       "      <td>204</td>\n",
       "      <td>3</td>\n",
       "      <td>2005.00</td>\n",
       "      <td>706.710</td>\n",
       "    </tr>\n",
       "    <tr>\n",
       "      <td>2</td>\n",
       "      <td>37</td>\n",
       "      <td>204</td>\n",
       "      <td>4</td>\n",
       "      <td>1792.55</td>\n",
       "      <td>756.240</td>\n",
       "    </tr>\n",
       "    <tr>\n",
       "      <td>3</td>\n",
       "      <td>37</td>\n",
       "      <td>204</td>\n",
       "      <td>5</td>\n",
       "      <td>1946.88</td>\n",
       "      <td>471.540</td>\n",
       "    </tr>\n",
       "    <tr>\n",
       "      <td>4</td>\n",
       "      <td>37</td>\n",
       "      <td>204</td>\n",
       "      <td>6</td>\n",
       "      <td>1893.89</td>\n",
       "      <td>556.570</td>\n",
       "    </tr>\n",
       "  </tbody>\n",
       "</table>\n",
       "</div>"
      ],
      "text/plain": [
       "   sourceid  dstid  hod  mean_travel_time  standard_deviation_travel_time\n",
       "0        37    204    0           1422.04                         249.155\n",
       "1        37    204    3           2005.00                         706.710\n",
       "2        37    204    4           1792.55                         756.240\n",
       "3        37    204    5           1946.88                         471.540\n",
       "4        37    204    6           1893.89                         556.570"
      ]
     },
     "execution_count": 22,
     "metadata": {},
     "output_type": "execute_result"
    }
   ],
   "source": [
    "df_trips.head()"
   ]
  },
  {
   "cell_type": "code",
   "execution_count": 23,
   "metadata": {},
   "outputs": [],
   "source": [
    "def travel_min(mean,std):\n",
    "    min = scipy.stats.norm(mean, std).ppf(.10)\n",
    "    #max = scipy.stats.norm(mean, std).ppf(.90)\n",
    "    return(min)\n",
    "def travel_max(mean,std):\n",
    "    #min = scipy.stats.norm(mean, std).ppf(.10)\n",
    "    max = scipy.stats.norm(mean, std).ppf(.90)\n",
    "    return(max)"
   ]
  },
  {
   "cell_type": "code",
   "execution_count": 24,
   "metadata": {},
   "outputs": [],
   "source": [
    "df_trips['min_travel_time'] = 0\n",
    "df_trips['max_travel_time'] = 0"
   ]
  },
  {
   "cell_type": "code",
   "execution_count": 25,
   "metadata": {},
   "outputs": [],
   "source": [
    "df_trips['min_travel_time'] =  df_trips.apply(\n",
    "    lambda row : travel_min(row['mean_travel_time'], \n",
    "                            row['standard_deviation_travel_time']), axis = 1)"
   ]
  },
  {
   "cell_type": "code",
   "execution_count": 26,
   "metadata": {},
   "outputs": [],
   "source": [
    "df_trips['max_travel_time'] =  df_trips.apply(\n",
    "    lambda row : travel_max(row['mean_travel_time'], \n",
    "                            row['standard_deviation_travel_time']), axis = 1)"
   ]
  },
  {
   "cell_type": "code",
   "execution_count": 27,
   "metadata": {},
   "outputs": [
    {
     "data": {
      "text/html": [
       "<div>\n",
       "<style scoped>\n",
       "    .dataframe tbody tr th:only-of-type {\n",
       "        vertical-align: middle;\n",
       "    }\n",
       "\n",
       "    .dataframe tbody tr th {\n",
       "        vertical-align: top;\n",
       "    }\n",
       "\n",
       "    .dataframe thead th {\n",
       "        text-align: right;\n",
       "    }\n",
       "</style>\n",
       "<table border=\"1\" class=\"dataframe\">\n",
       "  <thead>\n",
       "    <tr style=\"text-align: right;\">\n",
       "      <th></th>\n",
       "      <th>sourceid</th>\n",
       "      <th>dstid</th>\n",
       "      <th>hod</th>\n",
       "      <th>mean_travel_time</th>\n",
       "      <th>standard_deviation_travel_time</th>\n",
       "      <th>min_travel_time</th>\n",
       "      <th>max_travel_time</th>\n",
       "    </tr>\n",
       "  </thead>\n",
       "  <tbody>\n",
       "    <tr>\n",
       "      <td>0</td>\n",
       "      <td>37</td>\n",
       "      <td>204</td>\n",
       "      <td>0</td>\n",
       "      <td>1422.04</td>\n",
       "      <td>249.155</td>\n",
       "      <td>1102.735020</td>\n",
       "      <td>1741.344980</td>\n",
       "    </tr>\n",
       "    <tr>\n",
       "      <td>1</td>\n",
       "      <td>37</td>\n",
       "      <td>204</td>\n",
       "      <td>3</td>\n",
       "      <td>2005.00</td>\n",
       "      <td>706.710</td>\n",
       "      <td>1099.314693</td>\n",
       "      <td>2910.685307</td>\n",
       "    </tr>\n",
       "    <tr>\n",
       "      <td>2</td>\n",
       "      <td>37</td>\n",
       "      <td>204</td>\n",
       "      <td>4</td>\n",
       "      <td>1792.55</td>\n",
       "      <td>756.240</td>\n",
       "      <td>823.389444</td>\n",
       "      <td>2761.710556</td>\n",
       "    </tr>\n",
       "    <tr>\n",
       "      <td>3</td>\n",
       "      <td>37</td>\n",
       "      <td>204</td>\n",
       "      <td>5</td>\n",
       "      <td>1946.88</td>\n",
       "      <td>471.540</td>\n",
       "      <td>1342.577175</td>\n",
       "      <td>2551.182825</td>\n",
       "    </tr>\n",
       "    <tr>\n",
       "      <td>4</td>\n",
       "      <td>37</td>\n",
       "      <td>204</td>\n",
       "      <td>6</td>\n",
       "      <td>1893.89</td>\n",
       "      <td>556.570</td>\n",
       "      <td>1180.616845</td>\n",
       "      <td>2607.163155</td>\n",
       "    </tr>\n",
       "  </tbody>\n",
       "</table>\n",
       "</div>"
      ],
      "text/plain": [
       "   sourceid  dstid  hod  mean_travel_time  standard_deviation_travel_time  \\\n",
       "0        37    204    0           1422.04                         249.155   \n",
       "1        37    204    3           2005.00                         706.710   \n",
       "2        37    204    4           1792.55                         756.240   \n",
       "3        37    204    5           1946.88                         471.540   \n",
       "4        37    204    6           1893.89                         556.570   \n",
       "\n",
       "   min_travel_time  max_travel_time  \n",
       "0      1102.735020      1741.344980  \n",
       "1      1099.314693      2910.685307  \n",
       "2       823.389444      2761.710556  \n",
       "3      1342.577175      2551.182825  \n",
       "4      1180.616845      2607.163155  "
      ]
     },
     "execution_count": 27,
     "metadata": {},
     "output_type": "execute_result"
    }
   ],
   "source": [
    "df_trips.head()"
   ]
  },
  {
   "cell_type": "markdown",
   "metadata": {},
   "source": [
    "## Definimos periodos del día para non graficar todas las horas:"
   ]
  },
  {
   "cell_type": "code",
   "execution_count": 28,
   "metadata": {},
   "outputs": [],
   "source": [
    "def periodo_hora(row):\n",
    "    if row in [7,8,9]:\n",
    "        return \"7-10\"\n",
    "    elif row in[10,11,12]:\n",
    "        return \"10-13\"\n",
    "    elif row in [13,14,15]:\n",
    "        return \"13-16\"\n",
    "    elif row in [16,17,18]:\n",
    "        return \"16-19\"\n",
    "    elif row in [19,20,21]:\n",
    "        return \"19-22\"\n",
    "    elif row in [22,23,0]:\n",
    "        return \"22-1\"\n",
    "    else:\n",
    "        return None\n",
    "\n",
    "df_trips[\"Hora_Retiro_bin\"] = df_trips[\"hod\"].apply(periodo_hora)\n",
    "\n",
    "df_trips = df_trips.dropna()"
   ]
  },
  {
   "cell_type": "code",
   "execution_count": 29,
   "metadata": {},
   "outputs": [
    {
     "data": {
      "text/html": [
       "<div>\n",
       "<style scoped>\n",
       "    .dataframe tbody tr th:only-of-type {\n",
       "        vertical-align: middle;\n",
       "    }\n",
       "\n",
       "    .dataframe tbody tr th {\n",
       "        vertical-align: top;\n",
       "    }\n",
       "\n",
       "    .dataframe thead th {\n",
       "        text-align: right;\n",
       "    }\n",
       "</style>\n",
       "<table border=\"1\" class=\"dataframe\">\n",
       "  <thead>\n",
       "    <tr style=\"text-align: right;\">\n",
       "      <th></th>\n",
       "      <th>sourceid</th>\n",
       "      <th>dstid</th>\n",
       "      <th>hod</th>\n",
       "      <th>mean_travel_time</th>\n",
       "      <th>standard_deviation_travel_time</th>\n",
       "      <th>min_travel_time</th>\n",
       "      <th>max_travel_time</th>\n",
       "      <th>Hora_Retiro_bin</th>\n",
       "    </tr>\n",
       "  </thead>\n",
       "  <tbody>\n",
       "    <tr>\n",
       "      <td>0</td>\n",
       "      <td>37</td>\n",
       "      <td>204</td>\n",
       "      <td>0</td>\n",
       "      <td>1422.040</td>\n",
       "      <td>249.155</td>\n",
       "      <td>1102.735020</td>\n",
       "      <td>1741.344980</td>\n",
       "      <td>22-1</td>\n",
       "    </tr>\n",
       "    <tr>\n",
       "      <td>5</td>\n",
       "      <td>37</td>\n",
       "      <td>204</td>\n",
       "      <td>7</td>\n",
       "      <td>1823.000</td>\n",
       "      <td>375.840</td>\n",
       "      <td>1341.341660</td>\n",
       "      <td>2304.658340</td>\n",
       "      <td>7-10</td>\n",
       "    </tr>\n",
       "    <tr>\n",
       "      <td>6</td>\n",
       "      <td>37</td>\n",
       "      <td>204</td>\n",
       "      <td>8</td>\n",
       "      <td>1920.180</td>\n",
       "      <td>635.330</td>\n",
       "      <td>1105.971844</td>\n",
       "      <td>2734.388156</td>\n",
       "      <td>7-10</td>\n",
       "    </tr>\n",
       "    <tr>\n",
       "      <td>7</td>\n",
       "      <td>37</td>\n",
       "      <td>204</td>\n",
       "      <td>9</td>\n",
       "      <td>1693.570</td>\n",
       "      <td>310.490</td>\n",
       "      <td>1295.661054</td>\n",
       "      <td>2091.478946</td>\n",
       "      <td>7-10</td>\n",
       "    </tr>\n",
       "    <tr>\n",
       "      <td>8</td>\n",
       "      <td>37</td>\n",
       "      <td>204</td>\n",
       "      <td>10</td>\n",
       "      <td>1722.045</td>\n",
       "      <td>393.405</td>\n",
       "      <td>1217.876206</td>\n",
       "      <td>2226.213794</td>\n",
       "      <td>10-13</td>\n",
       "    </tr>\n",
       "  </tbody>\n",
       "</table>\n",
       "</div>"
      ],
      "text/plain": [
       "   sourceid  dstid  hod  mean_travel_time  standard_deviation_travel_time  \\\n",
       "0        37    204    0          1422.040                         249.155   \n",
       "5        37    204    7          1823.000                         375.840   \n",
       "6        37    204    8          1920.180                         635.330   \n",
       "7        37    204    9          1693.570                         310.490   \n",
       "8        37    204   10          1722.045                         393.405   \n",
       "\n",
       "   min_travel_time  max_travel_time Hora_Retiro_bin  \n",
       "0      1102.735020      1741.344980            22-1  \n",
       "5      1341.341660      2304.658340            7-10  \n",
       "6      1105.971844      2734.388156            7-10  \n",
       "7      1295.661054      2091.478946            7-10  \n",
       "8      1217.876206      2226.213794           10-13  "
      ]
     },
     "execution_count": 29,
     "metadata": {},
     "output_type": "execute_result"
    }
   ],
   "source": [
    "df_trips.head()"
   ]
  },
  {
   "cell_type": "code",
   "execution_count": 32,
   "metadata": {},
   "outputs": [],
   "source": [
    "df_trips = df_trips.groupby([\"sourceid\",\"dstid\",\"Hora_Retiro_bin\"]).mean().reset_index(drop=False)"
   ]
  },
  {
   "cell_type": "markdown",
   "metadata": {},
   "source": [
    "## Convertimos la duración de los viajes de segundos a minutos:"
   ]
  },
  {
   "cell_type": "code",
   "execution_count": 33,
   "metadata": {},
   "outputs": [],
   "source": [
    "df_trips['max_travel_time']  = df_trips['max_travel_time'] / 60\n",
    "df_trips['min_travel_time']  = df_trips['min_travel_time'] / 60\n",
    "df_trips['mean_travel_time']  = df_trips['mean_travel_time'] / 60"
   ]
  },
  {
   "cell_type": "code",
   "execution_count": 34,
   "metadata": {},
   "outputs": [
    {
     "data": {
      "text/plain": [
       "Index(['sourceid', 'dstid', 'Hora_Retiro_bin', 'hod', 'mean_travel_time',\n",
       "       'standard_deviation_travel_time', 'min_travel_time', 'max_travel_time'],\n",
       "      dtype='object')"
      ]
     },
     "execution_count": 34,
     "metadata": {},
     "output_type": "execute_result"
    }
   ],
   "source": [
    "df_trips.columns"
   ]
  },
  {
   "cell_type": "markdown",
   "metadata": {},
   "source": [
    "seleccionamos columnnas"
   ]
  },
  {
   "cell_type": "code",
   "execution_count": 35,
   "metadata": {},
   "outputs": [],
   "source": [
    "df_trips = df_trips[['sourceid', 'dstid', 'hod', 'mean_travel_time', 'min_travel_time',\n",
    "       'max_travel_time', 'Hora_Retiro_bin']]"
   ]
  },
  {
   "cell_type": "code",
   "execution_count": 36,
   "metadata": {},
   "outputs": [
    {
     "data": {
      "text/html": [
       "<div>\n",
       "<style scoped>\n",
       "    .dataframe tbody tr th:only-of-type {\n",
       "        vertical-align: middle;\n",
       "    }\n",
       "\n",
       "    .dataframe tbody tr th {\n",
       "        vertical-align: top;\n",
       "    }\n",
       "\n",
       "    .dataframe thead th {\n",
       "        text-align: right;\n",
       "    }\n",
       "</style>\n",
       "<table border=\"1\" class=\"dataframe\">\n",
       "  <thead>\n",
       "    <tr style=\"text-align: right;\">\n",
       "      <th></th>\n",
       "      <th>sourceid</th>\n",
       "      <th>dstid</th>\n",
       "      <th>hod</th>\n",
       "      <th>mean_travel_time</th>\n",
       "      <th>min_travel_time</th>\n",
       "      <th>max_travel_time</th>\n",
       "      <th>Hora_Retiro_bin</th>\n",
       "    </tr>\n",
       "  </thead>\n",
       "  <tbody>\n",
       "    <tr>\n",
       "      <td>0</td>\n",
       "      <td>37</td>\n",
       "      <td>204</td>\n",
       "      <td>11.0</td>\n",
       "      <td>29.763528</td>\n",
       "      <td>19.350815</td>\n",
       "      <td>40.176241</td>\n",
       "      <td>10-13</td>\n",
       "    </tr>\n",
       "    <tr>\n",
       "      <td>1</td>\n",
       "      <td>37</td>\n",
       "      <td>204</td>\n",
       "      <td>14.0</td>\n",
       "      <td>33.085083</td>\n",
       "      <td>17.868296</td>\n",
       "      <td>48.301871</td>\n",
       "      <td>13-16</td>\n",
       "    </tr>\n",
       "    <tr>\n",
       "      <td>2</td>\n",
       "      <td>37</td>\n",
       "      <td>204</td>\n",
       "      <td>17.0</td>\n",
       "      <td>29.529481</td>\n",
       "      <td>19.691105</td>\n",
       "      <td>39.367858</td>\n",
       "      <td>16-19</td>\n",
       "    </tr>\n",
       "    <tr>\n",
       "      <td>3</td>\n",
       "      <td>37</td>\n",
       "      <td>204</td>\n",
       "      <td>20.0</td>\n",
       "      <td>30.265528</td>\n",
       "      <td>16.567806</td>\n",
       "      <td>43.963249</td>\n",
       "      <td>19-22</td>\n",
       "    </tr>\n",
       "    <tr>\n",
       "      <td>4</td>\n",
       "      <td>37</td>\n",
       "      <td>204</td>\n",
       "      <td>15.0</td>\n",
       "      <td>26.734778</td>\n",
       "      <td>18.039344</td>\n",
       "      <td>35.430212</td>\n",
       "      <td>22-1</td>\n",
       "    </tr>\n",
       "  </tbody>\n",
       "</table>\n",
       "</div>"
      ],
      "text/plain": [
       "   sourceid  dstid   hod  mean_travel_time  min_travel_time  max_travel_time  \\\n",
       "0        37    204  11.0         29.763528        19.350815        40.176241   \n",
       "1        37    204  14.0         33.085083        17.868296        48.301871   \n",
       "2        37    204  17.0         29.529481        19.691105        39.367858   \n",
       "3        37    204  20.0         30.265528        16.567806        43.963249   \n",
       "4        37    204  15.0         26.734778        18.039344        35.430212   \n",
       "\n",
       "  Hora_Retiro_bin  \n",
       "0           10-13  \n",
       "1           13-16  \n",
       "2           16-19  \n",
       "3           19-22  \n",
       "4            22-1  "
      ]
     },
     "execution_count": 36,
     "metadata": {},
     "output_type": "execute_result"
    }
   ],
   "source": [
    "df_trips.head()"
   ]
  },
  {
   "cell_type": "code",
   "execution_count": 37,
   "metadata": {},
   "outputs": [],
   "source": [
    "df_trips.to_csv(\"../data/production_data/viajes_uber.csv\", index=False)"
   ]
  },
  {
   "cell_type": "code",
   "execution_count": 38,
   "metadata": {},
   "outputs": [
    {
     "ename": "SyntaxError",
     "evalue": "invalid syntax (<ipython-input-38-2fee4e9bf687>, line 1)",
     "output_type": "error",
     "traceback": [
      "\u001b[0;36m  File \u001b[0;32m\"<ipython-input-38-2fee4e9bf687>\"\u001b[0;36m, line \u001b[0;32m1\u001b[0m\n\u001b[0;31m    df_trips[df_trips[\"sourceid\"]==]\u001b[0m\n\u001b[0m                                   ^\u001b[0m\n\u001b[0;31mSyntaxError\u001b[0m\u001b[0;31m:\u001b[0m invalid syntax\n"
     ]
    }
   ],
   "source": [
    "df_trips[df_trips[\"sourceid\"]==]"
   ]
  },
  {
   "cell_type": "code",
   "execution_count": null,
   "metadata": {},
   "outputs": [],
   "source": []
  }
 ],
 "metadata": {
  "kernelspec": {
   "display_name": "env_ecobici",
   "language": "python",
   "name": "env_ecobici"
  },
  "language_info": {
   "codemirror_mode": {
    "name": "ipython",
    "version": 3
   },
   "file_extension": ".py",
   "mimetype": "text/x-python",
   "name": "python",
   "nbconvert_exporter": "python",
   "pygments_lexer": "ipython3",
   "version": "3.6.8"
  }
 },
 "nbformat": 4,
 "nbformat_minor": 4
}
