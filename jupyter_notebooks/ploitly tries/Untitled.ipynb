{
 "cells": [
  {
   "cell_type": "markdown",
   "metadata": {},
   "source": [
    "## función para devolver las imagenes de los cascos segunn el porcenntaje de los usuarios"
   ]
  },
  {
   "cell_type": "code",
   "execution_count": 3,
   "metadata": {},
   "outputs": [],
   "source": [
    "import pandas as pd"
   ]
  },
  {
   "cell_type": "code",
   "execution_count": 14,
   "metadata": {},
   "outputs": [
    {
     "data": {
      "text/html": [
       "<div>\n",
       "<style scoped>\n",
       "    .dataframe tbody tr th:only-of-type {\n",
       "        vertical-align: middle;\n",
       "    }\n",
       "\n",
       "    .dataframe tbody tr th {\n",
       "        vertical-align: top;\n",
       "    }\n",
       "\n",
       "    .dataframe thead th {\n",
       "        text-align: right;\n",
       "    }\n",
       "</style>\n",
       "<table border=\"1\" class=\"dataframe\">\n",
       "  <thead>\n",
       "    <tr style=\"text-align: right;\">\n",
       "      <th></th>\n",
       "      <th>CVE_AGEB_arribo_</th>\n",
       "      <th>CVE_AGEB_retiro_</th>\n",
       "      <th>Hora_Retiro_bin_</th>\n",
       "      <th>Edad_Usuario_count</th>\n",
       "      <th>Edad_Usuario_mean</th>\n",
       "      <th>duracion_viaje_minutos_mean</th>\n",
       "      <th>duracion_viaje_minutos_min</th>\n",
       "      <th>duracion_viaje_minutos_max</th>\n",
       "      <th>Genero_Usuario_F_sum</th>\n",
       "      <th>Genero_Usuario_M_sum</th>\n",
       "      <th>porcentage_hombres</th>\n",
       "      <th>porcentage_mujeres</th>\n",
       "    </tr>\n",
       "  </thead>\n",
       "  <tbody>\n",
       "    <tr>\n",
       "      <td>0</td>\n",
       "      <td>5</td>\n",
       "      <td>5</td>\n",
       "      <td>10-13</td>\n",
       "      <td>279</td>\n",
       "      <td>40.537634</td>\n",
       "      <td>9.942652</td>\n",
       "      <td>1</td>\n",
       "      <td>57</td>\n",
       "      <td>64.0</td>\n",
       "      <td>215.0</td>\n",
       "      <td>8.0</td>\n",
       "      <td>2.0</td>\n",
       "    </tr>\n",
       "    <tr>\n",
       "      <td>1</td>\n",
       "      <td>5</td>\n",
       "      <td>5</td>\n",
       "      <td>13-16</td>\n",
       "      <td>342</td>\n",
       "      <td>40.897661</td>\n",
       "      <td>9.418129</td>\n",
       "      <td>1</td>\n",
       "      <td>57</td>\n",
       "      <td>109.0</td>\n",
       "      <td>233.0</td>\n",
       "      <td>7.0</td>\n",
       "      <td>3.0</td>\n",
       "    </tr>\n",
       "    <tr>\n",
       "      <td>2</td>\n",
       "      <td>5</td>\n",
       "      <td>5</td>\n",
       "      <td>16-19</td>\n",
       "      <td>336</td>\n",
       "      <td>37.970238</td>\n",
       "      <td>10.636905</td>\n",
       "      <td>1</td>\n",
       "      <td>49</td>\n",
       "      <td>88.0</td>\n",
       "      <td>248.0</td>\n",
       "      <td>7.0</td>\n",
       "      <td>3.0</td>\n",
       "    </tr>\n",
       "    <tr>\n",
       "      <td>3</td>\n",
       "      <td>5</td>\n",
       "      <td>5</td>\n",
       "      <td>19-22</td>\n",
       "      <td>222</td>\n",
       "      <td>36.472973</td>\n",
       "      <td>9.783784</td>\n",
       "      <td>0</td>\n",
       "      <td>51</td>\n",
       "      <td>45.0</td>\n",
       "      <td>177.0</td>\n",
       "      <td>8.0</td>\n",
       "      <td>2.0</td>\n",
       "    </tr>\n",
       "    <tr>\n",
       "      <td>4</td>\n",
       "      <td>5</td>\n",
       "      <td>5</td>\n",
       "      <td>22-1</td>\n",
       "      <td>52</td>\n",
       "      <td>33.884615</td>\n",
       "      <td>13.326923</td>\n",
       "      <td>2</td>\n",
       "      <td>47</td>\n",
       "      <td>3.0</td>\n",
       "      <td>49.0</td>\n",
       "      <td>9.0</td>\n",
       "      <td>1.0</td>\n",
       "    </tr>\n",
       "  </tbody>\n",
       "</table>\n",
       "</div>"
      ],
      "text/plain": [
       "   CVE_AGEB_arribo_  CVE_AGEB_retiro_ Hora_Retiro_bin_  Edad_Usuario_count  \\\n",
       "0                 5                 5            10-13                 279   \n",
       "1                 5                 5            13-16                 342   \n",
       "2                 5                 5            16-19                 336   \n",
       "3                 5                 5            19-22                 222   \n",
       "4                 5                 5             22-1                  52   \n",
       "\n",
       "   Edad_Usuario_mean  duracion_viaje_minutos_mean  duracion_viaje_minutos_min  \\\n",
       "0          40.537634                     9.942652                           1   \n",
       "1          40.897661                     9.418129                           1   \n",
       "2          37.970238                    10.636905                           1   \n",
       "3          36.472973                     9.783784                           0   \n",
       "4          33.884615                    13.326923                           2   \n",
       "\n",
       "   duracion_viaje_minutos_max  Genero_Usuario_F_sum  Genero_Usuario_M_sum  \\\n",
       "0                          57                  64.0                 215.0   \n",
       "1                          57                 109.0                 233.0   \n",
       "2                          49                  88.0                 248.0   \n",
       "3                          51                  45.0                 177.0   \n",
       "4                          47                   3.0                  49.0   \n",
       "\n",
       "   porcentage_hombres  porcentage_mujeres  \n",
       "0                 8.0                 2.0  \n",
       "1                 7.0                 3.0  \n",
       "2                 7.0                 3.0  \n",
       "3                 8.0                 2.0  \n",
       "4                 9.0                 1.0  "
      ]
     },
     "execution_count": 14,
     "metadata": {},
     "output_type": "execute_result"
    }
   ],
   "source": [
    "df_ecobici = pd.read_csv(\"../../data/production_data/viajes_ecobici.csv\")\n",
    "df_ecobici.head()"
   ]
  },
  {
   "cell_type": "code",
   "execution_count": 16,
   "metadata": {},
   "outputs": [],
   "source": [
    "CVE_AGEB_arribo_ = 745\n",
    "CVE_AGEB_retiro_ = 120"
   ]
  },
  {
   "cell_type": "code",
   "execution_count": 39,
   "metadata": {},
   "outputs": [],
   "source": [
    "def nombre_archivo(CVE_AGEB_arribo_, CVE_AGEB_retiro_):\n",
    "    \n",
    "    \"\"\"\n",
    "    info\n",
    "    \"\"\"\n",
    "    \n",
    "    \n",
    "    query_genero = df_ecobici[(df_ecobici[\"CVE_AGEB_arribo_\"]==CVE_AGEB_arribo_) & \n",
    "           ( df_ecobici[\"CVE_AGEB_retiro_\"]==CVE_AGEB_retiro_)][[\"porcentage_hombres\", \"porcentage_mujeres\"]].mean().round().astype(int)\n",
    "    numero_hombres = query_genero[0]\n",
    "    \n",
    "    if numero_hombres == 0:\n",
    "        archivo = \"10m-0h.png\"\n",
    "    elif numero_hombres == 1:\n",
    "        archivo = \"9m-1h.png\"\n",
    "    elif numero_hombres == 2:\n",
    "        archivo = \"8m-2h.png\"\n",
    "    elif numero_hombres == 3:\n",
    "        archivo = \"7m-3h.png\"\n",
    "    elif numero_hombres == 4:\n",
    "        archivo = \"6m-4h.png\"\n",
    "    elif numero_hombres == 5:\n",
    "        archivo = \"5m-5h.png\"\n",
    "    elif numero_hombres == 6:\n",
    "        archivo = \"4m-6h.png\"\n",
    "    elif numero_hombres == 7:\n",
    "        archivo = \"3m-7h.png\"\n",
    "    elif numero_hombres == 8:\n",
    "        archivo = \"2m-8h.png\"\n",
    "    elif numero_hombres == 9:\n",
    "        archivo = \"1m-9h.png\"\n",
    "    elif numero_hombres == 10:\n",
    "        archivo = \"0m-1h.png\"\n",
    "        \n",
    "    return str(\"./assets/cascos/\" + archivo)"
   ]
  },
  {
   "cell_type": "code",
   "execution_count": 41,
   "metadata": {},
   "outputs": [
    {
     "data": {
      "text/plain": [
       "'./assets/cascos/6m-4h.png'"
      ]
     },
     "execution_count": 41,
     "metadata": {},
     "output_type": "execute_result"
    }
   ],
   "source": [
    "ejemplo_path = nombre_archivo(CVE_AGEB_arribo_, CVE_AGEB_retiro_)\n",
    "ejemplo_path"
   ]
  },
  {
   "cell_type": "code",
   "execution_count": 44,
   "metadata": {},
   "outputs": [
    {
     "name": "stdout",
     "output_type": "stream",
     "text": [
      "Populating the interactive namespace from numpy and matplotlib\n"
     ]
    },
    {
     "data": {
      "image/png": "[encoded data removed]",
      "text/plain": [
       "<Figure size 432x288 with 1 Axes>"
      ]
     },
     "metadata": {
      "needs_background": "light"
     },
     "output_type": "display_data"
    }
   ],
   "source": [
    "%pylab inline\n",
    "import matplotlib.pyplot as plt\n",
    "import matplotlib.image as mpimg\n",
    "img=mpimg.imread(str(\"../../\"+ejemplo_path))\n",
    "imgplot = plt.imshow(img)\n",
    "plt.show()"
   ]
  },
  {
   "cell_type": "code",
   "execution_count": null,
   "metadata": {},
   "outputs": [],
   "source": []
  }
 ],
 "metadata": {
  "kernelspec": {
   "display_name": "Python 3",
   "language": "python",
   "name": "python3"
  },
  "language_info": {
   "codemirror_mode": {
    "name": "ipython",
    "version": 3
   },
   "file_extension": ".py",
   "mimetype": "text/x-python",
   "name": "python",
   "nbconvert_exporter": "python",
   "pygments_lexer": "ipython3",
   "version": "3.7.4"
  }
 },
 "nbformat": 4,
 "nbformat_minor": 4
}
