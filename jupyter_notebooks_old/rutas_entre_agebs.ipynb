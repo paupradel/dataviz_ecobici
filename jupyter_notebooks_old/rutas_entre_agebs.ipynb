{
 "cells": [
  {
   "cell_type": "markdown",
   "metadata": {},
   "source": [
    "# Rutas entre AGEBS"
   ]
  },
  {
   "cell_type": "code",
   "execution_count": 1,
   "metadata": {},
   "outputs": [],
   "source": [
    "import pandas as pd\n",
    "import requests\n",
    "#from urllib2 import Request, urlopen\n",
    "import json\n",
    "from pandas.io.json import json_normalize\n",
    "import requests"
   ]
  },
  {
   "cell_type": "raw",
   "metadata": {},
   "source": [
    "df_centroides = pd.read_csv(\"./data/procesado/centroides_ecobici_con_ageb.csv\")\n",
    "df_centroides['CVE_AGEB'] = [''.join(filter(lambda x: x.isdigit(), row)) for row in df_centroides['CVE_AGEB']]\n",
    "df_centroides['CVE_AGEB'] = df_centroides['CVE_AGEB'].astype(int)\n",
    "df_centroides.head()"
   ]
  },
  {
   "cell_type": "raw",
   "metadata": {},
   "source": [
    "def localizacion(row):\n",
    "    coord = str( str(row[\"X\"]) + \",\" + str(row[\"Y\"])  )\n",
    "    return coord"
   ]
  },
  {
   "cell_type": "raw",
   "metadata": {},
   "source": [
    "df_centroides[\"coord\"] = df_centroides.apply(localizacion,axis=1).unique()"
   ]
  },
  {
   "cell_type": "raw",
   "metadata": {},
   "source": [
    "df_centroides.head()"
   ]
  },
  {
   "cell_type": "raw",
   "metadata": {},
   "source": [
    "Row_list =[] \n",
    "for index, rows in df_centroides.iterrows(): \n",
    "    # Create list for the current row \n",
    "    my_list =[rows.coord] \n",
    "      \n",
    "    # append the list to the final list \n",
    "    Row_list.append(my_list) "
   ]
  },
  {
   "cell_type": "raw",
   "metadata": {},
   "source": [
    "# Print the list \n",
    "Row_list = str(Row_list[:]).replace(\"'\",'')"
   ]
  },
  {
   "cell_type": "raw",
   "metadata": {},
   "source": [
    "cve_ageb = df_centroides[\"CVE_AGEB\"].unique().tolist()"
   ]
  },
  {
   "cell_type": "code",
   "execution_count": 4,
   "metadata": {},
   "outputs": [],
   "source": [
    "cve_ageb = [967,  45,  971,  219,  187,  933,  986,  204,  11,  5,  825,  581,  562,  558,  793,  365,  83,  420,  191,  596,  609,  613,  948,  844,  350,  384,  399,  702,  257,  755,  37,  242,  64,  577,  952,  740,  401,  416,  721,  736,  76,  806,  810,  238,  223,  1464,  1479,  926,  1303,  1411,  1430,  145,  945,  983,  1089,  930,  1178,  678,  1549,  1337,  1110,  752,  697,  70,  714,  748,  1182,  1197,  120,  1214,  1360,  1375,  138,  1426,  1445,  998,  1002,  818,  49,  729,  790,  803,  1106,  841,  856,  860,  875,  88,  894,  682,  733,  1318,  1322,  1341,  1356,  1534,  767,  95,  964,  1017,  1093,  822,  837,  798,  891,  68,  694,  711,  1029,  118,  1211,  1226,  887,  764,  478,  548,  482,  533,  622,  444,  603,  641,  707,  745,  75,  995,  1207,  783,  675,  779,  459,  463,  552,  571,  586,  590,  849,  1160,  1175,  637,  656,  660]\n",
    "centroides_ageb = [[-99.16810518354679,19.360244528835], [-99.16770135657872,19.398010149182802], [-99.16180171516051,19.3613694890059], [-99.1745058501712,19.3946362084185], [-99.1841825164285,19.3944651174964], [-99.1745227604989,19.3635101837996], [-99.1567655218959,19.360523366734], [-99.17615662012122,19.396219935897502], [-99.1588238124436,19.4011465000852], [-99.16281812555701,19.3991351258735], [-99.16432176344959,19.3691005997479], [-99.1736683185192,19.383418069386398], [-99.1829043504077,19.3812711841713], [-99.1863570575688,19.3833787672568], [-99.18307440505241,19.3721550700445], [-99.18417648342329,19.3866511414194], [-99.16174825599579,19.3692714191377], [-99.1585245920631,19.3851008864901], [-99.1799162855945,19.3917819665369], [-99.17220135081699,19.380663126214102], [-99.16800829680041,19.3803047150881], [-99.16275327893351,19.379013700944], [-99.17135859436961,19.3631268924592], [-99.15870679713758,19.366399076398498], [-99.1835573139373,19.3901409052017], [-99.17574620610071,19.389463053809], [-99.17074151892821,19.387438399850303], [-99.1825413042999,19.375957307564896], [-99.16021316462731,19.3915552170045], [-99.1653586268525,19.374092457028198], [-99.1794261648084,19.3867744615795], [-99.1644867182098,19.394336261689897], [-99.15770779065011,19.3978108747492], [-99.1788252623582,19.3813824588967], [-99.1660557249276,19.3629626046782], [-99.1692843498554,19.375164776679], [-99.1666167993859,19.386188477606], [-99.1626261681605,19.384646701479898], [-99.1740173093923,19.376864358897603], [-99.1729591742317,19.372103473309398], [-99.15950095466249,19.374029722655603], [-99.1759390698373,19.370594829917], [-99.1695951006529,19.367898366164102], [-99.16836677914671,19.3923339925074], [-99.1725220495512,19.391587586173397], [-99.16111012934309,19.4045508759976], [-99.15742864974831,19.405642524336], [-99.1729675114249,19.4283355784756], [-99.17961304793128,19.412768189876303], [-99.1800212688534,19.408281562883698], [-99.17019136790091,19.4039683120912], [-99.1650391074467,19.403814250687002], [-99.1698516512205,19.4248867021431], [-99.1713402670265,19.422542398994], [-99.1736781260865,19.4198767831719], [-99.17113334248621,19.4264074931123], [-99.1772799279531,19.4170801604088], [-99.1657959322454,19.4388733294622], [-99.15213990254021,19.420983764343], [-99.1739958596463,19.408715765878302], [-99.1566876416762,19.415570883585602], [-99.13395222914569,19.4359785096565], [-99.15939549779041,19.4371003736576], [-99.155748664116,19.436071766397898], [-99.1513639709028,19.4375758300553], [-99.1445393120031,19.432800529002897], [-99.1731735008682,19.416424463159398], [-99.1704182765842,19.412947026594697], [-99.1673120981994,19.4148180028065], [-99.1622096072436,19.4136209882094], [-99.16293704871892,19.4091159830446], [-99.1609763638244,19.4098178107145], [-99.15746725987101,19.4095227884506], [-99.17404745980879,19.4057713008364], [-99.1683332598769,19.4024559375344], [-99.1672874009963,19.421268486482898], [-99.1615550842301,19.420569132458198], [-99.1368123121592,19.430963354413198], [-99.1515343437888,19.446678236882], [-99.15351154855792,19.4344012215984], [-99.165203792822,19.4330346848317], [-99.15805249968521,19.430616989104198], [-99.16227520023291,19.4164689808477], [-99.1584254808811,19.4270166328901], [-99.154287581945,19.429506554875697], [-99.1501902913946,19.428832184616603], [-99.1450773502562,19.428104599713], [-99.1394229971221,19.428253952033103], [-99.1349531414308,19.4277321532309], [-99.1626758598059,19.438004516415102], [-99.14632211995159,19.4353422071569], [-99.17656720277,19.4112771832142], [-99.17411533251409,19.4131331459629], [-99.1697826697431,19.408661061413103], [-99.1657285214184,19.4084398381706], [-99.1505834260394,19.4233941334178], [-99.13852774560341,19.4341137473927], [-99.16391679830241,19.424915830400398], [-99.13774184643191,19.425267116442804], [-99.156598301629,19.4222408785733], [-99.1675035996032,19.4182570079526], [-99.1692202589747,19.431491019159697], [-99.1627516755308,19.4302974291647], [-99.18807857885228,19.4215607255642], [-99.18219963475191,19.415135351925002], [-99.1811775274267,19.4309247792496], [-99.1794637257247,19.432313295279602], [-99.17563884718528,19.4298895539956], [-99.18532639073221,19.4119657224799], [-99.17894952525481,19.404340425257896], [-99.18139999582529,19.398249260809802], [-99.17282473096691,19.401129552037002], [-99.2111949528555,19.427055627502803], [-99.1968180149668,19.4307609556653], [-99.1865099273011,19.4415733621728], [-99.20937346918959,19.442025542846398], [-99.18020783039249,19.4417673168313], [-99.21255708704969,19.4404022699577], [-99.20992121259441,19.4370850163474], [-99.2040191370709,19.442259352957198], [-99.1742122093302,19.435494356002398], [-99.19886406561491,19.4349298082255], [-99.1782632131183,19.4344945495099], [-99.20237537135851,19.430587256513398], [-99.19822641502209,19.429515004056398], [-99.2055523618058,19.4228242881101], [-99.1798160714596,19.400974350907397], [-99.1879304110564,19.4293483417115], [-99.1865889819244,19.433330339103], [-99.1938363683148,19.4287191680592], [-99.1976224216301,19.442571225808198], [-99.19254981781158,19.443852872831897], [-99.19718895857972,19.4394894983545], [-99.18992488264021,19.4393770446448], [-99.18151652023691,19.4380371672292], [-99.17508947522872,19.438052017112], [-99.2071846244746,19.4287260500784], [-99.1877425444306,19.4087211594352], [-99.1856788699288,19.4045962147922], [-99.20551041161079,19.434661160988], [-99.1935745581893,19.4348090975688], [-99.1884158521456,19.4356358195707]]"
   ]
  },
  {
   "cell_type": "code",
   "execution_count": 5,
   "metadata": {},
   "outputs": [
    {
     "data": {
      "text/plain": [
       "'-99.16770135657872, 19.398010149182802'"
      ]
     },
     "execution_count": 5,
     "metadata": {},
     "output_type": "execute_result"
    }
   ],
   "source": [
    "str(centroides_ageb[1])[1:-1]"
   ]
  },
  {
   "cell_type": "code",
   "execution_count": 11,
   "metadata": {},
   "outputs": [],
   "source": [
    "ageb_1 = 219\n",
    "ageb_2 = 204"
   ]
  },
  {
   "cell_type": "code",
   "execution_count": 12,
   "metadata": {},
   "outputs": [],
   "source": [
    "posicion_ageb_1 = cve_ageb.index(ageb_1)\n",
    "posicion_ageb_2 = cve_ageb.index(ageb_2)\n",
    "\n",
    "ageb_a = str(centroides_ageb[posicion_ageb_1])[1:-1]\n",
    "ageb_b = str(centroides_ageb[posicion_ageb_1])[1:-1]"
   ]
  },
  {
   "cell_type": "code",
   "execution_count": 13,
   "metadata": {},
   "outputs": [
    {
     "name": "stdout",
     "output_type": "stream",
     "text": [
      "200 OK\n",
      "{\"type\":\"FeatureCollection\",\"features\":[{\"bbox\":[-99.17441,19.395012,-99.17441,19.395012],\"type\":\"Feature\",\"properties\":{\"segments\":[{\"steps\":[{\"distance\":0.0,\"duration\":0.0,\"type\":11,\"instruction\":\"Head east\",\"name\":\"-\",\"way_points\":[0,1]}]}],\"summary\":{},\"way_points\":[0,0]},\"geometry\":{\"coordinates\":[[-99.17441,19.395012]],\"type\":\"LineString\"}}],\"bbox\":[-99.17441,19.395012,-99.17441,19.395012],\"metadata\":{\"attribution\":\"openrouteservice.org | OpenStreetMap contributors\",\"service\":\"routing\",\"timestamp\":1572674015523,\"query\":{\"coordinates\":[[-99.1745058501712,19.3946362084185],[-99.1745058501712,19.3946362084185]],\"profile\":\"cycling-regular\",\"format\":\"json\"},\"engine\":{\"version\":\"5.0.2\",\"build_date\":\"2019-09-21T10:39:30Z\"}}}\n"
     ]
    }
   ],
   "source": [
    "headers = {\n",
    "    'Accept': 'application/json, application/geo+json, application/gpx+xml, img/png; charset=utf-8',\n",
    "}\n",
    "call = requests.get('https://api.openrouteservice.org/v2/directions/cycling-regular?api_key=5b3ce3597851110001cf62480886938c484d4bd691b9f8022ac2a8f1&start=' + ageb_a + '&end=' + ageb_b, headers=headers)\n",
    "\n",
    "print(call.status_code, call.reason)\n",
    "print(call.text)"
   ]
  },
  {
   "cell_type": "code",
   "execution_count": 14,
   "metadata": {},
   "outputs": [],
   "source": [
    "json_str = json.dumps(call.json()[\"features\"])"
   ]
  },
  {
   "cell_type": "code",
   "execution_count": 15,
   "metadata": {},
   "outputs": [],
   "source": [
    "df_distances =  pd.read_json(json_str)\n",
    "\n",
    "#df_distances.index = df_centroides[\"CVE_AGEB\"]\n",
    "\n",
    "#df_distances.columns = [ageb_destino]\n",
    "\n",
    "#df_distances.reset_index(inplace=True)"
   ]
  },
  {
   "cell_type": "code",
   "execution_count": 16,
   "metadata": {},
   "outputs": [
    {
     "data": {
      "text/html": [
       "<div>\n",
       "<style scoped>\n",
       "    .dataframe tbody tr th:only-of-type {\n",
       "        vertical-align: middle;\n",
       "    }\n",
       "\n",
       "    .dataframe tbody tr th {\n",
       "        vertical-align: top;\n",
       "    }\n",
       "\n",
       "    .dataframe thead th {\n",
       "        text-align: right;\n",
       "    }\n",
       "</style>\n",
       "<table border=\"1\" class=\"dataframe\">\n",
       "  <thead>\n",
       "    <tr style=\"text-align: right;\">\n",
       "      <th></th>\n",
       "      <th>type</th>\n",
       "      <th>geometry</th>\n",
       "    </tr>\n",
       "  </thead>\n",
       "  <tbody>\n",
       "    <tr>\n",
       "      <td>0</td>\n",
       "      <td>Feature</td>\n",
       "      <td>{'coordinates': [[-99.17441, 19.395012]], 'typ...</td>\n",
       "    </tr>\n",
       "  </tbody>\n",
       "</table>\n",
       "</div>"
      ],
      "text/plain": [
       "      type                                           geometry\n",
       "0  Feature  {'coordinates': [[-99.17441, 19.395012]], 'typ..."
      ]
     },
     "execution_count": 16,
     "metadata": {},
     "output_type": "execute_result"
    }
   ],
   "source": [
    "df_distances[[\"type\",\"geometry\"]]"
   ]
  },
  {
   "cell_type": "markdown",
   "metadata": {},
   "source": [
    "### función para obtener rutas"
   ]
  },
  {
   "cell_type": "code",
   "execution_count": 20,
   "metadata": {},
   "outputs": [],
   "source": [
    "api_key = \"5b3ce3597851110001cf62480886938c484d4bd691b9f8022ac2a8f1\""
   ]
  },
  {
   "cell_type": "code",
   "execution_count": 21,
   "metadata": {},
   "outputs": [],
   "source": [
    "def rutas_entre_agebs(ageb_1,ageb_2):\n",
    "    \"\"\"\n",
    "    \n",
    "    \"\"\"\n",
    "    posicion_ageb_1 = cve_ageb.index(ageb_1)\n",
    "    posicion_ageb_2 = cve_ageb.index(ageb_2)\n",
    "    \n",
    "    ageb_a = str(centroides_ageb[posicion_ageb_1])[1:-1]\n",
    "    ageb_b = str(centroides_ageb[posicion_ageb_1])[1:-1]\n",
    "    \n",
    "    headers = {\n",
    "        'Accept': 'application/json, application/geo+json, application/gpx+xml, img/png; charset=utf-8',\n",
    "    }\n",
    "    call = requests.get('https://api.openrouteservice.org/v2/directions/cycling-regular?api_key=' + api_key + '&start=' + \n",
    "                        ageb_a + '&end=' + ageb_b, headers=headers)\n",
    "    \n",
    "    return call.text"
   ]
  },
  {
   "cell_type": "code",
   "execution_count": 22,
   "metadata": {},
   "outputs": [
    {
     "data": {
      "text/plain": [
       "'{\"type\":\"FeatureCollection\",\"features\":[{\"bbox\":[-99.17441,19.395012,-99.17441,19.395012],\"type\":\"Feature\",\"properties\":{\"segments\":[{\"steps\":[{\"distance\":0.0,\"duration\":0.0,\"type\":11,\"instruction\":\"Head east\",\"name\":\"-\",\"way_points\":[0,1]}]}],\"summary\":{},\"way_points\":[0,0]},\"geometry\":{\"coordinates\":[[-99.17441,19.395012]],\"type\":\"LineString\"}}],\"bbox\":[-99.17441,19.395012,-99.17441,19.395012],\"metadata\":{\"attribution\":\"openrouteservice.org | OpenStreetMap contributors\",\"service\":\"routing\",\"timestamp\":1572674246283,\"query\":{\"coordinates\":[[-99.1745058501712,19.3946362084185],[-99.1745058501712,19.3946362084185]],\"profile\":\"cycling-regular\",\"format\":\"json\"},\"engine\":{\"version\":\"5.0.2\",\"build_date\":\"2019-09-21T10:39:30Z\"}}}'"
      ]
     },
     "execution_count": 22,
     "metadata": {},
     "output_type": "execute_result"
    }
   ],
   "source": [
    "rutas_entre_agebs(219,187)"
   ]
  },
  {
   "cell_type": "code",
   "execution_count": null,
   "metadata": {},
   "outputs": [],
   "source": []
  }
 ],
 "metadata": {
  "kernelspec": {
   "display_name": "env_ecobici",
   "language": "python",
   "name": "env_ecobici"
  },
  "language_info": {
   "codemirror_mode": {
    "name": "ipython",
    "version": 3
   },
   "file_extension": ".py",
   "mimetype": "text/x-python",
   "name": "python",
   "nbconvert_exporter": "python",
   "pygments_lexer": "ipython3",
   "version": "3.6.8"
  }
 },
 "nbformat": 4,
 "nbformat_minor": 4
}
