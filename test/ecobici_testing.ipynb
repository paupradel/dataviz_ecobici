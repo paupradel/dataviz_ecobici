{
 "cells": [
  {
   "cell_type": "code",
   "execution_count": 1,
   "metadata": {},
   "outputs": [],
   "source": [
    "import geopandas as gpd\n",
    "import pandas as pd\n",
    "import json\n",
    "import plotly.graph_objects as go\n",
    "import urllib.request\n",
    "\n",
    "from shapely.geometry import LineString, MultiLineString"
   ]
  },
  {
   "cell_type": "markdown",
   "metadata": {},
   "source": [
    "# Mapa"
   ]
  },
  {
   "cell_type": "code",
   "execution_count": 2,
   "metadata": {},
   "outputs": [],
   "source": [
    "with open('data/mexico_city_agebs.json') as j_file:\n",
    "    jdata= json.load(j_file)"
   ]
  },
  {
   "cell_type": "code",
   "execution_count": 3,
   "metadata": {},
   "outputs": [],
   "source": [
    "def check_geojson(jdata):\n",
    "    if 'id' not in jdata['features'][0].keys():\n",
    "        if 'properties' in jdata['features'][0].keys():\n",
    "            if 'id' in jdata['features'][0]['properties'] and jdata['features'][0]['properties']['id'] is not None:\n",
    "                for k, feat in enumerate(jdata['features']):\n",
    "                    jdata['features'][k]['id']= feat['properties']['id']\n",
    "            else:\n",
    "                for k in range(len(jdata['features'])):\n",
    "                    jdata['features'][k]['id']= k\n",
    "    return jdata"
   ]
  },
  {
   "cell_type": "code",
   "execution_count": 4,
   "metadata": {},
   "outputs": [],
   "source": [
    "jdata= check_geojson(jdata)"
   ]
  },
  {
   "cell_type": "code",
   "execution_count": 5,
   "metadata": {},
   "outputs": [
    {
     "data": {
      "text/plain": [
       "'FeatureCollection'"
      ]
     },
     "execution_count": 5,
     "metadata": {},
     "output_type": "execute_result"
    }
   ],
   "source": [
    "jdata['type']"
   ]
  },
  {
   "cell_type": "code",
   "execution_count": 6,
   "metadata": {},
   "outputs": [
    {
     "data": {
      "text/plain": [
       "dict_keys(['type', 'properties', 'geometry', 'id'])"
      ]
     },
     "execution_count": 6,
     "metadata": {},
     "output_type": "execute_result"
    }
   ],
   "source": [
    "jdata['features'][0].keys()"
   ]
  },
  {
   "cell_type": "code",
   "execution_count": 7,
   "metadata": {},
   "outputs": [
    {
     "data": {
      "text/plain": [
       "{'CVE_AGEB': '0148',\n",
       " 'CVE_MUN': '051',\n",
       " 'CVE_LOC': '0',\n",
       " 'CVE_ENT': '15',\n",
       " 'MOVEMENT_ID': '8',\n",
       " 'DISPLAY_NAME': 'Movement Zone 8'}"
      ]
     },
     "execution_count": 7,
     "metadata": {},
     "output_type": "execute_result"
    }
   ],
   "source": [
    "jdata['features'][7]['properties']"
   ]
  },
  {
   "cell_type": "code",
   "execution_count": null,
   "metadata": {},
   "outputs": [],
   "source": [
    "trace = go.Choroplethmapbox(z=z,\n",
    "                            locations=geodf.id,\n",
    "                            colorscale='Viridis',\n",
    "                            colorbar=dict(thickness=20, ticklen=3),\n",
    "                            geojson=jdata,\n",
    "                            hoverinfo= 'all',\n",
    "                            marker_line_width=0.1, marker_opacity=0.5)"
   ]
  },
  {
   "cell_type": "code",
   "execution_count": null,
   "metadata": {},
   "outputs": [],
   "source": [
    "layout= go.Layout(title_text= 'Choroplethmapbox',\n",
    "                   title_x=0.5, width = 700, height=700,\n",
    "                   mapbox = dict(center= dict(lat=19.4284706,  lon=-99.1276627),\n",
    "                                 style= 'carto-positron',\n",
    "                                 zoom=11,\n",
    "                               ))"
   ]
  },
  {
   "cell_type": "code",
   "execution_count": null,
   "metadata": {},
   "outputs": [],
   "source": [
    "fig= go.Figure(data=[trace], layout=layout)\n",
    "fig.update_layout(mapbox_style= 'carto-positron')\n",
    "fig.show()"
   ]
  },
  {
   "cell_type": "markdown",
   "metadata": {},
   "source": [
    "# Sankey"
   ]
  },
  {
   "cell_type": "code",
   "execution_count": null,
   "metadata": {},
   "outputs": [],
   "source": [
    "df= pd.read_csv('data/ecobici_sankey.csv')"
   ]
  },
  {
   "cell_type": "code",
   "execution_count": 39,
   "metadata": {},
   "outputs": [
    {
     "data": {
      "text/html": [
       "<div>\n",
       "<style scoped>\n",
       "    .dataframe tbody tr th:only-of-type {\n",
       "        vertical-align: middle;\n",
       "    }\n",
       "\n",
       "    .dataframe tbody tr th {\n",
       "        vertical-align: top;\n",
       "    }\n",
       "\n",
       "    .dataframe thead th {\n",
       "        text-align: right;\n",
       "    }\n",
       "</style>\n",
       "<table border=\"1\" class=\"dataframe\">\n",
       "  <thead>\n",
       "    <tr style=\"text-align: right;\">\n",
       "      <th></th>\n",
       "      <th>CVE_AGEB_I</th>\n",
       "      <th>CVE_AGEB_F</th>\n",
       "      <th>ESTACION_I</th>\n",
       "      <th>ESTACION_F</th>\n",
       "      <th>VIAJES</th>\n",
       "      <th>MUJERES</th>\n",
       "      <th>HOMBRES</th>\n",
       "      <th>EDAD_PROMEDIO</th>\n",
       "    </tr>\n",
       "  </thead>\n",
       "  <tbody>\n",
       "    <tr>\n",
       "      <th>510</th>\n",
       "      <td>35</td>\n",
       "      <td>148</td>\n",
       "      <td>CCG</td>\n",
       "      <td>ZZA</td>\n",
       "      <td>21</td>\n",
       "      <td>2</td>\n",
       "      <td>8</td>\n",
       "      <td>35</td>\n",
       "    </tr>\n",
       "    <tr>\n",
       "      <th>511</th>\n",
       "      <td>35</td>\n",
       "      <td>148</td>\n",
       "      <td>CCG</td>\n",
       "      <td>ZZB</td>\n",
       "      <td>20</td>\n",
       "      <td>7</td>\n",
       "      <td>3</td>\n",
       "      <td>29</td>\n",
       "    </tr>\n",
       "    <tr>\n",
       "      <th>512</th>\n",
       "      <td>148</td>\n",
       "      <td>1142</td>\n",
       "      <td>ZZA</td>\n",
       "      <td>ABC</td>\n",
       "      <td>104</td>\n",
       "      <td>4</td>\n",
       "      <td>6</td>\n",
       "      <td>29</td>\n",
       "    </tr>\n",
       "    <tr>\n",
       "      <th>513</th>\n",
       "      <td>148</td>\n",
       "      <td>1142</td>\n",
       "      <td>ZZA</td>\n",
       "      <td>DEF</td>\n",
       "      <td>54</td>\n",
       "      <td>7</td>\n",
       "      <td>3</td>\n",
       "      <td>32</td>\n",
       "    </tr>\n",
       "    <tr>\n",
       "      <th>514</th>\n",
       "      <td>148</td>\n",
       "      <td>1142</td>\n",
       "      <td>ZZA</td>\n",
       "      <td>GHI</td>\n",
       "      <td>34</td>\n",
       "      <td>4</td>\n",
       "      <td>6</td>\n",
       "      <td>44</td>\n",
       "    </tr>\n",
       "    <tr>\n",
       "      <th>515</th>\n",
       "      <td>148</td>\n",
       "      <td>1142</td>\n",
       "      <td>ZZA</td>\n",
       "      <td>JKL</td>\n",
       "      <td>76</td>\n",
       "      <td>9</td>\n",
       "      <td>1</td>\n",
       "      <td>34</td>\n",
       "    </tr>\n",
       "    <tr>\n",
       "      <th>516</th>\n",
       "      <td>148</td>\n",
       "      <td>1142</td>\n",
       "      <td>ZZA</td>\n",
       "      <td>MNO</td>\n",
       "      <td>54</td>\n",
       "      <td>7</td>\n",
       "      <td>3</td>\n",
       "      <td>38</td>\n",
       "    </tr>\n",
       "    <tr>\n",
       "      <th>517</th>\n",
       "      <td>148</td>\n",
       "      <td>1142</td>\n",
       "      <td>ZZB</td>\n",
       "      <td>ABC</td>\n",
       "      <td>80</td>\n",
       "      <td>8</td>\n",
       "      <td>2</td>\n",
       "      <td>30</td>\n",
       "    </tr>\n",
       "    <tr>\n",
       "      <th>518</th>\n",
       "      <td>148</td>\n",
       "      <td>1142</td>\n",
       "      <td>ZZB</td>\n",
       "      <td>DEF</td>\n",
       "      <td>43</td>\n",
       "      <td>9</td>\n",
       "      <td>1</td>\n",
       "      <td>48</td>\n",
       "    </tr>\n",
       "    <tr>\n",
       "      <th>519</th>\n",
       "      <td>148</td>\n",
       "      <td>1142</td>\n",
       "      <td>ZZB</td>\n",
       "      <td>GHI</td>\n",
       "      <td>54</td>\n",
       "      <td>5</td>\n",
       "      <td>5</td>\n",
       "      <td>35</td>\n",
       "    </tr>\n",
       "    <tr>\n",
       "      <th>520</th>\n",
       "      <td>148</td>\n",
       "      <td>1142</td>\n",
       "      <td>ZZB</td>\n",
       "      <td>JKL</td>\n",
       "      <td>54</td>\n",
       "      <td>4</td>\n",
       "      <td>6</td>\n",
       "      <td>45</td>\n",
       "    </tr>\n",
       "    <tr>\n",
       "      <th>521</th>\n",
       "      <td>148</td>\n",
       "      <td>1142</td>\n",
       "      <td>ZZB</td>\n",
       "      <td>MNO</td>\n",
       "      <td>22</td>\n",
       "      <td>3</td>\n",
       "      <td>7</td>\n",
       "      <td>28</td>\n",
       "    </tr>\n",
       "    <tr>\n",
       "      <th>522</th>\n",
       "      <td>148</td>\n",
       "      <td>1012</td>\n",
       "      <td>ZZA</td>\n",
       "      <td>OPQ</td>\n",
       "      <td>22</td>\n",
       "      <td>3</td>\n",
       "      <td>7</td>\n",
       "      <td>28</td>\n",
       "    </tr>\n",
       "    <tr>\n",
       "      <th>523</th>\n",
       "      <td>148</td>\n",
       "      <td>1012</td>\n",
       "      <td>ZZA</td>\n",
       "      <td>RST</td>\n",
       "      <td>45</td>\n",
       "      <td>1</td>\n",
       "      <td>9</td>\n",
       "      <td>31</td>\n",
       "    </tr>\n",
       "    <tr>\n",
       "      <th>524</th>\n",
       "      <td>148</td>\n",
       "      <td>1012</td>\n",
       "      <td>ZZA</td>\n",
       "      <td>UVW</td>\n",
       "      <td>42</td>\n",
       "      <td>2</td>\n",
       "      <td>8</td>\n",
       "      <td>49</td>\n",
       "    </tr>\n",
       "    <tr>\n",
       "      <th>525</th>\n",
       "      <td>148</td>\n",
       "      <td>1012</td>\n",
       "      <td>ZZA</td>\n",
       "      <td>XYZ</td>\n",
       "      <td>25</td>\n",
       "      <td>8</td>\n",
       "      <td>2</td>\n",
       "      <td>36</td>\n",
       "    </tr>\n",
       "    <tr>\n",
       "      <th>526</th>\n",
       "      <td>148</td>\n",
       "      <td>1012</td>\n",
       "      <td>ZZB</td>\n",
       "      <td>OPQ</td>\n",
       "      <td>22</td>\n",
       "      <td>3</td>\n",
       "      <td>7</td>\n",
       "      <td>28</td>\n",
       "    </tr>\n",
       "    <tr>\n",
       "      <th>527</th>\n",
       "      <td>148</td>\n",
       "      <td>1012</td>\n",
       "      <td>ZZB</td>\n",
       "      <td>RST</td>\n",
       "      <td>45</td>\n",
       "      <td>1</td>\n",
       "      <td>9</td>\n",
       "      <td>31</td>\n",
       "    </tr>\n",
       "    <tr>\n",
       "      <th>528</th>\n",
       "      <td>148</td>\n",
       "      <td>1012</td>\n",
       "      <td>ZZB</td>\n",
       "      <td>UVW</td>\n",
       "      <td>42</td>\n",
       "      <td>2</td>\n",
       "      <td>8</td>\n",
       "      <td>49</td>\n",
       "    </tr>\n",
       "    <tr>\n",
       "      <th>529</th>\n",
       "      <td>148</td>\n",
       "      <td>1012</td>\n",
       "      <td>ZZB</td>\n",
       "      <td>XYZ</td>\n",
       "      <td>25</td>\n",
       "      <td>8</td>\n",
       "      <td>2</td>\n",
       "      <td>36</td>\n",
       "    </tr>\n",
       "    <tr>\n",
       "      <th>530</th>\n",
       "      <td>148</td>\n",
       "      <td>393</td>\n",
       "      <td>ZZA</td>\n",
       "      <td>AAB</td>\n",
       "      <td>46</td>\n",
       "      <td>4</td>\n",
       "      <td>6</td>\n",
       "      <td>30</td>\n",
       "    </tr>\n",
       "    <tr>\n",
       "      <th>531</th>\n",
       "      <td>148</td>\n",
       "      <td>393</td>\n",
       "      <td>ZZA</td>\n",
       "      <td>BBA</td>\n",
       "      <td>2</td>\n",
       "      <td>9</td>\n",
       "      <td>1</td>\n",
       "      <td>37</td>\n",
       "    </tr>\n",
       "    <tr>\n",
       "      <th>532</th>\n",
       "      <td>148</td>\n",
       "      <td>393</td>\n",
       "      <td>ZZA</td>\n",
       "      <td>AAC</td>\n",
       "      <td>74</td>\n",
       "      <td>5</td>\n",
       "      <td>5</td>\n",
       "      <td>26</td>\n",
       "    </tr>\n",
       "    <tr>\n",
       "      <th>533</th>\n",
       "      <td>148</td>\n",
       "      <td>393</td>\n",
       "      <td>ZZB</td>\n",
       "      <td>AAB</td>\n",
       "      <td>63</td>\n",
       "      <td>9</td>\n",
       "      <td>1</td>\n",
       "      <td>23</td>\n",
       "    </tr>\n",
       "    <tr>\n",
       "      <th>534</th>\n",
       "      <td>148</td>\n",
       "      <td>393</td>\n",
       "      <td>ZZB</td>\n",
       "      <td>BBA</td>\n",
       "      <td>12</td>\n",
       "      <td>3</td>\n",
       "      <td>7</td>\n",
       "      <td>38</td>\n",
       "    </tr>\n",
       "    <tr>\n",
       "      <th>535</th>\n",
       "      <td>148</td>\n",
       "      <td>393</td>\n",
       "      <td>ZZB</td>\n",
       "      <td>AAC</td>\n",
       "      <td>30</td>\n",
       "      <td>8</td>\n",
       "      <td>2</td>\n",
       "      <td>20</td>\n",
       "    </tr>\n",
       "    <tr>\n",
       "      <th>536</th>\n",
       "      <td>148</td>\n",
       "      <td>37</td>\n",
       "      <td>ZZA</td>\n",
       "      <td>CCA</td>\n",
       "      <td>98</td>\n",
       "      <td>9</td>\n",
       "      <td>1</td>\n",
       "      <td>39</td>\n",
       "    </tr>\n",
       "    <tr>\n",
       "      <th>537</th>\n",
       "      <td>148</td>\n",
       "      <td>37</td>\n",
       "      <td>ZZB</td>\n",
       "      <td>CCA</td>\n",
       "      <td>21</td>\n",
       "      <td>2</td>\n",
       "      <td>8</td>\n",
       "      <td>35</td>\n",
       "    </tr>\n",
       "    <tr>\n",
       "      <th>538</th>\n",
       "      <td>148</td>\n",
       "      <td>70</td>\n",
       "      <td>ZZA</td>\n",
       "      <td>DDA</td>\n",
       "      <td>74</td>\n",
       "      <td>5</td>\n",
       "      <td>5</td>\n",
       "      <td>26</td>\n",
       "    </tr>\n",
       "    <tr>\n",
       "      <th>539</th>\n",
       "      <td>148</td>\n",
       "      <td>70</td>\n",
       "      <td>ZZA</td>\n",
       "      <td>EEA</td>\n",
       "      <td>10</td>\n",
       "      <td>8</td>\n",
       "      <td>2</td>\n",
       "      <td>23</td>\n",
       "    </tr>\n",
       "    <tr>\n",
       "      <th>540</th>\n",
       "      <td>148</td>\n",
       "      <td>70</td>\n",
       "      <td>ZZA</td>\n",
       "      <td>FFA</td>\n",
       "      <td>63</td>\n",
       "      <td>9</td>\n",
       "      <td>1</td>\n",
       "      <td>26</td>\n",
       "    </tr>\n",
       "    <tr>\n",
       "      <th>541</th>\n",
       "      <td>148</td>\n",
       "      <td>70</td>\n",
       "      <td>ZZA</td>\n",
       "      <td>GGA</td>\n",
       "      <td>85</td>\n",
       "      <td>5</td>\n",
       "      <td>5</td>\n",
       "      <td>38</td>\n",
       "    </tr>\n",
       "    <tr>\n",
       "      <th>542</th>\n",
       "      <td>148</td>\n",
       "      <td>70</td>\n",
       "      <td>ZZA</td>\n",
       "      <td>HHA</td>\n",
       "      <td>53</td>\n",
       "      <td>7</td>\n",
       "      <td>3</td>\n",
       "      <td>28</td>\n",
       "    </tr>\n",
       "    <tr>\n",
       "      <th>543</th>\n",
       "      <td>148</td>\n",
       "      <td>70</td>\n",
       "      <td>ZZA</td>\n",
       "      <td>IIA</td>\n",
       "      <td>46</td>\n",
       "      <td>4</td>\n",
       "      <td>6</td>\n",
       "      <td>31</td>\n",
       "    </tr>\n",
       "    <tr>\n",
       "      <th>544</th>\n",
       "      <td>148</td>\n",
       "      <td>70</td>\n",
       "      <td>ZZB</td>\n",
       "      <td>DDA</td>\n",
       "      <td>30</td>\n",
       "      <td>8</td>\n",
       "      <td>2</td>\n",
       "      <td>20</td>\n",
       "    </tr>\n",
       "    <tr>\n",
       "      <th>545</th>\n",
       "      <td>148</td>\n",
       "      <td>70</td>\n",
       "      <td>ZZB</td>\n",
       "      <td>EEA</td>\n",
       "      <td>84</td>\n",
       "      <td>2</td>\n",
       "      <td>8</td>\n",
       "      <td>24</td>\n",
       "    </tr>\n",
       "    <tr>\n",
       "      <th>546</th>\n",
       "      <td>148</td>\n",
       "      <td>70</td>\n",
       "      <td>ZZB</td>\n",
       "      <td>FFA</td>\n",
       "      <td>12</td>\n",
       "      <td>8</td>\n",
       "      <td>2</td>\n",
       "      <td>42</td>\n",
       "    </tr>\n",
       "    <tr>\n",
       "      <th>547</th>\n",
       "      <td>148</td>\n",
       "      <td>70</td>\n",
       "      <td>ZZB</td>\n",
       "      <td>GGA</td>\n",
       "      <td>53</td>\n",
       "      <td>4</td>\n",
       "      <td>6</td>\n",
       "      <td>26</td>\n",
       "    </tr>\n",
       "    <tr>\n",
       "      <th>548</th>\n",
       "      <td>148</td>\n",
       "      <td>70</td>\n",
       "      <td>ZZB</td>\n",
       "      <td>HHA</td>\n",
       "      <td>21</td>\n",
       "      <td>3</td>\n",
       "      <td>7</td>\n",
       "      <td>29</td>\n",
       "    </tr>\n",
       "    <tr>\n",
       "      <th>549</th>\n",
       "      <td>148</td>\n",
       "      <td>70</td>\n",
       "      <td>ZZB</td>\n",
       "      <td>IIA</td>\n",
       "      <td>17</td>\n",
       "      <td>6</td>\n",
       "      <td>4</td>\n",
       "      <td>47</td>\n",
       "    </tr>\n",
       "    <tr>\n",
       "      <th>550</th>\n",
       "      <td>148</td>\n",
       "      <td>35</td>\n",
       "      <td>ZZA</td>\n",
       "      <td>CCB</td>\n",
       "      <td>101</td>\n",
       "      <td>8</td>\n",
       "      <td>2</td>\n",
       "      <td>45</td>\n",
       "    </tr>\n",
       "    <tr>\n",
       "      <th>551</th>\n",
       "      <td>148</td>\n",
       "      <td>35</td>\n",
       "      <td>ZZA</td>\n",
       "      <td>CCD</td>\n",
       "      <td>36</td>\n",
       "      <td>1</td>\n",
       "      <td>9</td>\n",
       "      <td>48</td>\n",
       "    </tr>\n",
       "    <tr>\n",
       "      <th>552</th>\n",
       "      <td>148</td>\n",
       "      <td>35</td>\n",
       "      <td>ZZA</td>\n",
       "      <td>CCE</td>\n",
       "      <td>35</td>\n",
       "      <td>9</td>\n",
       "      <td>1</td>\n",
       "      <td>37</td>\n",
       "    </tr>\n",
       "    <tr>\n",
       "      <th>553</th>\n",
       "      <td>148</td>\n",
       "      <td>35</td>\n",
       "      <td>ZZA</td>\n",
       "      <td>CCF</td>\n",
       "      <td>84</td>\n",
       "      <td>8</td>\n",
       "      <td>2</td>\n",
       "      <td>35</td>\n",
       "    </tr>\n",
       "    <tr>\n",
       "      <th>554</th>\n",
       "      <td>148</td>\n",
       "      <td>35</td>\n",
       "      <td>ZZA</td>\n",
       "      <td>CCG</td>\n",
       "      <td>21</td>\n",
       "      <td>2</td>\n",
       "      <td>8</td>\n",
       "      <td>35</td>\n",
       "    </tr>\n",
       "    <tr>\n",
       "      <th>555</th>\n",
       "      <td>148</td>\n",
       "      <td>35</td>\n",
       "      <td>ZZB</td>\n",
       "      <td>CCB</td>\n",
       "      <td>99</td>\n",
       "      <td>5</td>\n",
       "      <td>5</td>\n",
       "      <td>44</td>\n",
       "    </tr>\n",
       "    <tr>\n",
       "      <th>556</th>\n",
       "      <td>148</td>\n",
       "      <td>35</td>\n",
       "      <td>ZZB</td>\n",
       "      <td>CCD</td>\n",
       "      <td>25</td>\n",
       "      <td>9</td>\n",
       "      <td>1</td>\n",
       "      <td>24</td>\n",
       "    </tr>\n",
       "    <tr>\n",
       "      <th>557</th>\n",
       "      <td>148</td>\n",
       "      <td>35</td>\n",
       "      <td>ZZB</td>\n",
       "      <td>CCE</td>\n",
       "      <td>55</td>\n",
       "      <td>8</td>\n",
       "      <td>2</td>\n",
       "      <td>44</td>\n",
       "    </tr>\n",
       "    <tr>\n",
       "      <th>558</th>\n",
       "      <td>148</td>\n",
       "      <td>35</td>\n",
       "      <td>ZZB</td>\n",
       "      <td>CCF</td>\n",
       "      <td>54</td>\n",
       "      <td>4</td>\n",
       "      <td>6</td>\n",
       "      <td>27</td>\n",
       "    </tr>\n",
       "    <tr>\n",
       "      <th>559</th>\n",
       "      <td>148</td>\n",
       "      <td>35</td>\n",
       "      <td>ZZB</td>\n",
       "      <td>CCG</td>\n",
       "      <td>20</td>\n",
       "      <td>7</td>\n",
       "      <td>3</td>\n",
       "      <td>29</td>\n",
       "    </tr>\n",
       "  </tbody>\n",
       "</table>\n",
       "</div>"
      ],
      "text/plain": [
       "     CVE_AGEB_I  CVE_AGEB_F ESTACION_I ESTACION_F  VIAJES  MUJERES  HOMBRES  \\\n",
       "510          35         148        CCG        ZZA      21        2        8   \n",
       "511          35         148        CCG        ZZB      20        7        3   \n",
       "512         148        1142        ZZA        ABC     104        4        6   \n",
       "513         148        1142        ZZA        DEF      54        7        3   \n",
       "514         148        1142        ZZA        GHI      34        4        6   \n",
       "515         148        1142        ZZA        JKL      76        9        1   \n",
       "516         148        1142        ZZA        MNO      54        7        3   \n",
       "517         148        1142        ZZB        ABC      80        8        2   \n",
       "518         148        1142        ZZB        DEF      43        9        1   \n",
       "519         148        1142        ZZB        GHI      54        5        5   \n",
       "520         148        1142        ZZB        JKL      54        4        6   \n",
       "521         148        1142        ZZB        MNO      22        3        7   \n",
       "522         148        1012        ZZA        OPQ      22        3        7   \n",
       "523         148        1012        ZZA        RST      45        1        9   \n",
       "524         148        1012        ZZA        UVW      42        2        8   \n",
       "525         148        1012        ZZA        XYZ      25        8        2   \n",
       "526         148        1012        ZZB        OPQ      22        3        7   \n",
       "527         148        1012        ZZB        RST      45        1        9   \n",
       "528         148        1012        ZZB        UVW      42        2        8   \n",
       "529         148        1012        ZZB        XYZ      25        8        2   \n",
       "530         148         393        ZZA        AAB      46        4        6   \n",
       "531         148         393        ZZA        BBA       2        9        1   \n",
       "532         148         393        ZZA        AAC      74        5        5   \n",
       "533         148         393        ZZB        AAB      63        9        1   \n",
       "534         148         393        ZZB        BBA      12        3        7   \n",
       "535         148         393        ZZB        AAC      30        8        2   \n",
       "536         148          37        ZZA        CCA      98        9        1   \n",
       "537         148          37        ZZB        CCA      21        2        8   \n",
       "538         148          70        ZZA        DDA      74        5        5   \n",
       "539         148          70        ZZA        EEA      10        8        2   \n",
       "540         148          70        ZZA        FFA      63        9        1   \n",
       "541         148          70        ZZA        GGA      85        5        5   \n",
       "542         148          70        ZZA        HHA      53        7        3   \n",
       "543         148          70        ZZA        IIA      46        4        6   \n",
       "544         148          70        ZZB        DDA      30        8        2   \n",
       "545         148          70        ZZB        EEA      84        2        8   \n",
       "546         148          70        ZZB        FFA      12        8        2   \n",
       "547         148          70        ZZB        GGA      53        4        6   \n",
       "548         148          70        ZZB        HHA      21        3        7   \n",
       "549         148          70        ZZB        IIA      17        6        4   \n",
       "550         148          35        ZZA        CCB     101        8        2   \n",
       "551         148          35        ZZA        CCD      36        1        9   \n",
       "552         148          35        ZZA        CCE      35        9        1   \n",
       "553         148          35        ZZA        CCF      84        8        2   \n",
       "554         148          35        ZZA        CCG      21        2        8   \n",
       "555         148          35        ZZB        CCB      99        5        5   \n",
       "556         148          35        ZZB        CCD      25        9        1   \n",
       "557         148          35        ZZB        CCE      55        8        2   \n",
       "558         148          35        ZZB        CCF      54        4        6   \n",
       "559         148          35        ZZB        CCG      20        7        3   \n",
       "\n",
       "     EDAD_PROMEDIO  \n",
       "510             35  \n",
       "511             29  \n",
       "512             29  \n",
       "513             32  \n",
       "514             44  \n",
       "515             34  \n",
       "516             38  \n",
       "517             30  \n",
       "518             48  \n",
       "519             35  \n",
       "520             45  \n",
       "521             28  \n",
       "522             28  \n",
       "523             31  \n",
       "524             49  \n",
       "525             36  \n",
       "526             28  \n",
       "527             31  \n",
       "528             49  \n",
       "529             36  \n",
       "530             30  \n",
       "531             37  \n",
       "532             26  \n",
       "533             23  \n",
       "534             38  \n",
       "535             20  \n",
       "536             39  \n",
       "537             35  \n",
       "538             26  \n",
       "539             23  \n",
       "540             26  \n",
       "541             38  \n",
       "542             28  \n",
       "543             31  \n",
       "544             20  \n",
       "545             24  \n",
       "546             42  \n",
       "547             26  \n",
       "548             29  \n",
       "549             47  \n",
       "550             45  \n",
       "551             48  \n",
       "552             37  \n",
       "553             35  \n",
       "554             35  \n",
       "555             44  \n",
       "556             24  \n",
       "557             44  \n",
       "558             27  \n",
       "559             29  "
      ]
     },
     "execution_count": 39,
     "metadata": {},
     "output_type": "execute_result"
    }
   ],
   "source": [
    "df.tail(50)"
   ]
  },
  {
   "cell_type": "code",
   "execution_count": 36,
   "metadata": {},
   "outputs": [
    {
     "data": {
      "application/vnd.plotly.v1+json": {
       "config": {
        "plotlyServerURL": "https://plot.ly"
       },
       "data": [
        {
         "link": {
          "source": [
           0,
           1,
           0,
           2,
           3,
           3
          ],
          "target": [
           2,
           3,
           3,
           4,
           4,
           5
          ],
          "value": [
           8,
           4,
           2,
           8,
           4,
           2
          ]
         },
         "node": {
          "color": "blue",
          "label": [
           "A1",
           "A2",
           "B1",
           "B2",
           "C1",
           "C2"
          ],
          "line": {
           "color": "black",
           "width": 0.5
          },
          "pad": 15,
          "thickness": 20
         },
         "type": "sankey"
        }
       ],
       "layout": {
        "font": {
         "size": 10
        },
        "template": {
         "data": {
          "bar": [
           {
            "error_x": {
             "color": "#2a3f5f"
            },
            "error_y": {
             "color": "#2a3f5f"
            },
            "marker": {
             "line": {
              "color": "#E5ECF6",
              "width": 0.5
             }
            },
            "type": "bar"
           }
          ],
          "barpolar": [
           {
            "marker": {
             "line": {
              "color": "#E5ECF6",
              "width": 0.5
             }
            },
            "type": "barpolar"
           }
          ],
          "carpet": [
           {
            "aaxis": {
             "endlinecolor": "#2a3f5f",
             "gridcolor": "white",
             "linecolor": "white",
             "minorgridcolor": "white",
             "startlinecolor": "#2a3f5f"
            },
            "baxis": {
             "endlinecolor": "#2a3f5f",
             "gridcolor": "white",
             "linecolor": "white",
             "minorgridcolor": "white",
             "startlinecolor": "#2a3f5f"
            },
            "type": "carpet"
           }
          ],
          "choropleth": [
           {
            "colorbar": {
             "outlinewidth": 0,
             "ticks": ""
            },
            "type": "choropleth"
           }
          ],
          "contour": [
           {
            "colorbar": {
             "outlinewidth": 0,
             "ticks": ""
            },
            "colorscale": [
             [
              0,
              "#0d0887"
             ],
             [
              0.1111111111111111,
              "#46039f"
             ],
             [
              0.2222222222222222,
              "#7201a8"
             ],
             [
              0.3333333333333333,
              "#9c179e"
             ],
             [
              0.4444444444444444,
              "#bd3786"
             ],
             [
              0.5555555555555556,
              "#d8576b"
             ],
             [
              0.6666666666666666,
              "#ed7953"
             ],
             [
              0.7777777777777778,
              "#fb9f3a"
             ],
             [
              0.8888888888888888,
              "#fdca26"
             ],
             [
              1,
              "#f0f921"
             ]
            ],
            "type": "contour"
           }
          ],
          "contourcarpet": [
           {
            "colorbar": {
             "outlinewidth": 0,
             "ticks": ""
            },
            "type": "contourcarpet"
           }
          ],
          "heatmap": [
           {
            "colorbar": {
             "outlinewidth": 0,
             "ticks": ""
            },
            "colorscale": [
             [
              0,
              "#0d0887"
             ],
             [
              0.1111111111111111,
              "#46039f"
             ],
             [
              0.2222222222222222,
              "#7201a8"
             ],
             [
              0.3333333333333333,
              "#9c179e"
             ],
             [
              0.4444444444444444,
              "#bd3786"
             ],
             [
              0.5555555555555556,
              "#d8576b"
             ],
             [
              0.6666666666666666,
              "#ed7953"
             ],
             [
              0.7777777777777778,
              "#fb9f3a"
             ],
             [
              0.8888888888888888,
              "#fdca26"
             ],
             [
              1,
              "#f0f921"
             ]
            ],
            "type": "heatmap"
           }
          ],
          "heatmapgl": [
           {
            "colorbar": {
             "outlinewidth": 0,
             "ticks": ""
            },
            "colorscale": [
             [
              0,
              "#0d0887"
             ],
             [
              0.1111111111111111,
              "#46039f"
             ],
             [
              0.2222222222222222,
              "#7201a8"
             ],
             [
              0.3333333333333333,
              "#9c179e"
             ],
             [
              0.4444444444444444,
              "#bd3786"
             ],
             [
              0.5555555555555556,
              "#d8576b"
             ],
             [
              0.6666666666666666,
              "#ed7953"
             ],
             [
              0.7777777777777778,
              "#fb9f3a"
             ],
             [
              0.8888888888888888,
              "#fdca26"
             ],
             [
              1,
              "#f0f921"
             ]
            ],
            "type": "heatmapgl"
           }
          ],
          "histogram": [
           {
            "marker": {
             "colorbar": {
              "outlinewidth": 0,
              "ticks": ""
             }
            },
            "type": "histogram"
           }
          ],
          "histogram2d": [
           {
            "colorbar": {
             "outlinewidth": 0,
             "ticks": ""
            },
            "colorscale": [
             [
              0,
              "#0d0887"
             ],
             [
              0.1111111111111111,
              "#46039f"
             ],
             [
              0.2222222222222222,
              "#7201a8"
             ],
             [
              0.3333333333333333,
              "#9c179e"
             ],
             [
              0.4444444444444444,
              "#bd3786"
             ],
             [
              0.5555555555555556,
              "#d8576b"
             ],
             [
              0.6666666666666666,
              "#ed7953"
             ],
             [
              0.7777777777777778,
              "#fb9f3a"
             ],
             [
              0.8888888888888888,
              "#fdca26"
             ],
             [
              1,
              "#f0f921"
             ]
            ],
            "type": "histogram2d"
           }
          ],
          "histogram2dcontour": [
           {
            "colorbar": {
             "outlinewidth": 0,
             "ticks": ""
            },
            "colorscale": [
             [
              0,
              "#0d0887"
             ],
             [
              0.1111111111111111,
              "#46039f"
             ],
             [
              0.2222222222222222,
              "#7201a8"
             ],
             [
              0.3333333333333333,
              "#9c179e"
             ],
             [
              0.4444444444444444,
              "#bd3786"
             ],
             [
              0.5555555555555556,
              "#d8576b"
             ],
             [
              0.6666666666666666,
              "#ed7953"
             ],
             [
              0.7777777777777778,
              "#fb9f3a"
             ],
             [
              0.8888888888888888,
              "#fdca26"
             ],
             [
              1,
              "#f0f921"
             ]
            ],
            "type": "histogram2dcontour"
           }
          ],
          "mesh3d": [
           {
            "colorbar": {
             "outlinewidth": 0,
             "ticks": ""
            },
            "type": "mesh3d"
           }
          ],
          "parcoords": [
           {
            "line": {
             "colorbar": {
              "outlinewidth": 0,
              "ticks": ""
             }
            },
            "type": "parcoords"
           }
          ],
          "scatter": [
           {
            "marker": {
             "colorbar": {
              "outlinewidth": 0,
              "ticks": ""
             }
            },
            "type": "scatter"
           }
          ],
          "scatter3d": [
           {
            "line": {
             "colorbar": {
              "outlinewidth": 0,
              "ticks": ""
             }
            },
            "marker": {
             "colorbar": {
              "outlinewidth": 0,
              "ticks": ""
             }
            },
            "type": "scatter3d"
           }
          ],
          "scattercarpet": [
           {
            "marker": {
             "colorbar": {
              "outlinewidth": 0,
              "ticks": ""
             }
            },
            "type": "scattercarpet"
           }
          ],
          "scattergeo": [
           {
            "marker": {
             "colorbar": {
              "outlinewidth": 0,
              "ticks": ""
             }
            },
            "type": "scattergeo"
           }
          ],
          "scattergl": [
           {
            "marker": {
             "colorbar": {
              "outlinewidth": 0,
              "ticks": ""
             }
            },
            "type": "scattergl"
           }
          ],
          "scattermapbox": [
           {
            "marker": {
             "colorbar": {
              "outlinewidth": 0,
              "ticks": ""
             }
            },
            "type": "scattermapbox"
           }
          ],
          "scatterpolar": [
           {
            "marker": {
             "colorbar": {
              "outlinewidth": 0,
              "ticks": ""
             }
            },
            "type": "scatterpolar"
           }
          ],
          "scatterpolargl": [
           {
            "marker": {
             "colorbar": {
              "outlinewidth": 0,
              "ticks": ""
             }
            },
            "type": "scatterpolargl"
           }
          ],
          "scatterternary": [
           {
            "marker": {
             "colorbar": {
              "outlinewidth": 0,
              "ticks": ""
             }
            },
            "type": "scatterternary"
           }
          ],
          "surface": [
           {
            "colorbar": {
             "outlinewidth": 0,
             "ticks": ""
            },
            "colorscale": [
             [
              0,
              "#0d0887"
             ],
             [
              0.1111111111111111,
              "#46039f"
             ],
             [
              0.2222222222222222,
              "#7201a8"
             ],
             [
              0.3333333333333333,
              "#9c179e"
             ],
             [
              0.4444444444444444,
              "#bd3786"
             ],
             [
              0.5555555555555556,
              "#d8576b"
             ],
             [
              0.6666666666666666,
              "#ed7953"
             ],
             [
              0.7777777777777778,
              "#fb9f3a"
             ],
             [
              0.8888888888888888,
              "#fdca26"
             ],
             [
              1,
              "#f0f921"
             ]
            ],
            "type": "surface"
           }
          ],
          "table": [
           {
            "cells": {
             "fill": {
              "color": "#EBF0F8"
             },
             "line": {
              "color": "white"
             }
            },
            "header": {
             "fill": {
              "color": "#C8D4E3"
             },
             "line": {
              "color": "white"
             }
            },
            "type": "table"
           }
          ]
         },
         "layout": {
          "annotationdefaults": {
           "arrowcolor": "#2a3f5f",
           "arrowhead": 0,
           "arrowwidth": 1
          },
          "colorscale": {
           "diverging": [
            [
             0,
             "#8e0152"
            ],
            [
             0.1,
             "#c51b7d"
            ],
            [
             0.2,
             "#de77ae"
            ],
            [
             0.3,
             "#f1b6da"
            ],
            [
             0.4,
             "#fde0ef"
            ],
            [
             0.5,
             "#f7f7f7"
            ],
            [
             0.6,
             "#e6f5d0"
            ],
            [
             0.7,
             "#b8e186"
            ],
            [
             0.8,
             "#7fbc41"
            ],
            [
             0.9,
             "#4d9221"
            ],
            [
             1,
             "#276419"
            ]
           ],
           "sequential": [
            [
             0,
             "#0d0887"
            ],
            [
             0.1111111111111111,
             "#46039f"
            ],
            [
             0.2222222222222222,
             "#7201a8"
            ],
            [
             0.3333333333333333,
             "#9c179e"
            ],
            [
             0.4444444444444444,
             "#bd3786"
            ],
            [
             0.5555555555555556,
             "#d8576b"
            ],
            [
             0.6666666666666666,
             "#ed7953"
            ],
            [
             0.7777777777777778,
             "#fb9f3a"
            ],
            [
             0.8888888888888888,
             "#fdca26"
            ],
            [
             1,
             "#f0f921"
            ]
           ],
           "sequentialminus": [
            [
             0,
             "#0d0887"
            ],
            [
             0.1111111111111111,
             "#46039f"
            ],
            [
             0.2222222222222222,
             "#7201a8"
            ],
            [
             0.3333333333333333,
             "#9c179e"
            ],
            [
             0.4444444444444444,
             "#bd3786"
            ],
            [
             0.5555555555555556,
             "#d8576b"
            ],
            [
             0.6666666666666666,
             "#ed7953"
            ],
            [
             0.7777777777777778,
             "#fb9f3a"
            ],
            [
             0.8888888888888888,
             "#fdca26"
            ],
            [
             1,
             "#f0f921"
            ]
           ]
          },
          "colorway": [
           "#636efa",
           "#EF553B",
           "#00cc96",
           "#ab63fa",
           "#FFA15A",
           "#19d3f3",
           "#FF6692",
           "#B6E880",
           "#FF97FF",
           "#FECB52"
          ],
          "font": {
           "color": "#2a3f5f"
          },
          "geo": {
           "bgcolor": "white",
           "lakecolor": "white",
           "landcolor": "#E5ECF6",
           "showlakes": true,
           "showland": true,
           "subunitcolor": "white"
          },
          "hoverlabel": {
           "align": "left"
          },
          "hovermode": "closest",
          "mapbox": {
           "style": "light"
          },
          "paper_bgcolor": "white",
          "plot_bgcolor": "#E5ECF6",
          "polar": {
           "angularaxis": {
            "gridcolor": "white",
            "linecolor": "white",
            "ticks": ""
           },
           "bgcolor": "#E5ECF6",
           "radialaxis": {
            "gridcolor": "white",
            "linecolor": "white",
            "ticks": ""
           }
          },
          "scene": {
           "xaxis": {
            "backgroundcolor": "#E5ECF6",
            "gridcolor": "white",
            "gridwidth": 2,
            "linecolor": "white",
            "showbackground": true,
            "ticks": "",
            "zerolinecolor": "white"
           },
           "yaxis": {
            "backgroundcolor": "#E5ECF6",
            "gridcolor": "white",
            "gridwidth": 2,
            "linecolor": "white",
            "showbackground": true,
            "ticks": "",
            "zerolinecolor": "white"
           },
           "zaxis": {
            "backgroundcolor": "#E5ECF6",
            "gridcolor": "white",
            "gridwidth": 2,
            "linecolor": "white",
            "showbackground": true,
            "ticks": "",
            "zerolinecolor": "white"
           }
          },
          "shapedefaults": {
           "line": {
            "color": "#2a3f5f"
           }
          },
          "ternary": {
           "aaxis": {
            "gridcolor": "white",
            "linecolor": "white",
            "ticks": ""
           },
           "baxis": {
            "gridcolor": "white",
            "linecolor": "white",
            "ticks": ""
           },
           "bgcolor": "#E5ECF6",
           "caxis": {
            "gridcolor": "white",
            "linecolor": "white",
            "ticks": ""
           }
          },
          "title": {
           "x": 0.05
          },
          "xaxis": {
           "automargin": true,
           "gridcolor": "white",
           "linecolor": "white",
           "ticks": "",
           "zerolinecolor": "white",
           "zerolinewidth": 2
          },
          "yaxis": {
           "automargin": true,
           "gridcolor": "white",
           "linecolor": "white",
           "ticks": "",
           "zerolinecolor": "white",
           "zerolinewidth": 2
          }
         }
        },
        "title": {
         "text": "Basic Sankey Diagram"
        }
       }
      },
      "text/html": [
       "<div>\n",
       "        \n",
       "        \n",
       "            <div id=\"aed3d8cc-046a-4593-bcd5-cc9c89e8eb11\" class=\"plotly-graph-div\" style=\"height:525px; width:100%;\"></div>\n",
       "            <script type=\"text/javascript\">\n",
       "                require([\"plotly\"], function(Plotly) {\n",
       "                    window.PLOTLYENV=window.PLOTLYENV || {};\n",
       "                    \n",
       "                if (document.getElementById(\"aed3d8cc-046a-4593-bcd5-cc9c89e8eb11\")) {\n",
       "                    Plotly.newPlot(\n",
       "                        'aed3d8cc-046a-4593-bcd5-cc9c89e8eb11',\n",
       "                        [{\"link\": {\"source\": [0, 1, 0, 2, 3, 3], \"target\": [2, 3, 3, 4, 4, 5], \"value\": [8, 4, 2, 8, 4, 2]}, \"node\": {\"color\": \"blue\", \"label\": [\"A1\", \"A2\", \"B1\", \"B2\", \"C1\", \"C2\"], \"line\": {\"color\": \"black\", \"width\": 0.5}, \"pad\": 15, \"thickness\": 20}, \"type\": \"sankey\"}],\n",
       "                        {\"font\": {\"size\": 10}, \"template\": {\"data\": {\"bar\": [{\"error_x\": {\"color\": \"#2a3f5f\"}, \"error_y\": {\"color\": \"#2a3f5f\"}, \"marker\": {\"line\": {\"color\": \"#E5ECF6\", \"width\": 0.5}}, \"type\": \"bar\"}], \"barpolar\": [{\"marker\": {\"line\": {\"color\": \"#E5ECF6\", \"width\": 0.5}}, \"type\": \"barpolar\"}], \"carpet\": [{\"aaxis\": {\"endlinecolor\": \"#2a3f5f\", \"gridcolor\": \"white\", \"linecolor\": \"white\", \"minorgridcolor\": \"white\", \"startlinecolor\": \"#2a3f5f\"}, \"baxis\": {\"endlinecolor\": \"#2a3f5f\", \"gridcolor\": \"white\", \"linecolor\": \"white\", \"minorgridcolor\": \"white\", \"startlinecolor\": \"#2a3f5f\"}, \"type\": \"carpet\"}], \"choropleth\": [{\"colorbar\": {\"outlinewidth\": 0, \"ticks\": \"\"}, \"type\": \"choropleth\"}], \"contour\": [{\"colorbar\": {\"outlinewidth\": 0, \"ticks\": \"\"}, \"colorscale\": [[0.0, \"#0d0887\"], [0.1111111111111111, \"#46039f\"], [0.2222222222222222, \"#7201a8\"], [0.3333333333333333, \"#9c179e\"], [0.4444444444444444, \"#bd3786\"], [0.5555555555555556, \"#d8576b\"], [0.6666666666666666, \"#ed7953\"], [0.7777777777777778, \"#fb9f3a\"], [0.8888888888888888, \"#fdca26\"], [1.0, \"#f0f921\"]], \"type\": \"contour\"}], \"contourcarpet\": [{\"colorbar\": {\"outlinewidth\": 0, \"ticks\": \"\"}, \"type\": \"contourcarpet\"}], \"heatmap\": [{\"colorbar\": {\"outlinewidth\": 0, \"ticks\": \"\"}, \"colorscale\": [[0.0, \"#0d0887\"], [0.1111111111111111, \"#46039f\"], [0.2222222222222222, \"#7201a8\"], [0.3333333333333333, \"#9c179e\"], [0.4444444444444444, \"#bd3786\"], [0.5555555555555556, \"#d8576b\"], [0.6666666666666666, \"#ed7953\"], [0.7777777777777778, \"#fb9f3a\"], [0.8888888888888888, \"#fdca26\"], [1.0, \"#f0f921\"]], \"type\": \"heatmap\"}], \"heatmapgl\": [{\"colorbar\": {\"outlinewidth\": 0, \"ticks\": \"\"}, \"colorscale\": [[0.0, \"#0d0887\"], [0.1111111111111111, \"#46039f\"], [0.2222222222222222, \"#7201a8\"], [0.3333333333333333, \"#9c179e\"], [0.4444444444444444, \"#bd3786\"], [0.5555555555555556, \"#d8576b\"], [0.6666666666666666, \"#ed7953\"], [0.7777777777777778, \"#fb9f3a\"], [0.8888888888888888, \"#fdca26\"], [1.0, \"#f0f921\"]], \"type\": \"heatmapgl\"}], \"histogram\": [{\"marker\": {\"colorbar\": {\"outlinewidth\": 0, \"ticks\": \"\"}}, \"type\": \"histogram\"}], \"histogram2d\": [{\"colorbar\": {\"outlinewidth\": 0, \"ticks\": \"\"}, \"colorscale\": [[0.0, \"#0d0887\"], [0.1111111111111111, \"#46039f\"], [0.2222222222222222, \"#7201a8\"], [0.3333333333333333, \"#9c179e\"], [0.4444444444444444, \"#bd3786\"], [0.5555555555555556, \"#d8576b\"], [0.6666666666666666, \"#ed7953\"], [0.7777777777777778, \"#fb9f3a\"], [0.8888888888888888, \"#fdca26\"], [1.0, \"#f0f921\"]], \"type\": \"histogram2d\"}], \"histogram2dcontour\": [{\"colorbar\": {\"outlinewidth\": 0, \"ticks\": \"\"}, \"colorscale\": [[0.0, \"#0d0887\"], [0.1111111111111111, \"#46039f\"], [0.2222222222222222, \"#7201a8\"], [0.3333333333333333, \"#9c179e\"], [0.4444444444444444, \"#bd3786\"], [0.5555555555555556, \"#d8576b\"], [0.6666666666666666, \"#ed7953\"], [0.7777777777777778, \"#fb9f3a\"], [0.8888888888888888, \"#fdca26\"], [1.0, \"#f0f921\"]], \"type\": \"histogram2dcontour\"}], \"mesh3d\": [{\"colorbar\": {\"outlinewidth\": 0, \"ticks\": \"\"}, \"type\": \"mesh3d\"}], \"parcoords\": [{\"line\": {\"colorbar\": {\"outlinewidth\": 0, \"ticks\": \"\"}}, \"type\": \"parcoords\"}], \"scatter\": [{\"marker\": {\"colorbar\": {\"outlinewidth\": 0, \"ticks\": \"\"}}, \"type\": \"scatter\"}], \"scatter3d\": [{\"line\": {\"colorbar\": {\"outlinewidth\": 0, \"ticks\": \"\"}}, \"marker\": {\"colorbar\": {\"outlinewidth\": 0, \"ticks\": \"\"}}, \"type\": \"scatter3d\"}], \"scattercarpet\": [{\"marker\": {\"colorbar\": {\"outlinewidth\": 0, \"ticks\": \"\"}}, \"type\": \"scattercarpet\"}], \"scattergeo\": [{\"marker\": {\"colorbar\": {\"outlinewidth\": 0, \"ticks\": \"\"}}, \"type\": \"scattergeo\"}], \"scattergl\": [{\"marker\": {\"colorbar\": {\"outlinewidth\": 0, \"ticks\": \"\"}}, \"type\": \"scattergl\"}], \"scattermapbox\": [{\"marker\": {\"colorbar\": {\"outlinewidth\": 0, \"ticks\": \"\"}}, \"type\": \"scattermapbox\"}], \"scatterpolar\": [{\"marker\": {\"colorbar\": {\"outlinewidth\": 0, \"ticks\": \"\"}}, \"type\": \"scatterpolar\"}], \"scatterpolargl\": [{\"marker\": {\"colorbar\": {\"outlinewidth\": 0, \"ticks\": \"\"}}, \"type\": \"scatterpolargl\"}], \"scatterternary\": [{\"marker\": {\"colorbar\": {\"outlinewidth\": 0, \"ticks\": \"\"}}, \"type\": \"scatterternary\"}], \"surface\": [{\"colorbar\": {\"outlinewidth\": 0, \"ticks\": \"\"}, \"colorscale\": [[0.0, \"#0d0887\"], [0.1111111111111111, \"#46039f\"], [0.2222222222222222, \"#7201a8\"], [0.3333333333333333, \"#9c179e\"], [0.4444444444444444, \"#bd3786\"], [0.5555555555555556, \"#d8576b\"], [0.6666666666666666, \"#ed7953\"], [0.7777777777777778, \"#fb9f3a\"], [0.8888888888888888, \"#fdca26\"], [1.0, \"#f0f921\"]], \"type\": \"surface\"}], \"table\": [{\"cells\": {\"fill\": {\"color\": \"#EBF0F8\"}, \"line\": {\"color\": \"white\"}}, \"header\": {\"fill\": {\"color\": \"#C8D4E3\"}, \"line\": {\"color\": \"white\"}}, \"type\": \"table\"}]}, \"layout\": {\"annotationdefaults\": {\"arrowcolor\": \"#2a3f5f\", \"arrowhead\": 0, \"arrowwidth\": 1}, \"colorscale\": {\"diverging\": [[0, \"#8e0152\"], [0.1, \"#c51b7d\"], [0.2, \"#de77ae\"], [0.3, \"#f1b6da\"], [0.4, \"#fde0ef\"], [0.5, \"#f7f7f7\"], [0.6, \"#e6f5d0\"], [0.7, \"#b8e186\"], [0.8, \"#7fbc41\"], [0.9, \"#4d9221\"], [1, \"#276419\"]], \"sequential\": [[0.0, \"#0d0887\"], [0.1111111111111111, \"#46039f\"], [0.2222222222222222, \"#7201a8\"], [0.3333333333333333, \"#9c179e\"], [0.4444444444444444, \"#bd3786\"], [0.5555555555555556, \"#d8576b\"], [0.6666666666666666, \"#ed7953\"], [0.7777777777777778, \"#fb9f3a\"], [0.8888888888888888, \"#fdca26\"], [1.0, \"#f0f921\"]], \"sequentialminus\": [[0.0, \"#0d0887\"], [0.1111111111111111, \"#46039f\"], [0.2222222222222222, \"#7201a8\"], [0.3333333333333333, \"#9c179e\"], [0.4444444444444444, \"#bd3786\"], [0.5555555555555556, \"#d8576b\"], [0.6666666666666666, \"#ed7953\"], [0.7777777777777778, \"#fb9f3a\"], [0.8888888888888888, \"#fdca26\"], [1.0, \"#f0f921\"]]}, \"colorway\": [\"#636efa\", \"#EF553B\", \"#00cc96\", \"#ab63fa\", \"#FFA15A\", \"#19d3f3\", \"#FF6692\", \"#B6E880\", \"#FF97FF\", \"#FECB52\"], \"font\": {\"color\": \"#2a3f5f\"}, \"geo\": {\"bgcolor\": \"white\", \"lakecolor\": \"white\", \"landcolor\": \"#E5ECF6\", \"showlakes\": true, \"showland\": true, \"subunitcolor\": \"white\"}, \"hoverlabel\": {\"align\": \"left\"}, \"hovermode\": \"closest\", \"mapbox\": {\"style\": \"light\"}, \"paper_bgcolor\": \"white\", \"plot_bgcolor\": \"#E5ECF6\", \"polar\": {\"angularaxis\": {\"gridcolor\": \"white\", \"linecolor\": \"white\", \"ticks\": \"\"}, \"bgcolor\": \"#E5ECF6\", \"radialaxis\": {\"gridcolor\": \"white\", \"linecolor\": \"white\", \"ticks\": \"\"}}, \"scene\": {\"xaxis\": {\"backgroundcolor\": \"#E5ECF6\", \"gridcolor\": \"white\", \"gridwidth\": 2, \"linecolor\": \"white\", \"showbackground\": true, \"ticks\": \"\", \"zerolinecolor\": \"white\"}, \"yaxis\": {\"backgroundcolor\": \"#E5ECF6\", \"gridcolor\": \"white\", \"gridwidth\": 2, \"linecolor\": \"white\", \"showbackground\": true, \"ticks\": \"\", \"zerolinecolor\": \"white\"}, \"zaxis\": {\"backgroundcolor\": \"#E5ECF6\", \"gridcolor\": \"white\", \"gridwidth\": 2, \"linecolor\": \"white\", \"showbackground\": true, \"ticks\": \"\", \"zerolinecolor\": \"white\"}}, \"shapedefaults\": {\"line\": {\"color\": \"#2a3f5f\"}}, \"ternary\": {\"aaxis\": {\"gridcolor\": \"white\", \"linecolor\": \"white\", \"ticks\": \"\"}, \"baxis\": {\"gridcolor\": \"white\", \"linecolor\": \"white\", \"ticks\": \"\"}, \"bgcolor\": \"#E5ECF6\", \"caxis\": {\"gridcolor\": \"white\", \"linecolor\": \"white\", \"ticks\": \"\"}}, \"title\": {\"x\": 0.05}, \"xaxis\": {\"automargin\": true, \"gridcolor\": \"white\", \"linecolor\": \"white\", \"ticks\": \"\", \"zerolinecolor\": \"white\", \"zerolinewidth\": 2}, \"yaxis\": {\"automargin\": true, \"gridcolor\": \"white\", \"linecolor\": \"white\", \"ticks\": \"\", \"zerolinecolor\": \"white\", \"zerolinewidth\": 2}}}, \"title\": {\"text\": \"Basic Sankey Diagram\"}},\n",
       "                        {\"responsive\": true}\n",
       "                    ).then(function(){\n",
       "                            \n",
       "var gd = document.getElementById('aed3d8cc-046a-4593-bcd5-cc9c89e8eb11');\n",
       "var x = new MutationObserver(function (mutations, observer) {{\n",
       "        var display = window.getComputedStyle(gd).display;\n",
       "        if (!display || display === 'none') {{\n",
       "            console.log([gd, 'removed!']);\n",
       "            Plotly.purge(gd);\n",
       "            observer.disconnect();\n",
       "        }}\n",
       "}});\n",
       "\n",
       "// Listen for the removal of the full notebook cells\n",
       "var notebookContainer = gd.closest('#notebook-container');\n",
       "if (notebookContainer) {{\n",
       "    x.observe(notebookContainer, {childList: true});\n",
       "}}\n",
       "\n",
       "// Listen for the clearing of the current output cell\n",
       "var outputEl = gd.closest('.output');\n",
       "if (outputEl) {{\n",
       "    x.observe(outputEl, {childList: true});\n",
       "}}\n",
       "\n",
       "                        })\n",
       "                };\n",
       "                });\n",
       "            </script>\n",
       "        </div>"
      ]
     },
     "metadata": {},
     "output_type": "display_data"
    }
   ],
   "source": [
    "import plotly.graph_objects as go\n",
    "\n",
    "fig = go.Figure(data=[go.Sankey(\n",
    "    node = dict(\n",
    "      pad = 15,\n",
    "      thickness = 20,\n",
    "      line = dict(color = \"black\", width = 0.5),\n",
    "      label = [\"A1\", \"A2\", \"B1\", \"B2\", \"C1\", \"C2\"],\n",
    "      color = \"blue\"\n",
    "    ),\n",
    "    link = dict(\n",
    "      source = [0, 1, 0, 2, 3, 3], # indices correspond to labels, eg A1, A2, A2, B1, ...\n",
    "      target = [2, 3, 3, 4, 4, 5],\n",
    "      value = [8, 4, 2, 8, 4, 2]\n",
    "  ))])\n",
    "\n",
    "fig.update_layout(title_text=\"Basic Sankey Diagram\", font_size=10)\n",
    "fig.show()"
   ]
  },
  {
   "cell_type": "code",
   "execution_count": 30,
   "metadata": {},
   "outputs": [],
   "source": [
    "label=df['ESTACION_I'].tolist()"
   ]
  },
  {
   "cell_type": "code",
   "execution_count": 31,
   "metadata": {},
   "outputs": [],
   "source": [
    "source=df['ESTACION_I'].tolist()"
   ]
  },
  {
   "cell_type": "code",
   "execution_count": 32,
   "metadata": {},
   "outputs": [],
   "source": [
    "target=df['ESTACION_F'].tolist()"
   ]
  },
  {
   "cell_type": "code",
   "execution_count": 33,
   "metadata": {},
   "outputs": [],
   "source": [
    "value=df['VIAJES'].tolist()"
   ]
  },
  {
   "cell_type": "code",
   "execution_count": 34,
   "metadata": {},
   "outputs": [],
   "source": [
    "data_sankey= [go.Sankey(node= {'pad': 15,\n",
    "                              'thickness': 20,\n",
    "                              'line': {'color': 'black',\n",
    "                                      'width': 0.5},\n",
    "                              'label': label,\n",
    "                              'color': 'blue'},\n",
    "                       link= {'source': source,\n",
    "                             'target': target,\n",
    "                             'value': value})]"
   ]
  },
  {
   "cell_type": "code",
   "execution_count": 35,
   "metadata": {},
   "outputs": [
    {
     "data": {
      "application/vnd.plotly.v1+json": {
       "config": {
        "plotlyServerURL": "https://plot.ly"
       },
       "data": [
        {
         "link": {
          "source": [
           "ABC",
           "ABC",
           "ABC",
           "ABC",
           "DEF",
           "DEF",
           "DEF",
           "DEF",
           "GHI",
           "GHI",
           "GHI",
           "GHI",
           "JKL",
           "JKL",
           "JKL",
           "JKL",
           "MNO",
           "MNO",
           "MNO",
           "MNO",
           "ABC",
           "ABC",
           "ABC",
           "DEF",
           "DEF",
           "DEF",
           "GHI",
           "GHI",
           "GHI",
           "JKL",
           "JKL",
           "JKL",
           "MNO",
           "MNO",
           "MNO",
           "ABC",
           "DEF",
           "GHI",
           "JKL",
           "MNO",
           "ABC",
           "ABC",
           "ABC",
           "ABC",
           "ABC",
           "ABC",
           "DEF",
           "DEF",
           "DEF",
           "DEF",
           "DEF",
           "DEF",
           "GHI",
           "GHI",
           "GHI",
           "GHI",
           "GHI",
           "GHI",
           "JKL",
           "JKL",
           "JKL",
           "JKL",
           "JKL",
           "JKL",
           "MNO",
           "MNO",
           "MNO",
           "MNO",
           "MNO",
           "MNO",
           "ABC",
           "ABC",
           "ABC",
           "ABC",
           "ABC",
           "DEF",
           "DEF",
           "DEF",
           "DEF",
           "DEF",
           "GHI",
           "GHI",
           "GHI",
           "GHI",
           "GHI",
           "JKL",
           "JKL",
           "JKL",
           "JKL",
           "JKL",
           "MNO",
           "MNO",
           "MNO",
           "MNO",
           "MNO",
           "ABC",
           "ABC",
           "DEF",
           "DEF",
           "GHI",
           "GHI",
           "JKL",
           "JKL",
           "MNO",
           "MNO",
           "OPQ",
           "OPQ",
           "OPQ",
           "OPQ",
           "OPQ",
           "RST",
           "RST",
           "RST",
           "RST",
           "RST",
           "UVW",
           "UVW",
           "UVW",
           "UVW",
           "UVW",
           "XYZ",
           "XYZ",
           "XYZ",
           "XYZ",
           "XYZ",
           "OPQ",
           "OPQ",
           "OPQ",
           "RST",
           "RST",
           "RST",
           "UVW",
           "UVW",
           "UVW",
           "XYZ",
           "XYZ",
           "XYZ",
           "OPQ",
           "RST",
           "UVW",
           "XYZ",
           "OPQ",
           "OPQ",
           "OPQ",
           "OPQ",
           "OPQ",
           "OPQ",
           "RST",
           "RST",
           "RST",
           "RST",
           "RST",
           "RST",
           "UVW",
           "UVW",
           "UVW",
           "UVW",
           "UVW",
           "UVW",
           "XYZ",
           "XYZ",
           "XYZ",
           "XYZ",
           "XYZ",
           "XYZ",
           "OPQ",
           "OPQ",
           "OPQ",
           "OPQ",
           "OPQ",
           "RST",
           "RST",
           "RST",
           "RST",
           "RST",
           "UVW",
           "UVW",
           "UVW",
           "UVW",
           "UVW",
           "XYZ",
           "XYZ",
           "XYZ",
           "XYZ",
           "XYZ",
           "OPQ",
           "OPQ",
           "RST",
           "RST",
           "UVW",
           "UVW",
           "XYZ",
           "XYZ",
           "AAB",
           "AAB",
           "AAB",
           "AAB",
           "AAB",
           "BBA",
           "BBA",
           "BBA",
           "BBA",
           "BBA",
           "AAC",
           "AAC",
           "AAC",
           "AAC",
           "AAC",
           "AAB",
           "AAB",
           "AAB",
           "AAB",
           "BBA",
           "BBA",
           "BBA",
           "BBA",
           "AAC",
           "AAC",
           "AAC",
           "AAC",
           "AAB",
           "BBA",
           "AAC",
           "AAB",
           "AAB",
           "AAB",
           "AAB",
           "AAB",
           "AAB",
           "BBA",
           "BBA",
           "BBA",
           "BBA",
           "BBA",
           "BBA",
           "AAC",
           "AAC",
           "AAC",
           "AAC",
           "AAC",
           "AAC",
           "AAB",
           "AAB",
           "AAB",
           "AAB",
           "AAB",
           "BBA",
           "BBA",
           "BBA",
           "BBA",
           "BBA",
           "AAC",
           "AAC",
           "AAC",
           "AAC",
           "AAC",
           "AAB",
           "AAB",
           "BBA",
           "BBA",
           "AAC",
           "AAC",
           "CCA",
           "CCA",
           "CCA",
           "CCA",
           "CCA",
           "CCA",
           "CCA",
           "CCA",
           "CCA",
           "CCA",
           "CCA",
           "CCA",
           "CCA",
           "CCA",
           "CCA",
           "CCA",
           "CCA",
           "CCA",
           "CCA",
           "CCA",
           "CCA",
           "CCA",
           "CCA",
           "CCA",
           "CCA",
           "DDA",
           "DDA",
           "DDA",
           "DDA",
           "DDA",
           "EEA",
           "EEA",
           "EEA",
           "EEA",
           "EEA",
           "FFA",
           "FFA",
           "FFA",
           "FFA",
           "FFA",
           "GGA",
           "GGA",
           "GGA",
           "GGA",
           "GGA",
           "HHA",
           "HHA",
           "HHA",
           "HHA",
           "HHA",
           "IIA",
           "IIA",
           "IIA",
           "IIA",
           "IIA",
           "DDA",
           "DDA",
           "DDA",
           "DDA",
           "EEA",
           "EEA",
           "EEA",
           "EEA",
           "FFA",
           "FFA",
           "FFA",
           "FFA",
           "GGA",
           "GGA",
           "GGA",
           "GGA",
           "HHA",
           "HHA",
           "HHA",
           "HHA",
           "IIA",
           "IIA",
           "IIA",
           "IIA",
           "DDA",
           "DDA",
           "DDA",
           "EEA",
           "EEA",
           "EEA",
           "FFA",
           "FFA",
           "FFA",
           "GGA",
           "GGA",
           "GGA",
           "HHA",
           "HHA",
           "HHA",
           "IIA",
           "IIA",
           "IIA",
           "DDA",
           "EEA",
           "FFA",
           "GGA",
           "HHA",
           "IIA",
           "DDA",
           "DDA",
           "DDA",
           "DDA",
           "DDA",
           "EEA",
           "EEA",
           "EEA",
           "EEA",
           "EEA",
           "FFA",
           "FFA",
           "FFA",
           "FFA",
           "FFA",
           "GGA",
           "GGA",
           "GGA",
           "GGA",
           "GGA",
           "HHA",
           "HHA",
           "HHA",
           "HHA",
           "HHA",
           "IIA",
           "IIA",
           "IIA",
           "IIA",
           "IIA",
           "DDA",
           "DDA",
           "EEA",
           "EEA",
           "FFA",
           "FFA",
           "GGA",
           "GGA",
           "HHA",
           "HHA",
           "IIA",
           "IIA",
           "CCB",
           "CCB",
           "CCB",
           "CCB",
           "CCB",
           "CCD",
           "CCD",
           "CCD",
           "CCD",
           "CCD",
           "CCE",
           "CCE",
           "CCE",
           "CCE",
           "CCE",
           "CCF",
           "CCF",
           "CCF",
           "CCF",
           "CCF",
           "CCG",
           "CCG",
           "CCG",
           "CCG",
           "CCG",
           "CCB",
           "CCB",
           "CCB",
           "CCB",
           "CCD",
           "CCD",
           "CCD",
           "CCD",
           "CCE",
           "CCE",
           "CCE",
           "CCE",
           "CCF",
           "CCF",
           "CCF",
           "CCF",
           "CCG",
           "CCG",
           "CCG",
           "CCG",
           "CCB",
           "CCB",
           "CCB",
           "CCD",
           "CCD",
           "CCD",
           "CCE",
           "CCE",
           "CCE",
           "CCF",
           "CCF",
           "CCF",
           "CCG",
           "CCG",
           "CCG",
           "CCB",
           "CCD",
           "CCE",
           "CCF",
           "CCG",
           "CCB",
           "CCB",
           "CCB",
           "CCB",
           "CCB",
           "CCB",
           "CCD",
           "CCD",
           "CCD",
           "CCD",
           "CCD",
           "CCD",
           "CCE",
           "CCE",
           "CCE",
           "CCE",
           "CCE",
           "CCE",
           "CCF",
           "CCF",
           "CCF",
           "CCF",
           "CCF",
           "CCF",
           "CCG",
           "CCG",
           "CCG",
           "CCG",
           "CCG",
           "CCG",
           "CCB",
           "CCB",
           "CCD",
           "CCD",
           "CCE",
           "CCE",
           "CCF",
           "CCF",
           "CCG",
           "CCG",
           "ZZA",
           "ZZA",
           "ZZA",
           "ZZA",
           "ZZA",
           "ZZB",
           "ZZB",
           "ZZB",
           "ZZB",
           "ZZB",
           "ZZA",
           "ZZA",
           "ZZA",
           "ZZA",
           "ZZB",
           "ZZB",
           "ZZB",
           "ZZB",
           "ZZA",
           "ZZA",
           "ZZA",
           "ZZB",
           "ZZB",
           "ZZB",
           "ZZA",
           "ZZB",
           "ZZA",
           "ZZA",
           "ZZA",
           "ZZA",
           "ZZA",
           "ZZA",
           "ZZB",
           "ZZB",
           "ZZB",
           "ZZB",
           "ZZB",
           "ZZB",
           "ZZA",
           "ZZA",
           "ZZA",
           "ZZA",
           "ZZA",
           "ZZB",
           "ZZB",
           "ZZB",
           "ZZB",
           "ZZB"
          ],
          "target": [
           "OPQ",
           "RST",
           "UVW",
           "XYZ",
           "OPQ",
           "RST",
           "UVW",
           "XYZ",
           "OPQ",
           "RST",
           "UVW",
           "XYZ",
           "OPQ",
           "RST",
           "UVW",
           "XYZ",
           "OPQ",
           "RST",
           "UVW",
           "XYZ",
           "AAB",
           "BBA",
           "AAC",
           "AAB",
           "BBA",
           "AAC",
           "AAB",
           "BBA",
           "AAC",
           "AAB",
           "BBA",
           "AAC",
           "AAB",
           "BBA",
           "AAC",
           "CCA",
           "CCA",
           "CCA",
           "CCA",
           "CCA",
           "DDA",
           "EEA",
           "FFA",
           "GGA",
           "HHA",
           "IIA",
           "DDA",
           "EEA",
           "FFA",
           "GGA",
           "HHA",
           "IIA",
           "DDA",
           "EEA",
           "FFA",
           "GGA",
           "HHA",
           "IIA",
           "DDA",
           "EEA",
           "FFA",
           "GGA",
           "HHA",
           "IIA",
           "DDA",
           "EEA",
           "FFA",
           "GGA",
           "HHA",
           "IIA",
           "CCB",
           "CCD",
           "CCE",
           "CCF",
           "CCG",
           "CCB",
           "CCD",
           "CCE",
           "CCF",
           "CCG",
           "CCB",
           "CCD",
           "CCE",
           "CCF",
           "CCG",
           "CCB",
           "CCD",
           "CCE",
           "CCF",
           "CCG",
           "CCB",
           "CCD",
           "CCE",
           "CCF",
           "CCG",
           "ZZA",
           "ZZB",
           "ZZA",
           "ZZB",
           "ZZA",
           "ZZB",
           "ZZA",
           "ZZB",
           "ZZA",
           "ZZB",
           "ABC",
           "DEF",
           "GHI",
           "JKL",
           "MNO",
           "ABC",
           "DEF",
           "GHI",
           "JKL",
           "MNO",
           "ABC",
           "DEF",
           "GHI",
           "JKL",
           "MNO",
           "ABC",
           "DEF",
           "GHI",
           "JKL",
           "MNO",
           "AAB",
           "BBA",
           "AAC",
           "AAB",
           "BBA",
           "AAC",
           "AAB",
           "BBA",
           "AAC",
           "AAB",
           "BBA",
           "AAC",
           "CCA",
           "CCA",
           "CCA",
           "CCA",
           "DDA",
           "EEA",
           "FFA",
           "GGA",
           "HHA",
           "IIA",
           "DDA",
           "EEA",
           "FFA",
           "GGA",
           "HHA",
           "IIA",
           "DDA",
           "EEA",
           "FFA",
           "GGA",
           "HHA",
           "IIA",
           "DDA",
           "EEA",
           "FFA",
           "GGA",
           "HHA",
           "IIA",
           "CCB",
           "CCD",
           "CCE",
           "CCF",
           "CCG",
           "CCB",
           "CCD",
           "CCE",
           "CCF",
           "CCG",
           "CCB",
           "CCD",
           "CCE",
           "CCF",
           "CCG",
           "CCB",
           "CCD",
           "CCE",
           "CCF",
           "CCG",
           "ZZA",
           "ZZB",
           "ZZA",
           "ZZB",
           "ZZA",
           "ZZB",
           "ZZA",
           "ZZB",
           "ABC",
           "DEF",
           "GHI",
           "JKL",
           "MNO",
           "ABC",
           "DEF",
           "GHI",
           "JKL",
           "MNO",
           "ABC",
           "DEF",
           "GHI",
           "JKL",
           "MNO",
           "OPQ",
           "RST",
           "UVW",
           "XYZ",
           "OPQ",
           "RST",
           "UVW",
           "XYZ",
           "OPQ",
           "RST",
           "UVW",
           "XYZ",
           "CCA",
           "CCA",
           "CCA",
           "DDA",
           "EEA",
           "FFA",
           "GGA",
           "HHA",
           "IIA",
           "DDA",
           "EEA",
           "FFA",
           "GGA",
           "HHA",
           "IIA",
           "DDA",
           "EEA",
           "FFA",
           "GGA",
           "HHA",
           "IIA",
           "CCB",
           "CCD",
           "CCE",
           "CCF",
           "CCG",
           "CCB",
           "CCD",
           "CCE",
           "CCF",
           "CCG",
           "CCB",
           "CCD",
           "CCE",
           "CCF",
           "CCG",
           "ZZA",
           "ZZB",
           "ZZA",
           "ZZB",
           "ZZA",
           "ZZB",
           "ABC",
           "DEF",
           "GHI",
           "JKL",
           "MNO",
           "OPQ",
           "RST",
           "UVW",
           "XYZ",
           "AAB",
           "BBA",
           "AAC",
           "DDA",
           "EEA",
           "FFA",
           "GGA",
           "HHA",
           "IIA",
           "CCB",
           "CCD",
           "CCE",
           "CCF",
           "CCG",
           "ZZA",
           "ZZB",
           "ABC",
           "DEF",
           "GHI",
           "JKL",
           "MNO",
           "ABC",
           "DEF",
           "GHI",
           "JKL",
           "MNO",
           "ABC",
           "DEF",
           "GHI",
           "JKL",
           "MNO",
           "ABC",
           "DEF",
           "GHI",
           "JKL",
           "MNO",
           "ABC",
           "DEF",
           "GHI",
           "JKL",
           "MNO",
           "ABC",
           "DEF",
           "GHI",
           "JKL",
           "MNO",
           "OPQ",
           "RST",
           "UVW",
           "XYZ",
           "OPQ",
           "RST",
           "UVW",
           "XYZ",
           "OPQ",
           "RST",
           "UVW",
           "XYZ",
           "OPQ",
           "RST",
           "UVW",
           "XYZ",
           "OPQ",
           "RST",
           "UVW",
           "XYZ",
           "OPQ",
           "RST",
           "UVW",
           "XYZ",
           "AAB",
           "BBA",
           "AAC",
           "AAB",
           "BBA",
           "AAC",
           "AAB",
           "BBA",
           "AAC",
           "AAB",
           "BBA",
           "AAC",
           "AAB",
           "BBA",
           "AAC",
           "AAB",
           "BBA",
           "AAC",
           "CCA",
           "CCA",
           "CCA",
           "CCA",
           "CCA",
           "CCA",
           "CCB",
           "CCD",
           "CCE",
           "CCF",
           "CCG",
           "CCB",
           "CCD",
           "CCE",
           "CCF",
           "CCG",
           "CCB",
           "CCD",
           "CCE",
           "CCF",
           "CCG",
           "CCB",
           "CCD",
           "CCE",
           "CCF",
           "CCG",
           "CCB",
           "CCD",
           "CCE",
           "CCF",
           "CCG",
           "CCB",
           "CCD",
           "CCE",
           "CCF",
           "CCG",
           "ZZA",
           "ZZB",
           "ZZA",
           "ZZB",
           "ZZA",
           "ZZB",
           "ZZA",
           "ZZB",
           "ZZA",
           "ZZB",
           "ZZA",
           "ZZB",
           "ABC",
           "DEF",
           "GHI",
           "JKL",
           "MNO",
           "ABC",
           "DEF",
           "GHI",
           "JKL",
           "MNO",
           "ABC",
           "DEF",
           "GHI",
           "JKL",
           "MNO",
           "ABC",
           "DEF",
           "GHI",
           "JKL",
           "MNO",
           "ABC",
           "DEF",
           "GHI",
           "JKL",
           "MNO",
           "OPQ",
           "RST",
           "UVW",
           "XYZ",
           "OPQ",
           "RST",
           "UVW",
           "XYZ",
           "OPQ",
           "RST",
           "UVW",
           "XYZ",
           "OPQ",
           "RST",
           "UVW",
           "XYZ",
           "OPQ",
           "RST",
           "UVW",
           "XYZ",
           "AAB",
           "BBA",
           "AAC",
           "AAB",
           "BBA",
           "AAC",
           "AAB",
           "BBA",
           "AAC",
           "AAB",
           "BBA",
           "AAC",
           "AAB",
           "BBA",
           "AAC",
           "CCA",
           "CCA",
           "CCA",
           "CCA",
           "CCA",
           "DDA",
           "EEA",
           "FFA",
           "GGA",
           "HHA",
           "IIA",
           "DDA",
           "EEA",
           "FFA",
           "GGA",
           "HHA",
           "IIA",
           "DDA",
           "EEA",
           "FFA",
           "GGA",
           "HHA",
           "IIA",
           "DDA",
           "EEA",
           "FFA",
           "GGA",
           "HHA",
           "IIA",
           "DDA",
           "EEA",
           "FFA",
           "GGA",
           "HHA",
           "IIA",
           "ZZA",
           "ZZB",
           "ZZA",
           "ZZB",
           "ZZA",
           "ZZB",
           "ZZA",
           "ZZB",
           "ZZA",
           "ZZB",
           "ABC",
           "DEF",
           "GHI",
           "JKL",
           "MNO",
           "ABC",
           "DEF",
           "GHI",
           "JKL",
           "MNO",
           "OPQ",
           "RST",
           "UVW",
           "XYZ",
           "OPQ",
           "RST",
           "UVW",
           "XYZ",
           "AAB",
           "BBA",
           "AAC",
           "AAB",
           "BBA",
           "AAC",
           "CCA",
           "CCA",
           "DDA",
           "EEA",
           "FFA",
           "GGA",
           "HHA",
           "IIA",
           "DDA",
           "EEA",
           "FFA",
           "GGA",
           "HHA",
           "IIA",
           "CCB",
           "CCD",
           "CCE",
           "CCF",
           "CCG",
           "CCB",
           "CCD",
           "CCE",
           "CCF",
           "CCG"
          ],
          "value": [
           40,
           25,
           84,
           16,
           45,
           75,
           20,
           89,
           74,
           12,
           10,
           96,
           42,
           45,
           89,
           32,
           20,
           21,
           41,
           45,
           85,
           74,
           12,
           46,
           30,
           36,
           63,
           98,
           41,
           2,
           84,
           24,
           12,
           52,
           45,
           10,
           84,
           63,
           12,
           85,
           71,
           45,
           93,
           69,
           89,
           78,
           85,
           82,
           91,
           83,
           71,
           82,
           97,
           42,
           96,
           83,
           4,
           89,
           63,
           102,
           78,
           52,
           41,
           32,
           52,
           74,
           52,
           52,
           20,
           45,
           20,
           78,
           42,
           84,
           5,
           90,
           64,
           103,
           79,
           53,
           42,
           33,
           53,
           75,
           53,
           53,
           21,
           46,
           21,
           79,
           43,
           85,
           6,
           91,
           65,
           104,
           80,
           54,
           43,
           34,
           54,
           76,
           54,
           54,
           22,
           40,
           45,
           74,
           42,
           20,
           25,
           75,
           12,
           45,
           21,
           84,
           20,
           10,
           89,
           41,
           16,
           89,
           96,
           32,
           45,
           17,
           90,
           97,
           33,
           46,
           18,
           91,
           98,
           34,
           42,
           15,
           10,
           53,
           53,
           21,
           46,
           21,
           79,
           43,
           85,
           6,
           46,
           18,
           91,
           98,
           34,
           53,
           19,
           92,
           99,
           35,
           54,
           20,
           93,
           100,
           36,
           55,
           21,
           94,
           101,
           40,
           25,
           84,
           16,
           45,
           75,
           20,
           89,
           74,
           12,
           10,
           96,
           42,
           45,
           89,
           32,
           20,
           21,
           41,
           45,
           22,
           40,
           45,
           74,
           42,
           20,
           25,
           75,
           85,
           46,
           63,
           2,
           12,
           74,
           30,
           98,
           84,
           52,
           12,
           36,
           41,
           24,
           45,
           17,
           33,
           91,
           42,
           90,
           46,
           98,
           15,
           97,
           18,
           34,
           10,
           17,
           42,
           98,
           99,
           35,
           54,
           20,
           93,
           100,
           36,
           55,
           21,
           94,
           101,
           40,
           25,
           84,
           16,
           45,
           75,
           20,
           96,
           89,
           41,
           74,
           42,
           20,
           25,
           74,
           30,
           98,
           84,
           52,
           12,
           20,
           25,
           46,
           63,
           2,
           12,
           74,
           30,
           10,
           84,
           63,
           12,
           85,
           53,
           53,
           21,
           46,
           17,
           42,
           98,
           93,
           21,
           25,
           41,
           12,
           46,
           46,
           18,
           91,
           98,
           34,
           98,
           21,
           71,
           85,
           97,
           63,
           52,
           45,
           82,
           42,
           102,
           74,
           93,
           91,
           96,
           78,
           52,
           69,
           83,
           83,
           52,
           52,
           89,
           71,
           4,
           41,
           20,
           78,
           82,
           89,
           32,
           45,
           21,
           18,
           92,
           100,
           79,
           91,
           99,
           36,
           43,
           98,
           35,
           55,
           85,
           34,
           54,
           21,
           6,
           53,
           20,
           94,
           46,
           19,
           93,
           101,
           99,
           36,
           25,
           35,
           55,
           84,
           54,
           21,
           16,
           20,
           94,
           45,
           93,
           101,
           75,
           100,
           40,
           20,
           93,
           21,
           25,
           41,
           12,
           46,
           32,
           45,
           21,
           18,
           92,
           100,
           79,
           91,
           99,
           36,
           43,
           98,
           35,
           55,
           85,
           34,
           54,
           21,
           6,
           53,
           6,
           53,
           20,
           94,
           46,
           19,
           94,
           46,
           19,
           93,
           74,
           30,
           10,
           84,
           63,
           12,
           85,
           53,
           53,
           21,
           46,
           17,
           20,
           90,
           42,
           53,
           43,
           78,
           64,
           33,
           21,
           85,
           42,
           103,
           53,
           46,
           6,
           84,
           79,
           75,
           21,
           91,
           5,
           53,
           53,
           79,
           65,
           40,
           75,
           10,
           32,
           25,
           20,
           96,
           20,
           84,
           89,
           42,
           21,
           16,
           74,
           45,
           41,
           45,
           12,
           89,
           45,
           96,
           20,
           84,
           89,
           25,
           52,
           41,
           74,
           12,
           74,
           30,
           20,
           42,
           98,
           25,
           46,
           18,
           91,
           98,
           34,
           32,
           100,
           43,
           34,
           6,
           19,
           45,
           79,
           98,
           54,
           53,
           94,
           21,
           91,
           35,
           21,
           20,
           46,
           18,
           99,
           55,
           6,
           94,
           19,
           92,
           36,
           85,
           53,
           46,
           93,
           101,
           99,
           36,
           25,
           35,
           55,
           84,
           54,
           21,
           20,
           104,
           54,
           34,
           76,
           54,
           80,
           43,
           54,
           54,
           22,
           22,
           45,
           42,
           25,
           22,
           45,
           42,
           25,
           46,
           2,
           74,
           63,
           12,
           30,
           98,
           21,
           74,
           10,
           63,
           85,
           53,
           46,
           30,
           84,
           12,
           53,
           21,
           17,
           101,
           36,
           35,
           84,
           21,
           99,
           25,
           55,
           54,
           20
          ]
         },
         "node": {
          "color": "blue",
          "label": [
           "ABC",
           "ABC",
           "ABC",
           "ABC",
           "DEF",
           "DEF",
           "DEF",
           "DEF",
           "GHI",
           "GHI",
           "GHI",
           "GHI",
           "JKL",
           "JKL",
           "JKL",
           "JKL",
           "MNO",
           "MNO",
           "MNO",
           "MNO",
           "ABC",
           "ABC",
           "ABC",
           "DEF",
           "DEF",
           "DEF",
           "GHI",
           "GHI",
           "GHI",
           "JKL",
           "JKL",
           "JKL",
           "MNO",
           "MNO",
           "MNO",
           "ABC",
           "DEF",
           "GHI",
           "JKL",
           "MNO",
           "ABC",
           "ABC",
           "ABC",
           "ABC",
           "ABC",
           "ABC",
           "DEF",
           "DEF",
           "DEF",
           "DEF",
           "DEF",
           "DEF",
           "GHI",
           "GHI",
           "GHI",
           "GHI",
           "GHI",
           "GHI",
           "JKL",
           "JKL",
           "JKL",
           "JKL",
           "JKL",
           "JKL",
           "MNO",
           "MNO",
           "MNO",
           "MNO",
           "MNO",
           "MNO",
           "ABC",
           "ABC",
           "ABC",
           "ABC",
           "ABC",
           "DEF",
           "DEF",
           "DEF",
           "DEF",
           "DEF",
           "GHI",
           "GHI",
           "GHI",
           "GHI",
           "GHI",
           "JKL",
           "JKL",
           "JKL",
           "JKL",
           "JKL",
           "MNO",
           "MNO",
           "MNO",
           "MNO",
           "MNO",
           "ABC",
           "ABC",
           "DEF",
           "DEF",
           "GHI",
           "GHI",
           "JKL",
           "JKL",
           "MNO",
           "MNO",
           "OPQ",
           "OPQ",
           "OPQ",
           "OPQ",
           "OPQ",
           "RST",
           "RST",
           "RST",
           "RST",
           "RST",
           "UVW",
           "UVW",
           "UVW",
           "UVW",
           "UVW",
           "XYZ",
           "XYZ",
           "XYZ",
           "XYZ",
           "XYZ",
           "OPQ",
           "OPQ",
           "OPQ",
           "RST",
           "RST",
           "RST",
           "UVW",
           "UVW",
           "UVW",
           "XYZ",
           "XYZ",
           "XYZ",
           "OPQ",
           "RST",
           "UVW",
           "XYZ",
           "OPQ",
           "OPQ",
           "OPQ",
           "OPQ",
           "OPQ",
           "OPQ",
           "RST",
           "RST",
           "RST",
           "RST",
           "RST",
           "RST",
           "UVW",
           "UVW",
           "UVW",
           "UVW",
           "UVW",
           "UVW",
           "XYZ",
           "XYZ",
           "XYZ",
           "XYZ",
           "XYZ",
           "XYZ",
           "OPQ",
           "OPQ",
           "OPQ",
           "OPQ",
           "OPQ",
           "RST",
           "RST",
           "RST",
           "RST",
           "RST",
           "UVW",
           "UVW",
           "UVW",
           "UVW",
           "UVW",
           "XYZ",
           "XYZ",
           "XYZ",
           "XYZ",
           "XYZ",
           "OPQ",
           "OPQ",
           "RST",
           "RST",
           "UVW",
           "UVW",
           "XYZ",
           "XYZ",
           "AAB",
           "AAB",
           "AAB",
           "AAB",
           "AAB",
           "BBA",
           "BBA",
           "BBA",
           "BBA",
           "BBA",
           "AAC",
           "AAC",
           "AAC",
           "AAC",
           "AAC",
           "AAB",
           "AAB",
           "AAB",
           "AAB",
           "BBA",
           "BBA",
           "BBA",
           "BBA",
           "AAC",
           "AAC",
           "AAC",
           "AAC",
           "AAB",
           "BBA",
           "AAC",
           "AAB",
           "AAB",
           "AAB",
           "AAB",
           "AAB",
           "AAB",
           "BBA",
           "BBA",
           "BBA",
           "BBA",
           "BBA",
           "BBA",
           "AAC",
           "AAC",
           "AAC",
           "AAC",
           "AAC",
           "AAC",
           "AAB",
           "AAB",
           "AAB",
           "AAB",
           "AAB",
           "BBA",
           "BBA",
           "BBA",
           "BBA",
           "BBA",
           "AAC",
           "AAC",
           "AAC",
           "AAC",
           "AAC",
           "AAB",
           "AAB",
           "BBA",
           "BBA",
           "AAC",
           "AAC",
           "CCA",
           "CCA",
           "CCA",
           "CCA",
           "CCA",
           "CCA",
           "CCA",
           "CCA",
           "CCA",
           "CCA",
           "CCA",
           "CCA",
           "CCA",
           "CCA",
           "CCA",
           "CCA",
           "CCA",
           "CCA",
           "CCA",
           "CCA",
           "CCA",
           "CCA",
           "CCA",
           "CCA",
           "CCA",
           "DDA",
           "DDA",
           "DDA",
           "DDA",
           "DDA",
           "EEA",
           "EEA",
           "EEA",
           "EEA",
           "EEA",
           "FFA",
           "FFA",
           "FFA",
           "FFA",
           "FFA",
           "GGA",
           "GGA",
           "GGA",
           "GGA",
           "GGA",
           "HHA",
           "HHA",
           "HHA",
           "HHA",
           "HHA",
           "IIA",
           "IIA",
           "IIA",
           "IIA",
           "IIA",
           "DDA",
           "DDA",
           "DDA",
           "DDA",
           "EEA",
           "EEA",
           "EEA",
           "EEA",
           "FFA",
           "FFA",
           "FFA",
           "FFA",
           "GGA",
           "GGA",
           "GGA",
           "GGA",
           "HHA",
           "HHA",
           "HHA",
           "HHA",
           "IIA",
           "IIA",
           "IIA",
           "IIA",
           "DDA",
           "DDA",
           "DDA",
           "EEA",
           "EEA",
           "EEA",
           "FFA",
           "FFA",
           "FFA",
           "GGA",
           "GGA",
           "GGA",
           "HHA",
           "HHA",
           "HHA",
           "IIA",
           "IIA",
           "IIA",
           "DDA",
           "EEA",
           "FFA",
           "GGA",
           "HHA",
           "IIA",
           "DDA",
           "DDA",
           "DDA",
           "DDA",
           "DDA",
           "EEA",
           "EEA",
           "EEA",
           "EEA",
           "EEA",
           "FFA",
           "FFA",
           "FFA",
           "FFA",
           "FFA",
           "GGA",
           "GGA",
           "GGA",
           "GGA",
           "GGA",
           "HHA",
           "HHA",
           "HHA",
           "HHA",
           "HHA",
           "IIA",
           "IIA",
           "IIA",
           "IIA",
           "IIA",
           "DDA",
           "DDA",
           "EEA",
           "EEA",
           "FFA",
           "FFA",
           "GGA",
           "GGA",
           "HHA",
           "HHA",
           "IIA",
           "IIA",
           "CCB",
           "CCB",
           "CCB",
           "CCB",
           "CCB",
           "CCD",
           "CCD",
           "CCD",
           "CCD",
           "CCD",
           "CCE",
           "CCE",
           "CCE",
           "CCE",
           "CCE",
           "CCF",
           "CCF",
           "CCF",
           "CCF",
           "CCF",
           "CCG",
           "CCG",
           "CCG",
           "CCG",
           "CCG",
           "CCB",
           "CCB",
           "CCB",
           "CCB",
           "CCD",
           "CCD",
           "CCD",
           "CCD",
           "CCE",
           "CCE",
           "CCE",
           "CCE",
           "CCF",
           "CCF",
           "CCF",
           "CCF",
           "CCG",
           "CCG",
           "CCG",
           "CCG",
           "CCB",
           "CCB",
           "CCB",
           "CCD",
           "CCD",
           "CCD",
           "CCE",
           "CCE",
           "CCE",
           "CCF",
           "CCF",
           "CCF",
           "CCG",
           "CCG",
           "CCG",
           "CCB",
           "CCD",
           "CCE",
           "CCF",
           "CCG",
           "CCB",
           "CCB",
           "CCB",
           "CCB",
           "CCB",
           "CCB",
           "CCD",
           "CCD",
           "CCD",
           "CCD",
           "CCD",
           "CCD",
           "CCE",
           "CCE",
           "CCE",
           "CCE",
           "CCE",
           "CCE",
           "CCF",
           "CCF",
           "CCF",
           "CCF",
           "CCF",
           "CCF",
           "CCG",
           "CCG",
           "CCG",
           "CCG",
           "CCG",
           "CCG",
           "CCB",
           "CCB",
           "CCD",
           "CCD",
           "CCE",
           "CCE",
           "CCF",
           "CCF",
           "CCG",
           "CCG",
           "ZZA",
           "ZZA",
           "ZZA",
           "ZZA",
           "ZZA",
           "ZZB",
           "ZZB",
           "ZZB",
           "ZZB",
           "ZZB",
           "ZZA",
           "ZZA",
           "ZZA",
           "ZZA",
           "ZZB",
           "ZZB",
           "ZZB",
           "ZZB",
           "ZZA",
           "ZZA",
           "ZZA",
           "ZZB",
           "ZZB",
           "ZZB",
           "ZZA",
           "ZZB",
           "ZZA",
           "ZZA",
           "ZZA",
           "ZZA",
           "ZZA",
           "ZZA",
           "ZZB",
           "ZZB",
           "ZZB",
           "ZZB",
           "ZZB",
           "ZZB",
           "ZZA",
           "ZZA",
           "ZZA",
           "ZZA",
           "ZZA",
           "ZZB",
           "ZZB",
           "ZZB",
           "ZZB",
           "ZZB"
          ],
          "line": {
           "color": "black",
           "width": 0.5
          },
          "pad": 15,
          "thickness": 20
         },
         "type": "sankey"
        }
       ],
       "layout": {
        "font": {
         "size": 10
        },
        "template": {
         "data": {
          "bar": [
           {
            "error_x": {
             "color": "#2a3f5f"
            },
            "error_y": {
             "color": "#2a3f5f"
            },
            "marker": {
             "line": {
              "color": "#E5ECF6",
              "width": 0.5
             }
            },
            "type": "bar"
           }
          ],
          "barpolar": [
           {
            "marker": {
             "line": {
              "color": "#E5ECF6",
              "width": 0.5
             }
            },
            "type": "barpolar"
           }
          ],
          "carpet": [
           {
            "aaxis": {
             "endlinecolor": "#2a3f5f",
             "gridcolor": "white",
             "linecolor": "white",
             "minorgridcolor": "white",
             "startlinecolor": "#2a3f5f"
            },
            "baxis": {
             "endlinecolor": "#2a3f5f",
             "gridcolor": "white",
             "linecolor": "white",
             "minorgridcolor": "white",
             "startlinecolor": "#2a3f5f"
            },
            "type": "carpet"
           }
          ],
          "choropleth": [
           {
            "colorbar": {
             "outlinewidth": 0,
             "ticks": ""
            },
            "type": "choropleth"
           }
          ],
          "contour": [
           {
            "colorbar": {
             "outlinewidth": 0,
             "ticks": ""
            },
            "colorscale": [
             [
              0,
              "#0d0887"
             ],
             [
              0.1111111111111111,
              "#46039f"
             ],
             [
              0.2222222222222222,
              "#7201a8"
             ],
             [
              0.3333333333333333,
              "#9c179e"
             ],
             [
              0.4444444444444444,
              "#bd3786"
             ],
             [
              0.5555555555555556,
              "#d8576b"
             ],
             [
              0.6666666666666666,
              "#ed7953"
             ],
             [
              0.7777777777777778,
              "#fb9f3a"
             ],
             [
              0.8888888888888888,
              "#fdca26"
             ],
             [
              1,
              "#f0f921"
             ]
            ],
            "type": "contour"
           }
          ],
          "contourcarpet": [
           {
            "colorbar": {
             "outlinewidth": 0,
             "ticks": ""
            },
            "type": "contourcarpet"
           }
          ],
          "heatmap": [
           {
            "colorbar": {
             "outlinewidth": 0,
             "ticks": ""
            },
            "colorscale": [
             [
              0,
              "#0d0887"
             ],
             [
              0.1111111111111111,
              "#46039f"
             ],
             [
              0.2222222222222222,
              "#7201a8"
             ],
             [
              0.3333333333333333,
              "#9c179e"
             ],
             [
              0.4444444444444444,
              "#bd3786"
             ],
             [
              0.5555555555555556,
              "#d8576b"
             ],
             [
              0.6666666666666666,
              "#ed7953"
             ],
             [
              0.7777777777777778,
              "#fb9f3a"
             ],
             [
              0.8888888888888888,
              "#fdca26"
             ],
             [
              1,
              "#f0f921"
             ]
            ],
            "type": "heatmap"
           }
          ],
          "heatmapgl": [
           {
            "colorbar": {
             "outlinewidth": 0,
             "ticks": ""
            },
            "colorscale": [
             [
              0,
              "#0d0887"
             ],
             [
              0.1111111111111111,
              "#46039f"
             ],
             [
              0.2222222222222222,
              "#7201a8"
             ],
             [
              0.3333333333333333,
              "#9c179e"
             ],
             [
              0.4444444444444444,
              "#bd3786"
             ],
             [
              0.5555555555555556,
              "#d8576b"
             ],
             [
              0.6666666666666666,
              "#ed7953"
             ],
             [
              0.7777777777777778,
              "#fb9f3a"
             ],
             [
              0.8888888888888888,
              "#fdca26"
             ],
             [
              1,
              "#f0f921"
             ]
            ],
            "type": "heatmapgl"
           }
          ],
          "histogram": [
           {
            "marker": {
             "colorbar": {
              "outlinewidth": 0,
              "ticks": ""
             }
            },
            "type": "histogram"
           }
          ],
          "histogram2d": [
           {
            "colorbar": {
             "outlinewidth": 0,
             "ticks": ""
            },
            "colorscale": [
             [
              0,
              "#0d0887"
             ],
             [
              0.1111111111111111,
              "#46039f"
             ],
             [
              0.2222222222222222,
              "#7201a8"
             ],
             [
              0.3333333333333333,
              "#9c179e"
             ],
             [
              0.4444444444444444,
              "#bd3786"
             ],
             [
              0.5555555555555556,
              "#d8576b"
             ],
             [
              0.6666666666666666,
              "#ed7953"
             ],
             [
              0.7777777777777778,
              "#fb9f3a"
             ],
             [
              0.8888888888888888,
              "#fdca26"
             ],
             [
              1,
              "#f0f921"
             ]
            ],
            "type": "histogram2d"
           }
          ],
          "histogram2dcontour": [
           {
            "colorbar": {
             "outlinewidth": 0,
             "ticks": ""
            },
            "colorscale": [
             [
              0,
              "#0d0887"
             ],
             [
              0.1111111111111111,
              "#46039f"
             ],
             [
              0.2222222222222222,
              "#7201a8"
             ],
             [
              0.3333333333333333,
              "#9c179e"
             ],
             [
              0.4444444444444444,
              "#bd3786"
             ],
             [
              0.5555555555555556,
              "#d8576b"
             ],
             [
              0.6666666666666666,
              "#ed7953"
             ],
             [
              0.7777777777777778,
              "#fb9f3a"
             ],
             [
              0.8888888888888888,
              "#fdca26"
             ],
             [
              1,
              "#f0f921"
             ]
            ],
            "type": "histogram2dcontour"
           }
          ],
          "mesh3d": [
           {
            "colorbar": {
             "outlinewidth": 0,
             "ticks": ""
            },
            "type": "mesh3d"
           }
          ],
          "parcoords": [
           {
            "line": {
             "colorbar": {
              "outlinewidth": 0,
              "ticks": ""
             }
            },
            "type": "parcoords"
           }
          ],
          "scatter": [
           {
            "marker": {
             "colorbar": {
              "outlinewidth": 0,
              "ticks": ""
             }
            },
            "type": "scatter"
           }
          ],
          "scatter3d": [
           {
            "line": {
             "colorbar": {
              "outlinewidth": 0,
              "ticks": ""
             }
            },
            "marker": {
             "colorbar": {
              "outlinewidth": 0,
              "ticks": ""
             }
            },
            "type": "scatter3d"
           }
          ],
          "scattercarpet": [
           {
            "marker": {
             "colorbar": {
              "outlinewidth": 0,
              "ticks": ""
             }
            },
            "type": "scattercarpet"
           }
          ],
          "scattergeo": [
           {
            "marker": {
             "colorbar": {
              "outlinewidth": 0,
              "ticks": ""
             }
            },
            "type": "scattergeo"
           }
          ],
          "scattergl": [
           {
            "marker": {
             "colorbar": {
              "outlinewidth": 0,
              "ticks": ""
             }
            },
            "type": "scattergl"
           }
          ],
          "scattermapbox": [
           {
            "marker": {
             "colorbar": {
              "outlinewidth": 0,
              "ticks": ""
             }
            },
            "type": "scattermapbox"
           }
          ],
          "scatterpolar": [
           {
            "marker": {
             "colorbar": {
              "outlinewidth": 0,
              "ticks": ""
             }
            },
            "type": "scatterpolar"
           }
          ],
          "scatterpolargl": [
           {
            "marker": {
             "colorbar": {
              "outlinewidth": 0,
              "ticks": ""
             }
            },
            "type": "scatterpolargl"
           }
          ],
          "scatterternary": [
           {
            "marker": {
             "colorbar": {
              "outlinewidth": 0,
              "ticks": ""
             }
            },
            "type": "scatterternary"
           }
          ],
          "surface": [
           {
            "colorbar": {
             "outlinewidth": 0,
             "ticks": ""
            },
            "colorscale": [
             [
              0,
              "#0d0887"
             ],
             [
              0.1111111111111111,
              "#46039f"
             ],
             [
              0.2222222222222222,
              "#7201a8"
             ],
             [
              0.3333333333333333,
              "#9c179e"
             ],
             [
              0.4444444444444444,
              "#bd3786"
             ],
             [
              0.5555555555555556,
              "#d8576b"
             ],
             [
              0.6666666666666666,
              "#ed7953"
             ],
             [
              0.7777777777777778,
              "#fb9f3a"
             ],
             [
              0.8888888888888888,
              "#fdca26"
             ],
             [
              1,
              "#f0f921"
             ]
            ],
            "type": "surface"
           }
          ],
          "table": [
           {
            "cells": {
             "fill": {
              "color": "#EBF0F8"
             },
             "line": {
              "color": "white"
             }
            },
            "header": {
             "fill": {
              "color": "#C8D4E3"
             },
             "line": {
              "color": "white"
             }
            },
            "type": "table"
           }
          ]
         },
         "layout": {
          "annotationdefaults": {
           "arrowcolor": "#2a3f5f",
           "arrowhead": 0,
           "arrowwidth": 1
          },
          "colorscale": {
           "diverging": [
            [
             0,
             "#8e0152"
            ],
            [
             0.1,
             "#c51b7d"
            ],
            [
             0.2,
             "#de77ae"
            ],
            [
             0.3,
             "#f1b6da"
            ],
            [
             0.4,
             "#fde0ef"
            ],
            [
             0.5,
             "#f7f7f7"
            ],
            [
             0.6,
             "#e6f5d0"
            ],
            [
             0.7,
             "#b8e186"
            ],
            [
             0.8,
             "#7fbc41"
            ],
            [
             0.9,
             "#4d9221"
            ],
            [
             1,
             "#276419"
            ]
           ],
           "sequential": [
            [
             0,
             "#0d0887"
            ],
            [
             0.1111111111111111,
             "#46039f"
            ],
            [
             0.2222222222222222,
             "#7201a8"
            ],
            [
             0.3333333333333333,
             "#9c179e"
            ],
            [
             0.4444444444444444,
             "#bd3786"
            ],
            [
             0.5555555555555556,
             "#d8576b"
            ],
            [
             0.6666666666666666,
             "#ed7953"
            ],
            [
             0.7777777777777778,
             "#fb9f3a"
            ],
            [
             0.8888888888888888,
             "#fdca26"
            ],
            [
             1,
             "#f0f921"
            ]
           ],
           "sequentialminus": [
            [
             0,
             "#0d0887"
            ],
            [
             0.1111111111111111,
             "#46039f"
            ],
            [
             0.2222222222222222,
             "#7201a8"
            ],
            [
             0.3333333333333333,
             "#9c179e"
            ],
            [
             0.4444444444444444,
             "#bd3786"
            ],
            [
             0.5555555555555556,
             "#d8576b"
            ],
            [
             0.6666666666666666,
             "#ed7953"
            ],
            [
             0.7777777777777778,
             "#fb9f3a"
            ],
            [
             0.8888888888888888,
             "#fdca26"
            ],
            [
             1,
             "#f0f921"
            ]
           ]
          },
          "colorway": [
           "#636efa",
           "#EF553B",
           "#00cc96",
           "#ab63fa",
           "#FFA15A",
           "#19d3f3",
           "#FF6692",
           "#B6E880",
           "#FF97FF",
           "#FECB52"
          ],
          "font": {
           "color": "#2a3f5f"
          },
          "geo": {
           "bgcolor": "white",
           "lakecolor": "white",
           "landcolor": "#E5ECF6",
           "showlakes": true,
           "showland": true,
           "subunitcolor": "white"
          },
          "hoverlabel": {
           "align": "left"
          },
          "hovermode": "closest",
          "mapbox": {
           "style": "light"
          },
          "paper_bgcolor": "white",
          "plot_bgcolor": "#E5ECF6",
          "polar": {
           "angularaxis": {
            "gridcolor": "white",
            "linecolor": "white",
            "ticks": ""
           },
           "bgcolor": "#E5ECF6",
           "radialaxis": {
            "gridcolor": "white",
            "linecolor": "white",
            "ticks": ""
           }
          },
          "scene": {
           "xaxis": {
            "backgroundcolor": "#E5ECF6",
            "gridcolor": "white",
            "gridwidth": 2,
            "linecolor": "white",
            "showbackground": true,
            "ticks": "",
            "zerolinecolor": "white"
           },
           "yaxis": {
            "backgroundcolor": "#E5ECF6",
            "gridcolor": "white",
            "gridwidth": 2,
            "linecolor": "white",
            "showbackground": true,
            "ticks": "",
            "zerolinecolor": "white"
           },
           "zaxis": {
            "backgroundcolor": "#E5ECF6",
            "gridcolor": "white",
            "gridwidth": 2,
            "linecolor": "white",
            "showbackground": true,
            "ticks": "",
            "zerolinecolor": "white"
           }
          },
          "shapedefaults": {
           "line": {
            "color": "#2a3f5f"
           }
          },
          "ternary": {
           "aaxis": {
            "gridcolor": "white",
            "linecolor": "white",
            "ticks": ""
           },
           "baxis": {
            "gridcolor": "white",
            "linecolor": "white",
            "ticks": ""
           },
           "bgcolor": "#E5ECF6",
           "caxis": {
            "gridcolor": "white",
            "linecolor": "white",
            "ticks": ""
           }
          },
          "title": {
           "x": 0.05
          },
          "xaxis": {
           "automargin": true,
           "gridcolor": "white",
           "linecolor": "white",
           "ticks": "",
           "zerolinecolor": "white",
           "zerolinewidth": 2
          },
          "yaxis": {
           "automargin": true,
           "gridcolor": "white",
           "linecolor": "white",
           "ticks": "",
           "zerolinecolor": "white",
           "zerolinewidth": 2
          }
         }
        },
        "title": {
         "text": "Sankey"
        }
       }
      },
      "text/html": [
       "<div>\n",
       "        \n",
       "        \n",
       "            <div id=\"9e4ebbac-b4c4-4495-b4f1-409464d4243d\" class=\"plotly-graph-div\" style=\"height:525px; width:100%;\"></div>\n",
       "            <script type=\"text/javascript\">\n",
       "                require([\"plotly\"], function(Plotly) {\n",
       "                    window.PLOTLYENV=window.PLOTLYENV || {};\n",
       "                    \n",
       "                if (document.getElementById(\"9e4ebbac-b4c4-4495-b4f1-409464d4243d\")) {\n",
       "                    Plotly.newPlot(\n",
       "                        '9e4ebbac-b4c4-4495-b4f1-409464d4243d',\n",
       "                        [{\"link\": {\"source\": [\"ABC\", \"ABC\", \"ABC\", \"ABC\", \"DEF\", \"DEF\", \"DEF\", \"DEF\", \"GHI\", \"GHI\", \"GHI\", \"GHI\", \"JKL\", \"JKL\", \"JKL\", \"JKL\", \"MNO\", \"MNO\", \"MNO\", \"MNO\", \"ABC\", \"ABC\", \"ABC\", \"DEF\", \"DEF\", \"DEF\", \"GHI\", \"GHI\", \"GHI\", \"JKL\", \"JKL\", \"JKL\", \"MNO\", \"MNO\", \"MNO\", \"ABC\", \"DEF\", \"GHI\", \"JKL\", \"MNO\", \"ABC\", \"ABC\", \"ABC\", \"ABC\", \"ABC\", \"ABC\", \"DEF\", \"DEF\", \"DEF\", \"DEF\", \"DEF\", \"DEF\", \"GHI\", \"GHI\", \"GHI\", \"GHI\", \"GHI\", \"GHI\", \"JKL\", \"JKL\", \"JKL\", \"JKL\", \"JKL\", \"JKL\", \"MNO\", \"MNO\", \"MNO\", \"MNO\", \"MNO\", \"MNO\", \"ABC\", \"ABC\", \"ABC\", \"ABC\", \"ABC\", \"DEF\", \"DEF\", \"DEF\", \"DEF\", \"DEF\", \"GHI\", \"GHI\", \"GHI\", \"GHI\", \"GHI\", \"JKL\", \"JKL\", \"JKL\", \"JKL\", \"JKL\", \"MNO\", \"MNO\", \"MNO\", \"MNO\", \"MNO\", \"ABC\", \"ABC\", \"DEF\", \"DEF\", \"GHI\", \"GHI\", \"JKL\", \"JKL\", \"MNO\", \"MNO\", \"OPQ\", \"OPQ\", \"OPQ\", \"OPQ\", \"OPQ\", \"RST\", \"RST\", \"RST\", \"RST\", \"RST\", \"UVW\", \"UVW\", \"UVW\", \"UVW\", \"UVW\", \"XYZ\", \"XYZ\", \"XYZ\", \"XYZ\", \"XYZ\", \"OPQ\", \"OPQ\", \"OPQ\", \"RST\", \"RST\", \"RST\", \"UVW\", \"UVW\", \"UVW\", \"XYZ\", \"XYZ\", \"XYZ\", \"OPQ\", \"RST\", \"UVW\", \"XYZ\", \"OPQ\", \"OPQ\", \"OPQ\", \"OPQ\", \"OPQ\", \"OPQ\", \"RST\", \"RST\", \"RST\", \"RST\", \"RST\", \"RST\", \"UVW\", \"UVW\", \"UVW\", \"UVW\", \"UVW\", \"UVW\", \"XYZ\", \"XYZ\", \"XYZ\", \"XYZ\", \"XYZ\", \"XYZ\", \"OPQ\", \"OPQ\", \"OPQ\", \"OPQ\", \"OPQ\", \"RST\", \"RST\", \"RST\", \"RST\", \"RST\", \"UVW\", \"UVW\", \"UVW\", \"UVW\", \"UVW\", \"XYZ\", \"XYZ\", \"XYZ\", \"XYZ\", \"XYZ\", \"OPQ\", \"OPQ\", \"RST\", \"RST\", \"UVW\", \"UVW\", \"XYZ\", \"XYZ\", \"AAB\", \"AAB\", \"AAB\", \"AAB\", \"AAB\", \"BBA\", \"BBA\", \"BBA\", \"BBA\", \"BBA\", \"AAC\", \"AAC\", \"AAC\", \"AAC\", \"AAC\", \"AAB\", \"AAB\", \"AAB\", \"AAB\", \"BBA\", \"BBA\", \"BBA\", \"BBA\", \"AAC\", \"AAC\", \"AAC\", \"AAC\", \"AAB\", \"BBA\", \"AAC\", \"AAB\", \"AAB\", \"AAB\", \"AAB\", \"AAB\", \"AAB\", \"BBA\", \"BBA\", \"BBA\", \"BBA\", \"BBA\", \"BBA\", \"AAC\", \"AAC\", \"AAC\", \"AAC\", \"AAC\", \"AAC\", \"AAB\", \"AAB\", \"AAB\", \"AAB\", \"AAB\", \"BBA\", \"BBA\", \"BBA\", \"BBA\", \"BBA\", \"AAC\", \"AAC\", \"AAC\", \"AAC\", \"AAC\", \"AAB\", \"AAB\", \"BBA\", \"BBA\", \"AAC\", \"AAC\", \"CCA\", \"CCA\", \"CCA\", \"CCA\", \"CCA\", \"CCA\", \"CCA\", \"CCA\", \"CCA\", \"CCA\", \"CCA\", \"CCA\", \"CCA\", \"CCA\", \"CCA\", \"CCA\", \"CCA\", \"CCA\", \"CCA\", \"CCA\", \"CCA\", \"CCA\", \"CCA\", \"CCA\", \"CCA\", \"DDA\", \"DDA\", \"DDA\", \"DDA\", \"DDA\", \"EEA\", \"EEA\", \"EEA\", \"EEA\", \"EEA\", \"FFA\", \"FFA\", \"FFA\", \"FFA\", \"FFA\", \"GGA\", \"GGA\", \"GGA\", \"GGA\", \"GGA\", \"HHA\", \"HHA\", \"HHA\", \"HHA\", \"HHA\", \"IIA\", \"IIA\", \"IIA\", \"IIA\", \"IIA\", \"DDA\", \"DDA\", \"DDA\", \"DDA\", \"EEA\", \"EEA\", \"EEA\", \"EEA\", \"FFA\", \"FFA\", \"FFA\", \"FFA\", \"GGA\", \"GGA\", \"GGA\", \"GGA\", \"HHA\", \"HHA\", \"HHA\", \"HHA\", \"IIA\", \"IIA\", \"IIA\", \"IIA\", \"DDA\", \"DDA\", \"DDA\", \"EEA\", \"EEA\", \"EEA\", \"FFA\", \"FFA\", \"FFA\", \"GGA\", \"GGA\", \"GGA\", \"HHA\", \"HHA\", \"HHA\", \"IIA\", \"IIA\", \"IIA\", \"DDA\", \"EEA\", \"FFA\", \"GGA\", \"HHA\", \"IIA\", \"DDA\", \"DDA\", \"DDA\", \"DDA\", \"DDA\", \"EEA\", \"EEA\", \"EEA\", \"EEA\", \"EEA\", \"FFA\", \"FFA\", \"FFA\", \"FFA\", \"FFA\", \"GGA\", \"GGA\", \"GGA\", \"GGA\", \"GGA\", \"HHA\", \"HHA\", \"HHA\", \"HHA\", \"HHA\", \"IIA\", \"IIA\", \"IIA\", \"IIA\", \"IIA\", \"DDA\", \"DDA\", \"EEA\", \"EEA\", \"FFA\", \"FFA\", \"GGA\", \"GGA\", \"HHA\", \"HHA\", \"IIA\", \"IIA\", \"CCB\", \"CCB\", \"CCB\", \"CCB\", \"CCB\", \"CCD\", \"CCD\", \"CCD\", \"CCD\", \"CCD\", \"CCE\", \"CCE\", \"CCE\", \"CCE\", \"CCE\", \"CCF\", \"CCF\", \"CCF\", \"CCF\", \"CCF\", \"CCG\", \"CCG\", \"CCG\", \"CCG\", \"CCG\", \"CCB\", \"CCB\", \"CCB\", \"CCB\", \"CCD\", \"CCD\", \"CCD\", \"CCD\", \"CCE\", \"CCE\", \"CCE\", \"CCE\", \"CCF\", \"CCF\", \"CCF\", \"CCF\", \"CCG\", \"CCG\", \"CCG\", \"CCG\", \"CCB\", \"CCB\", \"CCB\", \"CCD\", \"CCD\", \"CCD\", \"CCE\", \"CCE\", \"CCE\", \"CCF\", \"CCF\", \"CCF\", \"CCG\", \"CCG\", \"CCG\", \"CCB\", \"CCD\", \"CCE\", \"CCF\", \"CCG\", \"CCB\", \"CCB\", \"CCB\", \"CCB\", \"CCB\", \"CCB\", \"CCD\", \"CCD\", \"CCD\", \"CCD\", \"CCD\", \"CCD\", \"CCE\", \"CCE\", \"CCE\", \"CCE\", \"CCE\", \"CCE\", \"CCF\", \"CCF\", \"CCF\", \"CCF\", \"CCF\", \"CCF\", \"CCG\", \"CCG\", \"CCG\", \"CCG\", \"CCG\", \"CCG\", \"CCB\", \"CCB\", \"CCD\", \"CCD\", \"CCE\", \"CCE\", \"CCF\", \"CCF\", \"CCG\", \"CCG\", \"ZZA\", \"ZZA\", \"ZZA\", \"ZZA\", \"ZZA\", \"ZZB\", \"ZZB\", \"ZZB\", \"ZZB\", \"ZZB\", \"ZZA\", \"ZZA\", \"ZZA\", \"ZZA\", \"ZZB\", \"ZZB\", \"ZZB\", \"ZZB\", \"ZZA\", \"ZZA\", \"ZZA\", \"ZZB\", \"ZZB\", \"ZZB\", \"ZZA\", \"ZZB\", \"ZZA\", \"ZZA\", \"ZZA\", \"ZZA\", \"ZZA\", \"ZZA\", \"ZZB\", \"ZZB\", \"ZZB\", \"ZZB\", \"ZZB\", \"ZZB\", \"ZZA\", \"ZZA\", \"ZZA\", \"ZZA\", \"ZZA\", \"ZZB\", \"ZZB\", \"ZZB\", \"ZZB\", \"ZZB\"], \"target\": [\"OPQ\", \"RST\", \"UVW\", \"XYZ\", \"OPQ\", \"RST\", \"UVW\", \"XYZ\", \"OPQ\", \"RST\", \"UVW\", \"XYZ\", \"OPQ\", \"RST\", \"UVW\", \"XYZ\", \"OPQ\", \"RST\", \"UVW\", \"XYZ\", \"AAB\", \"BBA\", \"AAC\", \"AAB\", \"BBA\", \"AAC\", \"AAB\", \"BBA\", \"AAC\", \"AAB\", \"BBA\", \"AAC\", \"AAB\", \"BBA\", \"AAC\", \"CCA\", \"CCA\", \"CCA\", \"CCA\", \"CCA\", \"DDA\", \"EEA\", \"FFA\", \"GGA\", \"HHA\", \"IIA\", \"DDA\", \"EEA\", \"FFA\", \"GGA\", \"HHA\", \"IIA\", \"DDA\", \"EEA\", \"FFA\", \"GGA\", \"HHA\", \"IIA\", \"DDA\", \"EEA\", \"FFA\", \"GGA\", \"HHA\", \"IIA\", \"DDA\", \"EEA\", \"FFA\", \"GGA\", \"HHA\", \"IIA\", \"CCB\", \"CCD\", \"CCE\", \"CCF\", \"CCG\", \"CCB\", \"CCD\", \"CCE\", \"CCF\", \"CCG\", \"CCB\", \"CCD\", \"CCE\", \"CCF\", \"CCG\", \"CCB\", \"CCD\", \"CCE\", \"CCF\", \"CCG\", \"CCB\", \"CCD\", \"CCE\", \"CCF\", \"CCG\", \"ZZA\", \"ZZB\", \"ZZA\", \"ZZB\", \"ZZA\", \"ZZB\", \"ZZA\", \"ZZB\", \"ZZA\", \"ZZB\", \"ABC\", \"DEF\", \"GHI\", \"JKL\", \"MNO\", \"ABC\", \"DEF\", \"GHI\", \"JKL\", \"MNO\", \"ABC\", \"DEF\", \"GHI\", \"JKL\", \"MNO\", \"ABC\", \"DEF\", \"GHI\", \"JKL\", \"MNO\", \"AAB\", \"BBA\", \"AAC\", \"AAB\", \"BBA\", \"AAC\", \"AAB\", \"BBA\", \"AAC\", \"AAB\", \"BBA\", \"AAC\", \"CCA\", \"CCA\", \"CCA\", \"CCA\", \"DDA\", \"EEA\", \"FFA\", \"GGA\", \"HHA\", \"IIA\", \"DDA\", \"EEA\", \"FFA\", \"GGA\", \"HHA\", \"IIA\", \"DDA\", \"EEA\", \"FFA\", \"GGA\", \"HHA\", \"IIA\", \"DDA\", \"EEA\", \"FFA\", \"GGA\", \"HHA\", \"IIA\", \"CCB\", \"CCD\", \"CCE\", \"CCF\", \"CCG\", \"CCB\", \"CCD\", \"CCE\", \"CCF\", \"CCG\", \"CCB\", \"CCD\", \"CCE\", \"CCF\", \"CCG\", \"CCB\", \"CCD\", \"CCE\", \"CCF\", \"CCG\", \"ZZA\", \"ZZB\", \"ZZA\", \"ZZB\", \"ZZA\", \"ZZB\", \"ZZA\", \"ZZB\", \"ABC\", \"DEF\", \"GHI\", \"JKL\", \"MNO\", \"ABC\", \"DEF\", \"GHI\", \"JKL\", \"MNO\", \"ABC\", \"DEF\", \"GHI\", \"JKL\", \"MNO\", \"OPQ\", \"RST\", \"UVW\", \"XYZ\", \"OPQ\", \"RST\", \"UVW\", \"XYZ\", \"OPQ\", \"RST\", \"UVW\", \"XYZ\", \"CCA\", \"CCA\", \"CCA\", \"DDA\", \"EEA\", \"FFA\", \"GGA\", \"HHA\", \"IIA\", \"DDA\", \"EEA\", \"FFA\", \"GGA\", \"HHA\", \"IIA\", \"DDA\", \"EEA\", \"FFA\", \"GGA\", \"HHA\", \"IIA\", \"CCB\", \"CCD\", \"CCE\", \"CCF\", \"CCG\", \"CCB\", \"CCD\", \"CCE\", \"CCF\", \"CCG\", \"CCB\", \"CCD\", \"CCE\", \"CCF\", \"CCG\", \"ZZA\", \"ZZB\", \"ZZA\", \"ZZB\", \"ZZA\", \"ZZB\", \"ABC\", \"DEF\", \"GHI\", \"JKL\", \"MNO\", \"OPQ\", \"RST\", \"UVW\", \"XYZ\", \"AAB\", \"BBA\", \"AAC\", \"DDA\", \"EEA\", \"FFA\", \"GGA\", \"HHA\", \"IIA\", \"CCB\", \"CCD\", \"CCE\", \"CCF\", \"CCG\", \"ZZA\", \"ZZB\", \"ABC\", \"DEF\", \"GHI\", \"JKL\", \"MNO\", \"ABC\", \"DEF\", \"GHI\", \"JKL\", \"MNO\", \"ABC\", \"DEF\", \"GHI\", \"JKL\", \"MNO\", \"ABC\", \"DEF\", \"GHI\", \"JKL\", \"MNO\", \"ABC\", \"DEF\", \"GHI\", \"JKL\", \"MNO\", \"ABC\", \"DEF\", \"GHI\", \"JKL\", \"MNO\", \"OPQ\", \"RST\", \"UVW\", \"XYZ\", \"OPQ\", \"RST\", \"UVW\", \"XYZ\", \"OPQ\", \"RST\", \"UVW\", \"XYZ\", \"OPQ\", \"RST\", \"UVW\", \"XYZ\", \"OPQ\", \"RST\", \"UVW\", \"XYZ\", \"OPQ\", \"RST\", \"UVW\", \"XYZ\", \"AAB\", \"BBA\", \"AAC\", \"AAB\", \"BBA\", \"AAC\", \"AAB\", \"BBA\", \"AAC\", \"AAB\", \"BBA\", \"AAC\", \"AAB\", \"BBA\", \"AAC\", \"AAB\", \"BBA\", \"AAC\", \"CCA\", \"CCA\", \"CCA\", \"CCA\", \"CCA\", \"CCA\", \"CCB\", \"CCD\", \"CCE\", \"CCF\", \"CCG\", \"CCB\", \"CCD\", \"CCE\", \"CCF\", \"CCG\", \"CCB\", \"CCD\", \"CCE\", \"CCF\", \"CCG\", \"CCB\", \"CCD\", \"CCE\", \"CCF\", \"CCG\", \"CCB\", \"CCD\", \"CCE\", \"CCF\", \"CCG\", \"CCB\", \"CCD\", \"CCE\", \"CCF\", \"CCG\", \"ZZA\", \"ZZB\", \"ZZA\", \"ZZB\", \"ZZA\", \"ZZB\", \"ZZA\", \"ZZB\", \"ZZA\", \"ZZB\", \"ZZA\", \"ZZB\", \"ABC\", \"DEF\", \"GHI\", \"JKL\", \"MNO\", \"ABC\", \"DEF\", \"GHI\", \"JKL\", \"MNO\", \"ABC\", \"DEF\", \"GHI\", \"JKL\", \"MNO\", \"ABC\", \"DEF\", \"GHI\", \"JKL\", \"MNO\", \"ABC\", \"DEF\", \"GHI\", \"JKL\", \"MNO\", \"OPQ\", \"RST\", \"UVW\", \"XYZ\", \"OPQ\", \"RST\", \"UVW\", \"XYZ\", \"OPQ\", \"RST\", \"UVW\", \"XYZ\", \"OPQ\", \"RST\", \"UVW\", \"XYZ\", \"OPQ\", \"RST\", \"UVW\", \"XYZ\", \"AAB\", \"BBA\", \"AAC\", \"AAB\", \"BBA\", \"AAC\", \"AAB\", \"BBA\", \"AAC\", \"AAB\", \"BBA\", \"AAC\", \"AAB\", \"BBA\", \"AAC\", \"CCA\", \"CCA\", \"CCA\", \"CCA\", \"CCA\", \"DDA\", \"EEA\", \"FFA\", \"GGA\", \"HHA\", \"IIA\", \"DDA\", \"EEA\", \"FFA\", \"GGA\", \"HHA\", \"IIA\", \"DDA\", \"EEA\", \"FFA\", \"GGA\", \"HHA\", \"IIA\", \"DDA\", \"EEA\", \"FFA\", \"GGA\", \"HHA\", \"IIA\", \"DDA\", \"EEA\", \"FFA\", \"GGA\", \"HHA\", \"IIA\", \"ZZA\", \"ZZB\", \"ZZA\", \"ZZB\", \"ZZA\", \"ZZB\", \"ZZA\", \"ZZB\", \"ZZA\", \"ZZB\", \"ABC\", \"DEF\", \"GHI\", \"JKL\", \"MNO\", \"ABC\", \"DEF\", \"GHI\", \"JKL\", \"MNO\", \"OPQ\", \"RST\", \"UVW\", \"XYZ\", \"OPQ\", \"RST\", \"UVW\", \"XYZ\", \"AAB\", \"BBA\", \"AAC\", \"AAB\", \"BBA\", \"AAC\", \"CCA\", \"CCA\", \"DDA\", \"EEA\", \"FFA\", \"GGA\", \"HHA\", \"IIA\", \"DDA\", \"EEA\", \"FFA\", \"GGA\", \"HHA\", \"IIA\", \"CCB\", \"CCD\", \"CCE\", \"CCF\", \"CCG\", \"CCB\", \"CCD\", \"CCE\", \"CCF\", \"CCG\"], \"value\": [40, 25, 84, 16, 45, 75, 20, 89, 74, 12, 10, 96, 42, 45, 89, 32, 20, 21, 41, 45, 85, 74, 12, 46, 30, 36, 63, 98, 41, 2, 84, 24, 12, 52, 45, 10, 84, 63, 12, 85, 71, 45, 93, 69, 89, 78, 85, 82, 91, 83, 71, 82, 97, 42, 96, 83, 4, 89, 63, 102, 78, 52, 41, 32, 52, 74, 52, 52, 20, 45, 20, 78, 42, 84, 5, 90, 64, 103, 79, 53, 42, 33, 53, 75, 53, 53, 21, 46, 21, 79, 43, 85, 6, 91, 65, 104, 80, 54, 43, 34, 54, 76, 54, 54, 22, 40, 45, 74, 42, 20, 25, 75, 12, 45, 21, 84, 20, 10, 89, 41, 16, 89, 96, 32, 45, 17, 90, 97, 33, 46, 18, 91, 98, 34, 42, 15, 10, 53, 53, 21, 46, 21, 79, 43, 85, 6, 46, 18, 91, 98, 34, 53, 19, 92, 99, 35, 54, 20, 93, 100, 36, 55, 21, 94, 101, 40, 25, 84, 16, 45, 75, 20, 89, 74, 12, 10, 96, 42, 45, 89, 32, 20, 21, 41, 45, 22, 40, 45, 74, 42, 20, 25, 75, 85, 46, 63, 2, 12, 74, 30, 98, 84, 52, 12, 36, 41, 24, 45, 17, 33, 91, 42, 90, 46, 98, 15, 97, 18, 34, 10, 17, 42, 98, 99, 35, 54, 20, 93, 100, 36, 55, 21, 94, 101, 40, 25, 84, 16, 45, 75, 20, 96, 89, 41, 74, 42, 20, 25, 74, 30, 98, 84, 52, 12, 20, 25, 46, 63, 2, 12, 74, 30, 10, 84, 63, 12, 85, 53, 53, 21, 46, 17, 42, 98, 93, 21, 25, 41, 12, 46, 46, 18, 91, 98, 34, 98, 21, 71, 85, 97, 63, 52, 45, 82, 42, 102, 74, 93, 91, 96, 78, 52, 69, 83, 83, 52, 52, 89, 71, 4, 41, 20, 78, 82, 89, 32, 45, 21, 18, 92, 100, 79, 91, 99, 36, 43, 98, 35, 55, 85, 34, 54, 21, 6, 53, 20, 94, 46, 19, 93, 101, 99, 36, 25, 35, 55, 84, 54, 21, 16, 20, 94, 45, 93, 101, 75, 100, 40, 20, 93, 21, 25, 41, 12, 46, 32, 45, 21, 18, 92, 100, 79, 91, 99, 36, 43, 98, 35, 55, 85, 34, 54, 21, 6, 53, 6, 53, 20, 94, 46, 19, 94, 46, 19, 93, 74, 30, 10, 84, 63, 12, 85, 53, 53, 21, 46, 17, 20, 90, 42, 53, 43, 78, 64, 33, 21, 85, 42, 103, 53, 46, 6, 84, 79, 75, 21, 91, 5, 53, 53, 79, 65, 40, 75, 10, 32, 25, 20, 96, 20, 84, 89, 42, 21, 16, 74, 45, 41, 45, 12, 89, 45, 96, 20, 84, 89, 25, 52, 41, 74, 12, 74, 30, 20, 42, 98, 25, 46, 18, 91, 98, 34, 32, 100, 43, 34, 6, 19, 45, 79, 98, 54, 53, 94, 21, 91, 35, 21, 20, 46, 18, 99, 55, 6, 94, 19, 92, 36, 85, 53, 46, 93, 101, 99, 36, 25, 35, 55, 84, 54, 21, 20, 104, 54, 34, 76, 54, 80, 43, 54, 54, 22, 22, 45, 42, 25, 22, 45, 42, 25, 46, 2, 74, 63, 12, 30, 98, 21, 74, 10, 63, 85, 53, 46, 30, 84, 12, 53, 21, 17, 101, 36, 35, 84, 21, 99, 25, 55, 54, 20]}, \"node\": {\"color\": \"blue\", \"label\": [\"ABC\", \"ABC\", \"ABC\", \"ABC\", \"DEF\", \"DEF\", \"DEF\", \"DEF\", \"GHI\", \"GHI\", \"GHI\", \"GHI\", \"JKL\", \"JKL\", \"JKL\", \"JKL\", \"MNO\", \"MNO\", \"MNO\", \"MNO\", \"ABC\", \"ABC\", \"ABC\", \"DEF\", \"DEF\", \"DEF\", \"GHI\", \"GHI\", \"GHI\", \"JKL\", \"JKL\", \"JKL\", \"MNO\", \"MNO\", \"MNO\", \"ABC\", \"DEF\", \"GHI\", \"JKL\", \"MNO\", \"ABC\", \"ABC\", \"ABC\", \"ABC\", \"ABC\", \"ABC\", \"DEF\", \"DEF\", \"DEF\", \"DEF\", \"DEF\", \"DEF\", \"GHI\", \"GHI\", \"GHI\", \"GHI\", \"GHI\", \"GHI\", \"JKL\", \"JKL\", \"JKL\", \"JKL\", \"JKL\", \"JKL\", \"MNO\", \"MNO\", \"MNO\", \"MNO\", \"MNO\", \"MNO\", \"ABC\", \"ABC\", \"ABC\", \"ABC\", \"ABC\", \"DEF\", \"DEF\", \"DEF\", \"DEF\", \"DEF\", \"GHI\", \"GHI\", \"GHI\", \"GHI\", \"GHI\", \"JKL\", \"JKL\", \"JKL\", \"JKL\", \"JKL\", \"MNO\", \"MNO\", \"MNO\", \"MNO\", \"MNO\", \"ABC\", \"ABC\", \"DEF\", \"DEF\", \"GHI\", \"GHI\", \"JKL\", \"JKL\", \"MNO\", \"MNO\", \"OPQ\", \"OPQ\", \"OPQ\", \"OPQ\", \"OPQ\", \"RST\", \"RST\", \"RST\", \"RST\", \"RST\", \"UVW\", \"UVW\", \"UVW\", \"UVW\", \"UVW\", \"XYZ\", \"XYZ\", \"XYZ\", \"XYZ\", \"XYZ\", \"OPQ\", \"OPQ\", \"OPQ\", \"RST\", \"RST\", \"RST\", \"UVW\", \"UVW\", \"UVW\", \"XYZ\", \"XYZ\", \"XYZ\", \"OPQ\", \"RST\", \"UVW\", \"XYZ\", \"OPQ\", \"OPQ\", \"OPQ\", \"OPQ\", \"OPQ\", \"OPQ\", \"RST\", \"RST\", \"RST\", \"RST\", \"RST\", \"RST\", \"UVW\", \"UVW\", \"UVW\", \"UVW\", \"UVW\", \"UVW\", \"XYZ\", \"XYZ\", \"XYZ\", \"XYZ\", \"XYZ\", \"XYZ\", \"OPQ\", \"OPQ\", \"OPQ\", \"OPQ\", \"OPQ\", \"RST\", \"RST\", \"RST\", \"RST\", \"RST\", \"UVW\", \"UVW\", \"UVW\", \"UVW\", \"UVW\", \"XYZ\", \"XYZ\", \"XYZ\", \"XYZ\", \"XYZ\", \"OPQ\", \"OPQ\", \"RST\", \"RST\", \"UVW\", \"UVW\", \"XYZ\", \"XYZ\", \"AAB\", \"AAB\", \"AAB\", \"AAB\", \"AAB\", \"BBA\", \"BBA\", \"BBA\", \"BBA\", \"BBA\", \"AAC\", \"AAC\", \"AAC\", \"AAC\", \"AAC\", \"AAB\", \"AAB\", \"AAB\", \"AAB\", \"BBA\", \"BBA\", \"BBA\", \"BBA\", \"AAC\", \"AAC\", \"AAC\", \"AAC\", \"AAB\", \"BBA\", \"AAC\", \"AAB\", \"AAB\", \"AAB\", \"AAB\", \"AAB\", \"AAB\", \"BBA\", \"BBA\", \"BBA\", \"BBA\", \"BBA\", \"BBA\", \"AAC\", \"AAC\", \"AAC\", \"AAC\", \"AAC\", \"AAC\", \"AAB\", \"AAB\", \"AAB\", \"AAB\", \"AAB\", \"BBA\", \"BBA\", \"BBA\", \"BBA\", \"BBA\", \"AAC\", \"AAC\", \"AAC\", \"AAC\", \"AAC\", \"AAB\", \"AAB\", \"BBA\", \"BBA\", \"AAC\", \"AAC\", \"CCA\", \"CCA\", \"CCA\", \"CCA\", \"CCA\", \"CCA\", \"CCA\", \"CCA\", \"CCA\", \"CCA\", \"CCA\", \"CCA\", \"CCA\", \"CCA\", \"CCA\", \"CCA\", \"CCA\", \"CCA\", \"CCA\", \"CCA\", \"CCA\", \"CCA\", \"CCA\", \"CCA\", \"CCA\", \"DDA\", \"DDA\", \"DDA\", \"DDA\", \"DDA\", \"EEA\", \"EEA\", \"EEA\", \"EEA\", \"EEA\", \"FFA\", \"FFA\", \"FFA\", \"FFA\", \"FFA\", \"GGA\", \"GGA\", \"GGA\", \"GGA\", \"GGA\", \"HHA\", \"HHA\", \"HHA\", \"HHA\", \"HHA\", \"IIA\", \"IIA\", \"IIA\", \"IIA\", \"IIA\", \"DDA\", \"DDA\", \"DDA\", \"DDA\", \"EEA\", \"EEA\", \"EEA\", \"EEA\", \"FFA\", \"FFA\", \"FFA\", \"FFA\", \"GGA\", \"GGA\", \"GGA\", \"GGA\", \"HHA\", \"HHA\", \"HHA\", \"HHA\", \"IIA\", \"IIA\", \"IIA\", \"IIA\", \"DDA\", \"DDA\", \"DDA\", \"EEA\", \"EEA\", \"EEA\", \"FFA\", \"FFA\", \"FFA\", \"GGA\", \"GGA\", \"GGA\", \"HHA\", \"HHA\", \"HHA\", \"IIA\", \"IIA\", \"IIA\", \"DDA\", \"EEA\", \"FFA\", \"GGA\", \"HHA\", \"IIA\", \"DDA\", \"DDA\", \"DDA\", \"DDA\", \"DDA\", \"EEA\", \"EEA\", \"EEA\", \"EEA\", \"EEA\", \"FFA\", \"FFA\", \"FFA\", \"FFA\", \"FFA\", \"GGA\", \"GGA\", \"GGA\", \"GGA\", \"GGA\", \"HHA\", \"HHA\", \"HHA\", \"HHA\", \"HHA\", \"IIA\", \"IIA\", \"IIA\", \"IIA\", \"IIA\", \"DDA\", \"DDA\", \"EEA\", \"EEA\", \"FFA\", \"FFA\", \"GGA\", \"GGA\", \"HHA\", \"HHA\", \"IIA\", \"IIA\", \"CCB\", \"CCB\", \"CCB\", \"CCB\", \"CCB\", \"CCD\", \"CCD\", \"CCD\", \"CCD\", \"CCD\", \"CCE\", \"CCE\", \"CCE\", \"CCE\", \"CCE\", \"CCF\", \"CCF\", \"CCF\", \"CCF\", \"CCF\", \"CCG\", \"CCG\", \"CCG\", \"CCG\", \"CCG\", \"CCB\", \"CCB\", \"CCB\", \"CCB\", \"CCD\", \"CCD\", \"CCD\", \"CCD\", \"CCE\", \"CCE\", \"CCE\", \"CCE\", \"CCF\", \"CCF\", \"CCF\", \"CCF\", \"CCG\", \"CCG\", \"CCG\", \"CCG\", \"CCB\", \"CCB\", \"CCB\", \"CCD\", \"CCD\", \"CCD\", \"CCE\", \"CCE\", \"CCE\", \"CCF\", \"CCF\", \"CCF\", \"CCG\", \"CCG\", \"CCG\", \"CCB\", \"CCD\", \"CCE\", \"CCF\", \"CCG\", \"CCB\", \"CCB\", \"CCB\", \"CCB\", \"CCB\", \"CCB\", \"CCD\", \"CCD\", \"CCD\", \"CCD\", \"CCD\", \"CCD\", \"CCE\", \"CCE\", \"CCE\", \"CCE\", \"CCE\", \"CCE\", \"CCF\", \"CCF\", \"CCF\", \"CCF\", \"CCF\", \"CCF\", \"CCG\", \"CCG\", \"CCG\", \"CCG\", \"CCG\", \"CCG\", \"CCB\", \"CCB\", \"CCD\", \"CCD\", \"CCE\", \"CCE\", \"CCF\", \"CCF\", \"CCG\", \"CCG\", \"ZZA\", \"ZZA\", \"ZZA\", \"ZZA\", \"ZZA\", \"ZZB\", \"ZZB\", \"ZZB\", \"ZZB\", \"ZZB\", \"ZZA\", \"ZZA\", \"ZZA\", \"ZZA\", \"ZZB\", \"ZZB\", \"ZZB\", \"ZZB\", \"ZZA\", \"ZZA\", \"ZZA\", \"ZZB\", \"ZZB\", \"ZZB\", \"ZZA\", \"ZZB\", \"ZZA\", \"ZZA\", \"ZZA\", \"ZZA\", \"ZZA\", \"ZZA\", \"ZZB\", \"ZZB\", \"ZZB\", \"ZZB\", \"ZZB\", \"ZZB\", \"ZZA\", \"ZZA\", \"ZZA\", \"ZZA\", \"ZZA\", \"ZZB\", \"ZZB\", \"ZZB\", \"ZZB\", \"ZZB\"], \"line\": {\"color\": \"black\", \"width\": 0.5}, \"pad\": 15, \"thickness\": 20}, \"type\": \"sankey\"}],\n",
       "                        {\"font\": {\"size\": 10}, \"template\": {\"data\": {\"bar\": [{\"error_x\": {\"color\": \"#2a3f5f\"}, \"error_y\": {\"color\": \"#2a3f5f\"}, \"marker\": {\"line\": {\"color\": \"#E5ECF6\", \"width\": 0.5}}, \"type\": \"bar\"}], \"barpolar\": [{\"marker\": {\"line\": {\"color\": \"#E5ECF6\", \"width\": 0.5}}, \"type\": \"barpolar\"}], \"carpet\": [{\"aaxis\": {\"endlinecolor\": \"#2a3f5f\", \"gridcolor\": \"white\", \"linecolor\": \"white\", \"minorgridcolor\": \"white\", \"startlinecolor\": \"#2a3f5f\"}, \"baxis\": {\"endlinecolor\": \"#2a3f5f\", \"gridcolor\": \"white\", \"linecolor\": \"white\", \"minorgridcolor\": \"white\", \"startlinecolor\": \"#2a3f5f\"}, \"type\": \"carpet\"}], \"choropleth\": [{\"colorbar\": {\"outlinewidth\": 0, \"ticks\": \"\"}, \"type\": \"choropleth\"}], \"contour\": [{\"colorbar\": {\"outlinewidth\": 0, \"ticks\": \"\"}, \"colorscale\": [[0.0, \"#0d0887\"], [0.1111111111111111, \"#46039f\"], [0.2222222222222222, \"#7201a8\"], [0.3333333333333333, \"#9c179e\"], [0.4444444444444444, \"#bd3786\"], [0.5555555555555556, \"#d8576b\"], [0.6666666666666666, \"#ed7953\"], [0.7777777777777778, \"#fb9f3a\"], [0.8888888888888888, \"#fdca26\"], [1.0, \"#f0f921\"]], \"type\": \"contour\"}], \"contourcarpet\": [{\"colorbar\": {\"outlinewidth\": 0, \"ticks\": \"\"}, \"type\": \"contourcarpet\"}], \"heatmap\": [{\"colorbar\": {\"outlinewidth\": 0, \"ticks\": \"\"}, \"colorscale\": [[0.0, \"#0d0887\"], [0.1111111111111111, \"#46039f\"], [0.2222222222222222, \"#7201a8\"], [0.3333333333333333, \"#9c179e\"], [0.4444444444444444, \"#bd3786\"], [0.5555555555555556, \"#d8576b\"], [0.6666666666666666, \"#ed7953\"], [0.7777777777777778, \"#fb9f3a\"], [0.8888888888888888, \"#fdca26\"], [1.0, \"#f0f921\"]], \"type\": \"heatmap\"}], \"heatmapgl\": [{\"colorbar\": {\"outlinewidth\": 0, \"ticks\": \"\"}, \"colorscale\": [[0.0, \"#0d0887\"], [0.1111111111111111, \"#46039f\"], [0.2222222222222222, \"#7201a8\"], [0.3333333333333333, \"#9c179e\"], [0.4444444444444444, \"#bd3786\"], [0.5555555555555556, \"#d8576b\"], [0.6666666666666666, \"#ed7953\"], [0.7777777777777778, \"#fb9f3a\"], [0.8888888888888888, \"#fdca26\"], [1.0, \"#f0f921\"]], \"type\": \"heatmapgl\"}], \"histogram\": [{\"marker\": {\"colorbar\": {\"outlinewidth\": 0, \"ticks\": \"\"}}, \"type\": \"histogram\"}], \"histogram2d\": [{\"colorbar\": {\"outlinewidth\": 0, \"ticks\": \"\"}, \"colorscale\": [[0.0, \"#0d0887\"], [0.1111111111111111, \"#46039f\"], [0.2222222222222222, \"#7201a8\"], [0.3333333333333333, \"#9c179e\"], [0.4444444444444444, \"#bd3786\"], [0.5555555555555556, \"#d8576b\"], [0.6666666666666666, \"#ed7953\"], [0.7777777777777778, \"#fb9f3a\"], [0.8888888888888888, \"#fdca26\"], [1.0, \"#f0f921\"]], \"type\": \"histogram2d\"}], \"histogram2dcontour\": [{\"colorbar\": {\"outlinewidth\": 0, \"ticks\": \"\"}, \"colorscale\": [[0.0, \"#0d0887\"], [0.1111111111111111, \"#46039f\"], [0.2222222222222222, \"#7201a8\"], [0.3333333333333333, \"#9c179e\"], [0.4444444444444444, \"#bd3786\"], [0.5555555555555556, \"#d8576b\"], [0.6666666666666666, \"#ed7953\"], [0.7777777777777778, \"#fb9f3a\"], [0.8888888888888888, \"#fdca26\"], [1.0, \"#f0f921\"]], \"type\": \"histogram2dcontour\"}], \"mesh3d\": [{\"colorbar\": {\"outlinewidth\": 0, \"ticks\": \"\"}, \"type\": \"mesh3d\"}], \"parcoords\": [{\"line\": {\"colorbar\": {\"outlinewidth\": 0, \"ticks\": \"\"}}, \"type\": \"parcoords\"}], \"scatter\": [{\"marker\": {\"colorbar\": {\"outlinewidth\": 0, \"ticks\": \"\"}}, \"type\": \"scatter\"}], \"scatter3d\": [{\"line\": {\"colorbar\": {\"outlinewidth\": 0, \"ticks\": \"\"}}, \"marker\": {\"colorbar\": {\"outlinewidth\": 0, \"ticks\": \"\"}}, \"type\": \"scatter3d\"}], \"scattercarpet\": [{\"marker\": {\"colorbar\": {\"outlinewidth\": 0, \"ticks\": \"\"}}, \"type\": \"scattercarpet\"}], \"scattergeo\": [{\"marker\": {\"colorbar\": {\"outlinewidth\": 0, \"ticks\": \"\"}}, \"type\": \"scattergeo\"}], \"scattergl\": [{\"marker\": {\"colorbar\": {\"outlinewidth\": 0, \"ticks\": \"\"}}, \"type\": \"scattergl\"}], \"scattermapbox\": [{\"marker\": {\"colorbar\": {\"outlinewidth\": 0, \"ticks\": \"\"}}, \"type\": \"scattermapbox\"}], \"scatterpolar\": [{\"marker\": {\"colorbar\": {\"outlinewidth\": 0, \"ticks\": \"\"}}, \"type\": \"scatterpolar\"}], \"scatterpolargl\": [{\"marker\": {\"colorbar\": {\"outlinewidth\": 0, \"ticks\": \"\"}}, \"type\": \"scatterpolargl\"}], \"scatterternary\": [{\"marker\": {\"colorbar\": {\"outlinewidth\": 0, \"ticks\": \"\"}}, \"type\": \"scatterternary\"}], \"surface\": [{\"colorbar\": {\"outlinewidth\": 0, \"ticks\": \"\"}, \"colorscale\": [[0.0, \"#0d0887\"], [0.1111111111111111, \"#46039f\"], [0.2222222222222222, \"#7201a8\"], [0.3333333333333333, \"#9c179e\"], [0.4444444444444444, \"#bd3786\"], [0.5555555555555556, \"#d8576b\"], [0.6666666666666666, \"#ed7953\"], [0.7777777777777778, \"#fb9f3a\"], [0.8888888888888888, \"#fdca26\"], [1.0, \"#f0f921\"]], \"type\": \"surface\"}], \"table\": [{\"cells\": {\"fill\": {\"color\": \"#EBF0F8\"}, \"line\": {\"color\": \"white\"}}, \"header\": {\"fill\": {\"color\": \"#C8D4E3\"}, \"line\": {\"color\": \"white\"}}, \"type\": \"table\"}]}, \"layout\": {\"annotationdefaults\": {\"arrowcolor\": \"#2a3f5f\", \"arrowhead\": 0, \"arrowwidth\": 1}, \"colorscale\": {\"diverging\": [[0, \"#8e0152\"], [0.1, \"#c51b7d\"], [0.2, \"#de77ae\"], [0.3, \"#f1b6da\"], [0.4, \"#fde0ef\"], [0.5, \"#f7f7f7\"], [0.6, \"#e6f5d0\"], [0.7, \"#b8e186\"], [0.8, \"#7fbc41\"], [0.9, \"#4d9221\"], [1, \"#276419\"]], \"sequential\": [[0.0, \"#0d0887\"], [0.1111111111111111, \"#46039f\"], [0.2222222222222222, \"#7201a8\"], [0.3333333333333333, \"#9c179e\"], [0.4444444444444444, \"#bd3786\"], [0.5555555555555556, \"#d8576b\"], [0.6666666666666666, \"#ed7953\"], [0.7777777777777778, \"#fb9f3a\"], [0.8888888888888888, \"#fdca26\"], [1.0, \"#f0f921\"]], \"sequentialminus\": [[0.0, \"#0d0887\"], [0.1111111111111111, \"#46039f\"], [0.2222222222222222, \"#7201a8\"], [0.3333333333333333, \"#9c179e\"], [0.4444444444444444, \"#bd3786\"], [0.5555555555555556, \"#d8576b\"], [0.6666666666666666, \"#ed7953\"], [0.7777777777777778, \"#fb9f3a\"], [0.8888888888888888, \"#fdca26\"], [1.0, \"#f0f921\"]]}, \"colorway\": [\"#636efa\", \"#EF553B\", \"#00cc96\", \"#ab63fa\", \"#FFA15A\", \"#19d3f3\", \"#FF6692\", \"#B6E880\", \"#FF97FF\", \"#FECB52\"], \"font\": {\"color\": \"#2a3f5f\"}, \"geo\": {\"bgcolor\": \"white\", \"lakecolor\": \"white\", \"landcolor\": \"#E5ECF6\", \"showlakes\": true, \"showland\": true, \"subunitcolor\": \"white\"}, \"hoverlabel\": {\"align\": \"left\"}, \"hovermode\": \"closest\", \"mapbox\": {\"style\": \"light\"}, \"paper_bgcolor\": \"white\", \"plot_bgcolor\": \"#E5ECF6\", \"polar\": {\"angularaxis\": {\"gridcolor\": \"white\", \"linecolor\": \"white\", \"ticks\": \"\"}, \"bgcolor\": \"#E5ECF6\", \"radialaxis\": {\"gridcolor\": \"white\", \"linecolor\": \"white\", \"ticks\": \"\"}}, \"scene\": {\"xaxis\": {\"backgroundcolor\": \"#E5ECF6\", \"gridcolor\": \"white\", \"gridwidth\": 2, \"linecolor\": \"white\", \"showbackground\": true, \"ticks\": \"\", \"zerolinecolor\": \"white\"}, \"yaxis\": {\"backgroundcolor\": \"#E5ECF6\", \"gridcolor\": \"white\", \"gridwidth\": 2, \"linecolor\": \"white\", \"showbackground\": true, \"ticks\": \"\", \"zerolinecolor\": \"white\"}, \"zaxis\": {\"backgroundcolor\": \"#E5ECF6\", \"gridcolor\": \"white\", \"gridwidth\": 2, \"linecolor\": \"white\", \"showbackground\": true, \"ticks\": \"\", \"zerolinecolor\": \"white\"}}, \"shapedefaults\": {\"line\": {\"color\": \"#2a3f5f\"}}, \"ternary\": {\"aaxis\": {\"gridcolor\": \"white\", \"linecolor\": \"white\", \"ticks\": \"\"}, \"baxis\": {\"gridcolor\": \"white\", \"linecolor\": \"white\", \"ticks\": \"\"}, \"bgcolor\": \"#E5ECF6\", \"caxis\": {\"gridcolor\": \"white\", \"linecolor\": \"white\", \"ticks\": \"\"}}, \"title\": {\"x\": 0.05}, \"xaxis\": {\"automargin\": true, \"gridcolor\": \"white\", \"linecolor\": \"white\", \"ticks\": \"\", \"zerolinecolor\": \"white\", \"zerolinewidth\": 2}, \"yaxis\": {\"automargin\": true, \"gridcolor\": \"white\", \"linecolor\": \"white\", \"ticks\": \"\", \"zerolinecolor\": \"white\", \"zerolinewidth\": 2}}}, \"title\": {\"text\": \"Sankey\"}},\n",
       "                        {\"responsive\": true}\n",
       "                    ).then(function(){\n",
       "                            \n",
       "var gd = document.getElementById('9e4ebbac-b4c4-4495-b4f1-409464d4243d');\n",
       "var x = new MutationObserver(function (mutations, observer) {{\n",
       "        var display = window.getComputedStyle(gd).display;\n",
       "        if (!display || display === 'none') {{\n",
       "            console.log([gd, 'removed!']);\n",
       "            Plotly.purge(gd);\n",
       "            observer.disconnect();\n",
       "        }}\n",
       "}});\n",
       "\n",
       "// Listen for the removal of the full notebook cells\n",
       "var notebookContainer = gd.closest('#notebook-container');\n",
       "if (notebookContainer) {{\n",
       "    x.observe(notebookContainer, {childList: true});\n",
       "}}\n",
       "\n",
       "// Listen for the clearing of the current output cell\n",
       "var outputEl = gd.closest('.output');\n",
       "if (outputEl) {{\n",
       "    x.observe(outputEl, {childList: true});\n",
       "}}\n",
       "\n",
       "                        })\n",
       "                };\n",
       "                });\n",
       "            </script>\n",
       "        </div>"
      ]
     },
     "metadata": {},
     "output_type": "display_data"
    }
   ],
   "source": [
    "fig_sankey= go.Figure(data= data_sankey)\n",
    "fig_sankey.update_layout(title_text=\"Sankey\", font_size= 10)\n",
    "fig_sankey.show()"
   ]
  },
  {
   "cell_type": "markdown",
   "metadata": {},
   "source": [
    "Cómo obtener el sankey:"
   ]
  },
  {
   "cell_type": "markdown",
   "metadata": {},
   "source": [
    "La lista `labels` será la compuesta por todas estaciones elegidas en el filtro, al elegir `AGEB_INICIAL` y `AGEB_FINAL`. A cada estación en un AGEB se le asigna un índice de `0` a `M`, donde `N` el número de estaciones en la ageb inicial, y sea `M` el número de estaciones en la ageb final, el source y el target estarán determinados por esos números. La lista `source` será "
   ]
  },
  {
   "cell_type": "code",
   "execution_count": null,
   "metadata": {},
   "outputs": [],
   "source": []
  }
 ],
 "metadata": {
  "kernelspec": {
   "display_name": "Python 3",
   "language": "python",
   "name": "python3"
  },
  "language_info": {
   "codemirror_mode": {
    "name": "ipython",
    "version": 3
   },
   "file_extension": ".py",
   "mimetype": "text/x-python",
   "name": "python",
   "nbconvert_exporter": "python",
   "pygments_lexer": "ipython3",
   "version": "3.7.4"
  }
 },
 "nbformat": 4,
 "nbformat_minor": 2
}
