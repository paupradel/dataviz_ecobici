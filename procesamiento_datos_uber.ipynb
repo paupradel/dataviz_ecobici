{
 "cells": [
  {
   "cell_type": "markdown",
   "metadata": {},
   "source": [
    "# Exploración Inicial"
   ]
  },
  {
   "cell_type": "markdown",
   "metadata": {},
   "source": [
    "__Descripción:__\n",
    "\n",
    "Se obtiene el AGEB de origen y destino de los viajes de los viajes de ecobici y se obtiene el agregado primedio de los viajes entre AGEBS por hora.\n",
    "\n",
    "__Input__\n",
    "\n",
    "- Estaciones de ecobici: Estaciones de ecobici con clave AGEB obtenida de __Uber © 2019 Copyright Uber Technologies, Inc.Data Attributions__\n",
    "\n",
    "- Viajes Ecobici 2019\n",
    "Responsable: Ecobici\n",
    "\n"
   ]
  },
  {
   "cell_type": "code",
   "execution_count": 1,
   "metadata": {},
   "outputs": [],
   "source": [
    "import pandas as pd\n",
    "import pickle\n",
    "\n",
    "import pandas as pd\n",
    "import dask.dataframe as dd\n",
    "import time\n",
    "\n",
    "import scipy.stats"
   ]
  },
  {
   "cell_type": "markdown",
   "metadata": {},
   "source": [
    "## Obtencion de AGEBS de interés:"
   ]
  },
  {
   "cell_type": "code",
   "execution_count": 2,
   "metadata": {},
   "outputs": [
    {
     "data": {
      "text/html": [
       "<div>\n",
       "<style scoped>\n",
       "    .dataframe tbody tr th:only-of-type {\n",
       "        vertical-align: middle;\n",
       "    }\n",
       "\n",
       "    .dataframe tbody tr th {\n",
       "        vertical-align: top;\n",
       "    }\n",
       "\n",
       "    .dataframe thead th {\n",
       "        text-align: right;\n",
       "    }\n",
       "</style>\n",
       "<table border=\"1\" class=\"dataframe\">\n",
       "  <thead>\n",
       "    <tr style=\"text-align: right;\">\n",
       "      <th></th>\n",
       "      <th>ID</th>\n",
       "      <th>Nombre</th>\n",
       "      <th>Dirección</th>\n",
       "      <th>Número</th>\n",
       "      <th>Código po</th>\n",
       "      <th>districtCo</th>\n",
       "      <th>Colonia</th>\n",
       "      <th>altitude</th>\n",
       "      <th>nearbyStat</th>\n",
       "      <th>location/l</th>\n",
       "      <th>...</th>\n",
       "      <th>nearbySt_3</th>\n",
       "      <th>nearbySt_4</th>\n",
       "      <th>nearbySt_5</th>\n",
       "      <th>punto_geo</th>\n",
       "      <th>CVE_AGEB</th>\n",
       "      <th>CVE_MUN</th>\n",
       "      <th>CVE_LOC</th>\n",
       "      <th>CVE_ENT</th>\n",
       "      <th>MOVEMENT_I</th>\n",
       "      <th>DISPLAY_NA</th>\n",
       "    </tr>\n",
       "  </thead>\n",
       "  <tbody>\n",
       "    <tr>\n",
       "      <td>0</td>\n",
       "      <td>440</td>\n",
       "      <td>440 REAL DE MAYORAZGO-PUENTE XOCO</td>\n",
       "      <td>440 - Real De Mayorazgo-Puente Xoco</td>\n",
       "      <td>S/N</td>\n",
       "      <td>3330.0</td>\n",
       "      <td>1</td>\n",
       "      <td>Ampliación Granada</td>\n",
       "      <td>NaN</td>\n",
       "      <td>433</td>\n",
       "      <td>19.360650</td>\n",
       "      <td>...</td>\n",
       "      <td>NaN</td>\n",
       "      <td>NaN</td>\n",
       "      <td>NaN</td>\n",
       "      <td>19.36065,-99.168669</td>\n",
       "      <td>0967</td>\n",
       "      <td>14</td>\n",
       "      <td>1</td>\n",
       "      <td>9</td>\n",
       "      <td>4550</td>\n",
       "      <td>Movement Zone 4550</td>\n",
       "    </tr>\n",
       "    <tr>\n",
       "      <td>1</td>\n",
       "      <td>283</td>\n",
       "      <td>283 AV. COYOACÁN-RAFAEL DONDE</td>\n",
       "      <td>283 - Av. Coyoacán-Rafael Donde</td>\n",
       "      <td>S/N</td>\n",
       "      <td>3103.0</td>\n",
       "      <td>1</td>\n",
       "      <td>Ampliación Granada</td>\n",
       "      <td>NaN</td>\n",
       "      <td>279</td>\n",
       "      <td>19.398270</td>\n",
       "      <td>...</td>\n",
       "      <td>NaN</td>\n",
       "      <td>NaN</td>\n",
       "      <td>NaN</td>\n",
       "      <td>19.39827,-99.167383</td>\n",
       "      <td>0045</td>\n",
       "      <td>14</td>\n",
       "      <td>1</td>\n",
       "      <td>9</td>\n",
       "      <td>4551</td>\n",
       "      <td>Movement Zone 4551</td>\n",
       "    </tr>\n",
       "    <tr>\n",
       "      <td>2</td>\n",
       "      <td>279</td>\n",
       "      <td>279 LA MORENA-PROVIDENCIA</td>\n",
       "      <td>279 - La Morena-Providencia</td>\n",
       "      <td>S/N</td>\n",
       "      <td>3103.0</td>\n",
       "      <td>DVN</td>\n",
       "      <td>Del Valle Norte</td>\n",
       "      <td>NaN</td>\n",
       "      <td>164</td>\n",
       "      <td>19.399908</td>\n",
       "      <td>...</td>\n",
       "      <td>NaN</td>\n",
       "      <td>NaN</td>\n",
       "      <td>NaN</td>\n",
       "      <td>19.399908,-99.166553</td>\n",
       "      <td>0045</td>\n",
       "      <td>14</td>\n",
       "      <td>1</td>\n",
       "      <td>9</td>\n",
       "      <td>4551</td>\n",
       "      <td>Movement Zone 4551</td>\n",
       "    </tr>\n",
       "    <tr>\n",
       "      <td>3</td>\n",
       "      <td>443</td>\n",
       "      <td>443 BRUNO TRAVEN-GOLONDRINAS</td>\n",
       "      <td>443 - Bruno Trave-Avenida México-Coyoacan</td>\n",
       "      <td>S/N</td>\n",
       "      <td>3340.0</td>\n",
       "      <td>1</td>\n",
       "      <td>Ampliación Granada</td>\n",
       "      <td>NaN</td>\n",
       "      <td>432</td>\n",
       "      <td>19.359655</td>\n",
       "      <td>...</td>\n",
       "      <td>NaN</td>\n",
       "      <td>NaN</td>\n",
       "      <td>NaN</td>\n",
       "      <td>19.359655,-99.162025</td>\n",
       "      <td>0971</td>\n",
       "      <td>14</td>\n",
       "      <td>1</td>\n",
       "      <td>9</td>\n",
       "      <td>4553</td>\n",
       "      <td>Movement Zone 4553</td>\n",
       "    </tr>\n",
       "    <tr>\n",
       "      <td>4</td>\n",
       "      <td>432</td>\n",
       "      <td>432 CARRILLO PUERTO-AV. MÉXICO-COYOACÁN</td>\n",
       "      <td>432 - Carrillo Pto-Golondrinas</td>\n",
       "      <td>S/N</td>\n",
       "      <td>3340.0</td>\n",
       "      <td>GPM</td>\n",
       "      <td>General Pedro Maria Anaya</td>\n",
       "      <td>NaN</td>\n",
       "      <td>442</td>\n",
       "      <td>19.361296</td>\n",
       "      <td>...</td>\n",
       "      <td>NaN</td>\n",
       "      <td>NaN</td>\n",
       "      <td>NaN</td>\n",
       "      <td>19.361296,-99.162581</td>\n",
       "      <td>0971</td>\n",
       "      <td>14</td>\n",
       "      <td>1</td>\n",
       "      <td>9</td>\n",
       "      <td>4553</td>\n",
       "      <td>Movement Zone 4553</td>\n",
       "    </tr>\n",
       "  </tbody>\n",
       "</table>\n",
       "<p>5 rows × 24 columns</p>\n",
       "</div>"
      ],
      "text/plain": [
       "    ID                                   Nombre  \\\n",
       "0  440        440 REAL DE MAYORAZGO-PUENTE XOCO   \n",
       "1  283            283 AV. COYOACÁN-RAFAEL DONDE   \n",
       "2  279                279 LA MORENA-PROVIDENCIA   \n",
       "3  443             443 BRUNO TRAVEN-GOLONDRINAS   \n",
       "4  432  432 CARRILLO PUERTO-AV. MÉXICO-COYOACÁN   \n",
       "\n",
       "                                   Dirección Número  Código po districtCo  \\\n",
       "0        440 - Real De Mayorazgo-Puente Xoco    S/N     3330.0          1   \n",
       "1            283 - Av. Coyoacán-Rafael Donde    S/N     3103.0          1   \n",
       "2                279 - La Morena-Providencia    S/N     3103.0        DVN   \n",
       "3  443 - Bruno Trave-Avenida México-Coyoacan    S/N     3340.0          1   \n",
       "4             432 - Carrillo Pto-Golondrinas    S/N     3340.0        GPM   \n",
       "\n",
       "                     Colonia  altitude  nearbyStat  location/l  ...  \\\n",
       "0         Ampliación Granada       NaN         433   19.360650  ...   \n",
       "1         Ampliación Granada       NaN         279   19.398270  ...   \n",
       "2            Del Valle Norte       NaN         164   19.399908  ...   \n",
       "3         Ampliación Granada       NaN         432   19.359655  ...   \n",
       "4  General Pedro Maria Anaya       NaN         442   19.361296  ...   \n",
       "\n",
       "   nearbySt_3 nearbySt_4  nearbySt_5             punto_geo  CVE_AGEB  CVE_MUN  \\\n",
       "0         NaN        NaN         NaN   19.36065,-99.168669      0967       14   \n",
       "1         NaN        NaN         NaN   19.39827,-99.167383      0045       14   \n",
       "2         NaN        NaN         NaN  19.399908,-99.166553      0045       14   \n",
       "3         NaN        NaN         NaN  19.359655,-99.162025      0971       14   \n",
       "4         NaN        NaN         NaN  19.361296,-99.162581      0971       14   \n",
       "\n",
       "   CVE_LOC CVE_ENT MOVEMENT_I          DISPLAY_NA  \n",
       "0        1       9       4550  Movement Zone 4550  \n",
       "1        1       9       4551  Movement Zone 4551  \n",
       "2        1       9       4551  Movement Zone 4551  \n",
       "3        1       9       4553  Movement Zone 4553  \n",
       "4        1       9       4553  Movement Zone 4553  \n",
       "\n",
       "[5 rows x 24 columns]"
      ]
     },
     "execution_count": 2,
     "metadata": {},
     "output_type": "execute_result"
    }
   ],
   "source": [
    "df_estaciones = pd.read_csv(\"./SIG/data/procesado/CSV/estaciones-de-ecobici_con_AGEB.csv\")\n",
    "df_estaciones.head()"
   ]
  },
  {
   "cell_type": "code",
   "execution_count": 25,
   "metadata": {},
   "outputs": [
    {
     "data": {
      "text/plain": [
       "143"
      ]
     },
     "execution_count": 25,
     "metadata": {},
     "output_type": "execute_result"
    }
   ],
   "source": [
    "lista_agebs = df_estaciones['CVE_AGEB'].unique().tolist()\n",
    "len(lista_agebs)"
   ]
  },
  {
   "cell_type": "markdown",
   "metadata": {},
   "source": [
    "Guardamos lo AGEBS en una lista:"
   ]
  },
  {
   "cell_type": "code",
   "execution_count": 4,
   "metadata": {},
   "outputs": [],
   "source": [
    "with open(\"./data/lista_agebs.txt\", \"wb\") as fp:\n",
    "    pickle.dump(lista_agebs, fp)"
   ]
  },
  {
   "cell_type": "markdown",
   "metadata": {},
   "source": [
    "## Leamos el archivo de viajes de UBER"
   ]
  },
  {
   "cell_type": "code",
   "execution_count": 40,
   "metadata": {},
   "outputs": [],
   "source": [
    "path_uber_trips = \"./data/uber/mexico_city-agebs-2019-1-OnlyWeekdays-HourlyAggregate.csv\""
   ]
  },
  {
   "cell_type": "code",
   "execution_count": 48,
   "metadata": {},
   "outputs": [
    {
     "name": "stdout",
     "output_type": "stream",
     "text": [
      "load train:  32.30997000000002\n"
     ]
    }
   ],
   "source": [
    "t=time.clock()\n",
    "df_trips = pd.read_csv(path_uber_trips)\n",
    "print(\"load train: \" , time.clock()-t)"
   ]
  },
  {
   "cell_type": "code",
   "execution_count": 49,
   "metadata": {},
   "outputs": [
    {
     "data": {
      "text/plain": [
       "sourceid                                      int64\n",
       "dstid                                         int64\n",
       "hod                                           int64\n",
       "mean_travel_time                            float64\n",
       "standard_deviation_travel_time              float64\n",
       "geometric_mean_travel_time                  float64\n",
       "geometric_standard_deviation_travel_time    float64\n",
       "dtype: object"
      ]
     },
     "execution_count": 49,
     "metadata": {},
     "output_type": "execute_result"
    }
   ],
   "source": [
    "df_trips.dtypes"
   ]
  },
  {
   "cell_type": "code",
   "execution_count": 42,
   "metadata": {},
   "outputs": [
    {
     "data": {
      "text/html": [
       "<div>\n",
       "<style scoped>\n",
       "    .dataframe tbody tr th:only-of-type {\n",
       "        vertical-align: middle;\n",
       "    }\n",
       "\n",
       "    .dataframe tbody tr th {\n",
       "        vertical-align: top;\n",
       "    }\n",
       "\n",
       "    .dataframe thead th {\n",
       "        text-align: right;\n",
       "    }\n",
       "</style>\n",
       "<table border=\"1\" class=\"dataframe\">\n",
       "  <thead>\n",
       "    <tr style=\"text-align: right;\">\n",
       "      <th></th>\n",
       "      <th>sourceid</th>\n",
       "      <th>dstid</th>\n",
       "      <th>hod</th>\n",
       "      <th>mean_travel_time</th>\n",
       "      <th>standard_deviation_travel_time</th>\n",
       "      <th>geometric_mean_travel_time</th>\n",
       "      <th>geometric_standard_deviation_travel_time</th>\n",
       "    </tr>\n",
       "  </thead>\n",
       "  <tbody>\n",
       "    <tr>\n",
       "      <td>0</td>\n",
       "      <td>1599</td>\n",
       "      <td>1710</td>\n",
       "      <td>4</td>\n",
       "      <td>629.46</td>\n",
       "      <td>600.50</td>\n",
       "      <td>498.86</td>\n",
       "      <td>1.80</td>\n",
       "    </tr>\n",
       "    <tr>\n",
       "      <td>1</td>\n",
       "      <td>3277</td>\n",
       "      <td>3083</td>\n",
       "      <td>8</td>\n",
       "      <td>1651.38</td>\n",
       "      <td>672.78</td>\n",
       "      <td>1549.81</td>\n",
       "      <td>1.40</td>\n",
       "    </tr>\n",
       "    <tr>\n",
       "      <td>2</td>\n",
       "      <td>977</td>\n",
       "      <td>3047</td>\n",
       "      <td>6</td>\n",
       "      <td>1165.89</td>\n",
       "      <td>268.38</td>\n",
       "      <td>1137.46</td>\n",
       "      <td>1.25</td>\n",
       "    </tr>\n",
       "    <tr>\n",
       "      <td>3</td>\n",
       "      <td>963</td>\n",
       "      <td>3187</td>\n",
       "      <td>6</td>\n",
       "      <td>931.03</td>\n",
       "      <td>284.51</td>\n",
       "      <td>898.61</td>\n",
       "      <td>1.29</td>\n",
       "    </tr>\n",
       "    <tr>\n",
       "      <td>4</td>\n",
       "      <td>3758</td>\n",
       "      <td>4915</td>\n",
       "      <td>13</td>\n",
       "      <td>2632.10</td>\n",
       "      <td>510.63</td>\n",
       "      <td>2583.73</td>\n",
       "      <td>1.21</td>\n",
       "    </tr>\n",
       "  </tbody>\n",
       "</table>\n",
       "</div>"
      ],
      "text/plain": [
       "   sourceid  dstid  hod  mean_travel_time  standard_deviation_travel_time  \\\n",
       "0      1599   1710    4            629.46                          600.50   \n",
       "1      3277   3083    8           1651.38                          672.78   \n",
       "2       977   3047    6           1165.89                          268.38   \n",
       "3       963   3187    6            931.03                          284.51   \n",
       "4      3758   4915   13           2632.10                          510.63   \n",
       "\n",
       "   geometric_mean_travel_time  geometric_standard_deviation_travel_time  \n",
       "0                      498.86                                      1.80  \n",
       "1                     1549.81                                      1.40  \n",
       "2                     1137.46                                      1.25  \n",
       "3                      898.61                                      1.29  \n",
       "4                     2583.73                                      1.21  "
      ]
     },
     "execution_count": 42,
     "metadata": {},
     "output_type": "execute_result"
    }
   ],
   "source": [
    "df_trips.head()"
   ]
  },
  {
   "cell_type": "code",
   "execution_count": 43,
   "metadata": {},
   "outputs": [],
   "source": [
    "df_trips = df_trips[df_trips[\"sourceid\"].astype(str).isin(lista_agebs) & df_trips[\"dstid\"].astype(str).isin(lista_agebs)]"
   ]
  },
  {
   "cell_type": "code",
   "execution_count": 44,
   "metadata": {},
   "outputs": [
    {
     "data": {
      "text/plain": [
       "22"
      ]
     },
     "execution_count": 44,
     "metadata": {},
     "output_type": "execute_result"
    }
   ],
   "source": [
    "df_trips[\"sourceid\"].nunique()"
   ]
  },
  {
   "cell_type": "code",
   "execution_count": 45,
   "metadata": {},
   "outputs": [
    {
     "data": {
      "text/plain": [
       "22"
      ]
     },
     "execution_count": 45,
     "metadata": {},
     "output_type": "execute_result"
    }
   ],
   "source": [
    "df_trips[df_trips[\"sourceid\"].astype(str).isin(lista_agebs)]['sourceid'].nunique()"
   ]
  },
  {
   "cell_type": "code",
   "execution_count": 46,
   "metadata": {},
   "outputs": [
    {
     "data": {
      "text/plain": [
       "22"
      ]
     },
     "execution_count": 46,
     "metadata": {},
     "output_type": "execute_result"
    }
   ],
   "source": [
    "df_trips[df_trips[\"dstid\"].astype(str).isin(lista_agebs)]['sourceid'].nunique()"
   ]
  },
  {
   "cell_type": "raw",
   "metadata": {},
   "source": [
    "df_trips.drop([\"\"])"
   ]
  },
  {
   "cell_type": "code",
   "execution_count": 47,
   "metadata": {},
   "outputs": [
    {
     "data": {
      "text/plain": [
       "sourceid                                      int64\n",
       "dstid                                         int64\n",
       "hod                                           int64\n",
       "mean_travel_time                            float64\n",
       "standard_deviation_travel_time              float64\n",
       "geometric_mean_travel_time                  float64\n",
       "geometric_standard_deviation_travel_time    float64\n",
       "dtype: object"
      ]
     },
     "execution_count": 47,
     "metadata": {},
     "output_type": "execute_result"
    }
   ],
   "source": [
    "df_trips.dtypes"
   ]
  },
  {
   "cell_type": "code",
   "execution_count": 13,
   "metadata": {},
   "outputs": [],
   "source": [
    "df_trips.reset_index(drop=True, inplace=True)"
   ]
  },
  {
   "cell_type": "code",
   "execution_count": 14,
   "metadata": {},
   "outputs": [
    {
     "data": {
      "text/html": [
       "<div>\n",
       "<style scoped>\n",
       "    .dataframe tbody tr th:only-of-type {\n",
       "        vertical-align: middle;\n",
       "    }\n",
       "\n",
       "    .dataframe tbody tr th {\n",
       "        vertical-align: top;\n",
       "    }\n",
       "\n",
       "    .dataframe thead th {\n",
       "        text-align: right;\n",
       "    }\n",
       "</style>\n",
       "<table border=\"1\" class=\"dataframe\">\n",
       "  <thead>\n",
       "    <tr style=\"text-align: right;\">\n",
       "      <th></th>\n",
       "      <th>sourceid</th>\n",
       "      <th>dstid</th>\n",
       "      <th>hod</th>\n",
       "      <th>mean_travel_time</th>\n",
       "      <th>standard_deviation_travel_time</th>\n",
       "      <th>geometric_mean_travel_time</th>\n",
       "      <th>geometric_standard_deviation_travel_time</th>\n",
       "    </tr>\n",
       "  </thead>\n",
       "  <tbody>\n",
       "    <tr>\n",
       "      <td>0</td>\n",
       "      <td>1093</td>\n",
       "      <td>1426</td>\n",
       "      <td>9</td>\n",
       "      <td>2308.88</td>\n",
       "      <td>464.96</td>\n",
       "      <td>2266.58</td>\n",
       "      <td>1.21</td>\n",
       "    </tr>\n",
       "    <tr>\n",
       "      <td>1</td>\n",
       "      <td>1226</td>\n",
       "      <td>1322</td>\n",
       "      <td>0</td>\n",
       "      <td>875.60</td>\n",
       "      <td>946.56</td>\n",
       "      <td>639.82</td>\n",
       "      <td>1.99</td>\n",
       "    </tr>\n",
       "    <tr>\n",
       "      <td>2</td>\n",
       "      <td>1534</td>\n",
       "      <td>1430</td>\n",
       "      <td>1</td>\n",
       "      <td>103.86</td>\n",
       "      <td>167.73</td>\n",
       "      <td>74.55</td>\n",
       "      <td>1.91</td>\n",
       "    </tr>\n",
       "    <tr>\n",
       "      <td>3</td>\n",
       "      <td>1106</td>\n",
       "      <td>1093</td>\n",
       "      <td>5</td>\n",
       "      <td>424.84</td>\n",
       "      <td>197.97</td>\n",
       "      <td>398.12</td>\n",
       "      <td>1.40</td>\n",
       "    </tr>\n",
       "    <tr>\n",
       "      <td>4</td>\n",
       "      <td>1534</td>\n",
       "      <td>1375</td>\n",
       "      <td>4</td>\n",
       "      <td>195.40</td>\n",
       "      <td>209.84</td>\n",
       "      <td>163.43</td>\n",
       "      <td>1.59</td>\n",
       "    </tr>\n",
       "  </tbody>\n",
       "</table>\n",
       "</div>"
      ],
      "text/plain": [
       "   sourceid  dstid  hod  mean_travel_time  standard_deviation_travel_time  \\\n",
       "0      1093   1426    9           2308.88                          464.96   \n",
       "1      1226   1322    0            875.60                          946.56   \n",
       "2      1534   1430    1            103.86                          167.73   \n",
       "3      1106   1093    5            424.84                          197.97   \n",
       "4      1534   1375    4            195.40                          209.84   \n",
       "\n",
       "   geometric_mean_travel_time  geometric_standard_deviation_travel_time  \n",
       "0                     2266.58                                      1.21  \n",
       "1                      639.82                                      1.99  \n",
       "2                       74.55                                      1.91  \n",
       "3                      398.12                                      1.40  \n",
       "4                      163.43                                      1.59  "
      ]
     },
     "execution_count": 14,
     "metadata": {},
     "output_type": "execute_result"
    }
   ],
   "source": [
    "df_trips.head()"
   ]
  },
  {
   "cell_type": "markdown",
   "metadata": {},
   "source": [
    "### tiempo máximo y mínimos por viaje y hora.\n",
    "Suponemos una distribución normal con media 'mean_travel_time' y desviación estandar 'standard_deviation_travel_time>'"
   ]
  },
  {
   "cell_type": "code",
   "execution_count": 13,
   "metadata": {},
   "outputs": [],
   "source": [
    "def travel_min(mean,std):\n",
    "    min = scipy.stats.norm(mean, std).ppf(.10)\n",
    "    #max = scipy.stats.norm(mean, std).ppf(.90)\n",
    "    return(min)\n",
    "def travel_max(mean,std):\n",
    "    #min = scipy.stats.norm(mean, std).ppf(.10)\n",
    "    max = scipy.stats.norm(mean, std).ppf(.90)\n",
    "    return(max)"
   ]
  },
  {
   "cell_type": "code",
   "execution_count": 14,
   "metadata": {},
   "outputs": [],
   "source": [
    "df_trips['min_travel_time'] = 0\n",
    "df_trips['max_travel_time'] = 0"
   ]
  },
  {
   "cell_type": "code",
   "execution_count": 15,
   "metadata": {},
   "outputs": [],
   "source": [
    "df_trips['min_travel_time'] =  df_trips.apply(\n",
    "    lambda row : travel_min(row['mean_travel_time'], \n",
    "                            row['standard_deviation_travel_time']), axis = 1)"
   ]
  },
  {
   "cell_type": "code",
   "execution_count": 16,
   "metadata": {},
   "outputs": [],
   "source": [
    "df_trips['max_travel_time'] =  df_trips.apply(\n",
    "    lambda row : travel_max(row['mean_travel_time'], \n",
    "                            row['standard_deviation_travel_time']), axis = 1)"
   ]
  },
  {
   "cell_type": "code",
   "execution_count": 17,
   "metadata": {},
   "outputs": [],
   "source": [
    "df_trips.to_csv('./data/procesado/mexico_city-agebs-2019-2-All-HourlyAggregate_filter.csv')"
   ]
  },
  {
   "cell_type": "code",
   "execution_count": 20,
   "metadata": {},
   "outputs": [
    {
     "data": {
      "text/html": [
       "<div>\n",
       "<style scoped>\n",
       "    .dataframe tbody tr th:only-of-type {\n",
       "        vertical-align: middle;\n",
       "    }\n",
       "\n",
       "    .dataframe tbody tr th {\n",
       "        vertical-align: top;\n",
       "    }\n",
       "\n",
       "    .dataframe thead th {\n",
       "        text-align: right;\n",
       "    }\n",
       "</style>\n",
       "<table border=\"1\" class=\"dataframe\">\n",
       "  <thead>\n",
       "    <tr style=\"text-align: right;\">\n",
       "      <th></th>\n",
       "      <th>sourceid</th>\n",
       "      <th>dstid</th>\n",
       "      <th>hod</th>\n",
       "      <th>mean_travel_time</th>\n",
       "      <th>standard_deviation_travel_time</th>\n",
       "      <th>geometric_mean_travel_time</th>\n",
       "      <th>geometric_standard_deviation_travel_time</th>\n",
       "      <th>min_travel_time</th>\n",
       "      <th>max_travel_time</th>\n",
       "    </tr>\n",
       "  </thead>\n",
       "  <tbody>\n",
       "    <tr>\n",
       "      <td>0</td>\n",
       "      <td>1375</td>\n",
       "      <td>2067</td>\n",
       "      <td>11</td>\n",
       "      <td>2125.00</td>\n",
       "      <td>640.25</td>\n",
       "      <td>2039.71</td>\n",
       "      <td>1.32</td>\n",
       "      <td>1304.486610</td>\n",
       "      <td>2945.513390</td>\n",
       "    </tr>\n",
       "    <tr>\n",
       "      <td>1</td>\n",
       "      <td>1534</td>\n",
       "      <td>2452</td>\n",
       "      <td>5</td>\n",
       "      <td>766.98</td>\n",
       "      <td>243.10</td>\n",
       "      <td>743.55</td>\n",
       "      <td>1.28</td>\n",
       "      <td>455.434814</td>\n",
       "      <td>1078.525186</td>\n",
       "    </tr>\n",
       "    <tr>\n",
       "      <td>2</td>\n",
       "      <td>1106</td>\n",
       "      <td>1944</td>\n",
       "      <td>19</td>\n",
       "      <td>1298.45</td>\n",
       "      <td>258.22</td>\n",
       "      <td>1274.28</td>\n",
       "      <td>1.21</td>\n",
       "      <td>967.527755</td>\n",
       "      <td>1629.372245</td>\n",
       "    </tr>\n",
       "    <tr>\n",
       "      <td>3</td>\n",
       "      <td>1303</td>\n",
       "      <td>1894</td>\n",
       "      <td>16</td>\n",
       "      <td>1124.22</td>\n",
       "      <td>278.44</td>\n",
       "      <td>1098.68</td>\n",
       "      <td>1.22</td>\n",
       "      <td>767.384782</td>\n",
       "      <td>1481.055218</td>\n",
       "    </tr>\n",
       "    <tr>\n",
       "      <td>4</td>\n",
       "      <td>1375</td>\n",
       "      <td>1174</td>\n",
       "      <td>16</td>\n",
       "      <td>1222.41</td>\n",
       "      <td>403.44</td>\n",
       "      <td>1173.74</td>\n",
       "      <td>1.31</td>\n",
       "      <td>705.380836</td>\n",
       "      <td>1739.439164</td>\n",
       "    </tr>\n",
       "  </tbody>\n",
       "</table>\n",
       "</div>"
      ],
      "text/plain": [
       "   sourceid  dstid  hod  mean_travel_time  standard_deviation_travel_time  \\\n",
       "0      1375   2067   11           2125.00                          640.25   \n",
       "1      1534   2452    5            766.98                          243.10   \n",
       "2      1106   1944   19           1298.45                          258.22   \n",
       "3      1303   1894   16           1124.22                          278.44   \n",
       "4      1375   1174   16           1222.41                          403.44   \n",
       "\n",
       "   geometric_mean_travel_time  geometric_standard_deviation_travel_time  \\\n",
       "0                     2039.71                                      1.32   \n",
       "1                      743.55                                      1.28   \n",
       "2                     1274.28                                      1.21   \n",
       "3                     1098.68                                      1.22   \n",
       "4                     1173.74                                      1.31   \n",
       "\n",
       "   min_travel_time  max_travel_time  \n",
       "0      1304.486610      2945.513390  \n",
       "1       455.434814      1078.525186  \n",
       "2       967.527755      1629.372245  \n",
       "3       767.384782      1481.055218  \n",
       "4       705.380836      1739.439164  "
      ]
     },
     "execution_count": 20,
     "metadata": {},
     "output_type": "execute_result"
    }
   ],
   "source": [
    "df_trips.head()"
   ]
  },
  {
   "cell_type": "code",
   "execution_count": 22,
   "metadata": {},
   "outputs": [
    {
     "data": {
      "text/html": [
       "<div>\n",
       "<style scoped>\n",
       "    .dataframe tbody tr th:only-of-type {\n",
       "        vertical-align: middle;\n",
       "    }\n",
       "\n",
       "    .dataframe tbody tr th {\n",
       "        vertical-align: top;\n",
       "    }\n",
       "\n",
       "    .dataframe thead th {\n",
       "        text-align: right;\n",
       "    }\n",
       "</style>\n",
       "<table border=\"1\" class=\"dataframe\">\n",
       "  <thead>\n",
       "    <tr style=\"text-align: right;\">\n",
       "      <th></th>\n",
       "      <th>sourceid</th>\n",
       "      <th>dstid</th>\n",
       "      <th>hod</th>\n",
       "      <th>mean_travel_time</th>\n",
       "      <th>standard_deviation_travel_time</th>\n",
       "      <th>geometric_mean_travel_time</th>\n",
       "      <th>geometric_standard_deviation_travel_time</th>\n",
       "      <th>min_travel_time</th>\n",
       "      <th>max_travel_time</th>\n",
       "    </tr>\n",
       "  </thead>\n",
       "  <tbody>\n",
       "    <tr>\n",
       "      <td>0</td>\n",
       "      <td>1002</td>\n",
       "      <td>7</td>\n",
       "      <td>18</td>\n",
       "      <td>1846.57</td>\n",
       "      <td>272.25</td>\n",
       "      <td>1827.18</td>\n",
       "      <td>1.16</td>\n",
       "      <td>1497.667586</td>\n",
       "      <td>2195.472414</td>\n",
       "    </tr>\n",
       "    <tr>\n",
       "      <td>1</td>\n",
       "      <td>1002</td>\n",
       "      <td>7</td>\n",
       "      <td>20</td>\n",
       "      <td>1807.17</td>\n",
       "      <td>457.94</td>\n",
       "      <td>1750.76</td>\n",
       "      <td>1.29</td>\n",
       "      <td>1220.296276</td>\n",
       "      <td>2394.043724</td>\n",
       "    </tr>\n",
       "    <tr>\n",
       "      <td>2</td>\n",
       "      <td>1002</td>\n",
       "      <td>7</td>\n",
       "      <td>21</td>\n",
       "      <td>1898.33</td>\n",
       "      <td>214.99</td>\n",
       "      <td>1885.78</td>\n",
       "      <td>1.12</td>\n",
       "      <td>1622.809229</td>\n",
       "      <td>2173.850771</td>\n",
       "    </tr>\n",
       "    <tr>\n",
       "      <td>3</td>\n",
       "      <td>1002</td>\n",
       "      <td>12</td>\n",
       "      <td>0</td>\n",
       "      <td>774.21</td>\n",
       "      <td>269.38</td>\n",
       "      <td>745.10</td>\n",
       "      <td>1.28</td>\n",
       "      <td>428.985639</td>\n",
       "      <td>1119.434361</td>\n",
       "    </tr>\n",
       "    <tr>\n",
       "      <td>4</td>\n",
       "      <td>1002</td>\n",
       "      <td>12</td>\n",
       "      <td>1</td>\n",
       "      <td>738.80</td>\n",
       "      <td>118.28</td>\n",
       "      <td>730.60</td>\n",
       "      <td>1.16</td>\n",
       "      <td>587.218081</td>\n",
       "      <td>890.381919</td>\n",
       "    </tr>\n",
       "    <tr>\n",
       "      <td>...</td>\n",
       "      <td>...</td>\n",
       "      <td>...</td>\n",
       "      <td>...</td>\n",
       "      <td>...</td>\n",
       "      <td>...</td>\n",
       "      <td>...</td>\n",
       "      <td>...</td>\n",
       "      <td>...</td>\n",
       "      <td>...</td>\n",
       "    </tr>\n",
       "    <tr>\n",
       "      <td>385232</td>\n",
       "      <td>1534</td>\n",
       "      <td>5084</td>\n",
       "      <td>19</td>\n",
       "      <td>2972.79</td>\n",
       "      <td>1158.85</td>\n",
       "      <td>2747.38</td>\n",
       "      <td>1.50</td>\n",
       "      <td>1487.663968</td>\n",
       "      <td>4457.916032</td>\n",
       "    </tr>\n",
       "    <tr>\n",
       "      <td>385233</td>\n",
       "      <td>1534</td>\n",
       "      <td>5084</td>\n",
       "      <td>20</td>\n",
       "      <td>2678.27</td>\n",
       "      <td>938.70</td>\n",
       "      <td>2530.81</td>\n",
       "      <td>1.39</td>\n",
       "      <td>1475.277545</td>\n",
       "      <td>3881.262455</td>\n",
       "    </tr>\n",
       "    <tr>\n",
       "      <td>385234</td>\n",
       "      <td>1534</td>\n",
       "      <td>5084</td>\n",
       "      <td>21</td>\n",
       "      <td>2593.15</td>\n",
       "      <td>1236.06</td>\n",
       "      <td>2410.00</td>\n",
       "      <td>1.42</td>\n",
       "      <td>1009.075372</td>\n",
       "      <td>4177.224628</td>\n",
       "    </tr>\n",
       "    <tr>\n",
       "      <td>385235</td>\n",
       "      <td>1534</td>\n",
       "      <td>5084</td>\n",
       "      <td>22</td>\n",
       "      <td>1894.39</td>\n",
       "      <td>478.01</td>\n",
       "      <td>1838.94</td>\n",
       "      <td>1.27</td>\n",
       "      <td>1281.795536</td>\n",
       "      <td>2506.984464</td>\n",
       "    </tr>\n",
       "    <tr>\n",
       "      <td>385236</td>\n",
       "      <td>1534</td>\n",
       "      <td>5084</td>\n",
       "      <td>23</td>\n",
       "      <td>1621.71</td>\n",
       "      <td>439.65</td>\n",
       "      <td>1570.80</td>\n",
       "      <td>1.28</td>\n",
       "      <td>1058.275854</td>\n",
       "      <td>2185.144146</td>\n",
       "    </tr>\n",
       "  </tbody>\n",
       "</table>\n",
       "<p>385237 rows × 9 columns</p>\n",
       "</div>"
      ],
      "text/plain": [
       "        sourceid  dstid  hod  mean_travel_time  \\\n",
       "0           1002      7   18           1846.57   \n",
       "1           1002      7   20           1807.17   \n",
       "2           1002      7   21           1898.33   \n",
       "3           1002     12    0            774.21   \n",
       "4           1002     12    1            738.80   \n",
       "...          ...    ...  ...               ...   \n",
       "385232      1534   5084   19           2972.79   \n",
       "385233      1534   5084   20           2678.27   \n",
       "385234      1534   5084   21           2593.15   \n",
       "385235      1534   5084   22           1894.39   \n",
       "385236      1534   5084   23           1621.71   \n",
       "\n",
       "        standard_deviation_travel_time  geometric_mean_travel_time  \\\n",
       "0                               272.25                     1827.18   \n",
       "1                               457.94                     1750.76   \n",
       "2                               214.99                     1885.78   \n",
       "3                               269.38                      745.10   \n",
       "4                               118.28                      730.60   \n",
       "...                                ...                         ...   \n",
       "385232                         1158.85                     2747.38   \n",
       "385233                          938.70                     2530.81   \n",
       "385234                         1236.06                     2410.00   \n",
       "385235                          478.01                     1838.94   \n",
       "385236                          439.65                     1570.80   \n",
       "\n",
       "        geometric_standard_deviation_travel_time  min_travel_time  \\\n",
       "0                                           1.16      1497.667586   \n",
       "1                                           1.29      1220.296276   \n",
       "2                                           1.12      1622.809229   \n",
       "3                                           1.28       428.985639   \n",
       "4                                           1.16       587.218081   \n",
       "...                                          ...              ...   \n",
       "385232                                      1.50      1487.663968   \n",
       "385233                                      1.39      1475.277545   \n",
       "385234                                      1.42      1009.075372   \n",
       "385235                                      1.27      1281.795536   \n",
       "385236                                      1.28      1058.275854   \n",
       "\n",
       "        max_travel_time  \n",
       "0           2195.472414  \n",
       "1           2394.043724  \n",
       "2           2173.850771  \n",
       "3           1119.434361  \n",
       "4            890.381919  \n",
       "...                 ...  \n",
       "385232      4457.916032  \n",
       "385233      3881.262455  \n",
       "385234      4177.224628  \n",
       "385235      2506.984464  \n",
       "385236      2185.144146  \n",
       "\n",
       "[385237 rows x 9 columns]"
      ]
     },
     "execution_count": 22,
     "metadata": {},
     "output_type": "execute_result"
    }
   ],
   "source": [
    "df_trips.groupby(['sourceid','dstid','hod']).mean().reset_index(drop=False)"
   ]
  },
  {
   "cell_type": "code",
   "execution_count": 15,
   "metadata": {},
   "outputs": [
    {
     "data": {
      "text/plain": [
       "22"
      ]
     },
     "execution_count": 15,
     "metadata": {},
     "output_type": "execute_result"
    }
   ],
   "source": [
    "df_trips['sourceid'].nunique()"
   ]
  },
  {
   "cell_type": "code",
   "execution_count": 16,
   "metadata": {},
   "outputs": [
    {
     "data": {
      "text/plain": [
       "25"
      ]
     },
     "execution_count": 16,
     "metadata": {},
     "output_type": "execute_result"
    }
   ],
   "source": [
    "df_trips['dstid'].nunique()"
   ]
  },
  {
   "cell_type": "code",
   "execution_count": null,
   "metadata": {},
   "outputs": [],
   "source": []
  }
 ],
 "metadata": {
  "kernelspec": {
   "display_name": "env_calidad_aire",
   "language": "python",
   "name": "env_calidad_aire"
  },
  "language_info": {
   "codemirror_mode": {
    "name": "ipython",
    "version": 3
   },
   "file_extension": ".py",
   "mimetype": "text/x-python",
   "name": "python",
   "nbconvert_exporter": "python",
   "pygments_lexer": "ipython3",
   "version": "3.6.8"
  }
 },
 "nbformat": 4,
 "nbformat_minor": 4
}
