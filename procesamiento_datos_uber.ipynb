{
 "cells": [
  {
   "cell_type": "markdown",
   "metadata": {},
   "source": [
    "# Exploración Inicial"
   ]
  },
  {
   "cell_type": "markdown",
   "metadata": {},
   "source": [
    "__Descripción:__\n",
    "\n",
    "Se obtiene el AGEB de origen y destino de los viajes de los viajes de ecobici y se obtiene el agregado primedio de los viajes entre AGEBS por hora.\n",
    "\n",
    "__Input__\n",
    "\n",
    "- Estaciones de ecobici: Estaciones de ecobici con clave AGEB obtenida de __Uber © 2019 Copyright Uber Technologies, Inc.Data Attributions__\n",
    "\n",
    "- Viajes Ecobici 2019\n",
    "Responsable: Ecobici\n",
    "\n"
   ]
  },
  {
   "cell_type": "code",
   "execution_count": 1,
   "metadata": {},
   "outputs": [],
   "source": [
    "import pandas as pd\n",
    "import pickle\n",
    "\n",
    "import pandas as pd\n",
    "import dask.dataframe as dd\n",
    "import time\n",
    "\n",
    "import scipy.stats\n",
    "import re"
   ]
  },
  {
   "cell_type": "markdown",
   "metadata": {},
   "source": [
    "## Obtencion de AGEBS de interés:"
   ]
  },
  {
   "cell_type": "code",
   "execution_count": 11,
   "metadata": {},
   "outputs": [
    {
     "data": {
      "text/html": [
       "<div>\n",
       "<style scoped>\n",
       "    .dataframe tbody tr th:only-of-type {\n",
       "        vertical-align: middle;\n",
       "    }\n",
       "\n",
       "    .dataframe tbody tr th {\n",
       "        vertical-align: top;\n",
       "    }\n",
       "\n",
       "    .dataframe thead th {\n",
       "        text-align: right;\n",
       "    }\n",
       "</style>\n",
       "<table border=\"1\" class=\"dataframe\">\n",
       "  <thead>\n",
       "    <tr style=\"text-align: right;\">\n",
       "      <th></th>\n",
       "      <th>ID</th>\n",
       "      <th>Nombre</th>\n",
       "      <th>Dirección</th>\n",
       "      <th>Número</th>\n",
       "      <th>Código po</th>\n",
       "      <th>districtCo</th>\n",
       "      <th>Colonia</th>\n",
       "      <th>altitude</th>\n",
       "      <th>nearbyStat</th>\n",
       "      <th>location/l</th>\n",
       "      <th>...</th>\n",
       "      <th>nearbySt_3</th>\n",
       "      <th>nearbySt_4</th>\n",
       "      <th>nearbySt_5</th>\n",
       "      <th>punto_geo</th>\n",
       "      <th>CVE_AGEB</th>\n",
       "      <th>CVE_MUN</th>\n",
       "      <th>CVE_LOC</th>\n",
       "      <th>CVE_ENT</th>\n",
       "      <th>MOVEMENT_I</th>\n",
       "      <th>DISPLAY_NA</th>\n",
       "    </tr>\n",
       "  </thead>\n",
       "  <tbody>\n",
       "    <tr>\n",
       "      <td>0</td>\n",
       "      <td>440</td>\n",
       "      <td>440 REAL DE MAYORAZGO-PUENTE XOCO</td>\n",
       "      <td>440 - Real De Mayorazgo-Puente Xoco</td>\n",
       "      <td>S/N</td>\n",
       "      <td>3330.0</td>\n",
       "      <td>1</td>\n",
       "      <td>Ampliación Granada</td>\n",
       "      <td>NaN</td>\n",
       "      <td>433</td>\n",
       "      <td>19.360650</td>\n",
       "      <td>...</td>\n",
       "      <td>NaN</td>\n",
       "      <td>NaN</td>\n",
       "      <td>NaN</td>\n",
       "      <td>19.36065,-99.168669</td>\n",
       "      <td>0967</td>\n",
       "      <td>14</td>\n",
       "      <td>1</td>\n",
       "      <td>9</td>\n",
       "      <td>4550</td>\n",
       "      <td>Movement Zone 4550</td>\n",
       "    </tr>\n",
       "    <tr>\n",
       "      <td>1</td>\n",
       "      <td>283</td>\n",
       "      <td>283 AV. COYOACÁN-RAFAEL DONDE</td>\n",
       "      <td>283 - Av. Coyoacán-Rafael Donde</td>\n",
       "      <td>S/N</td>\n",
       "      <td>3103.0</td>\n",
       "      <td>1</td>\n",
       "      <td>Ampliación Granada</td>\n",
       "      <td>NaN</td>\n",
       "      <td>279</td>\n",
       "      <td>19.398270</td>\n",
       "      <td>...</td>\n",
       "      <td>NaN</td>\n",
       "      <td>NaN</td>\n",
       "      <td>NaN</td>\n",
       "      <td>19.39827,-99.167383</td>\n",
       "      <td>0045</td>\n",
       "      <td>14</td>\n",
       "      <td>1</td>\n",
       "      <td>9</td>\n",
       "      <td>4551</td>\n",
       "      <td>Movement Zone 4551</td>\n",
       "    </tr>\n",
       "    <tr>\n",
       "      <td>2</td>\n",
       "      <td>279</td>\n",
       "      <td>279 LA MORENA-PROVIDENCIA</td>\n",
       "      <td>279 - La Morena-Providencia</td>\n",
       "      <td>S/N</td>\n",
       "      <td>3103.0</td>\n",
       "      <td>DVN</td>\n",
       "      <td>Del Valle Norte</td>\n",
       "      <td>NaN</td>\n",
       "      <td>164</td>\n",
       "      <td>19.399908</td>\n",
       "      <td>...</td>\n",
       "      <td>NaN</td>\n",
       "      <td>NaN</td>\n",
       "      <td>NaN</td>\n",
       "      <td>19.399908,-99.166553</td>\n",
       "      <td>0045</td>\n",
       "      <td>14</td>\n",
       "      <td>1</td>\n",
       "      <td>9</td>\n",
       "      <td>4551</td>\n",
       "      <td>Movement Zone 4551</td>\n",
       "    </tr>\n",
       "    <tr>\n",
       "      <td>3</td>\n",
       "      <td>443</td>\n",
       "      <td>443 BRUNO TRAVEN-GOLONDRINAS</td>\n",
       "      <td>443 - Bruno Trave-Avenida México-Coyoacan</td>\n",
       "      <td>S/N</td>\n",
       "      <td>3340.0</td>\n",
       "      <td>1</td>\n",
       "      <td>Ampliación Granada</td>\n",
       "      <td>NaN</td>\n",
       "      <td>432</td>\n",
       "      <td>19.359655</td>\n",
       "      <td>...</td>\n",
       "      <td>NaN</td>\n",
       "      <td>NaN</td>\n",
       "      <td>NaN</td>\n",
       "      <td>19.359655,-99.162025</td>\n",
       "      <td>0971</td>\n",
       "      <td>14</td>\n",
       "      <td>1</td>\n",
       "      <td>9</td>\n",
       "      <td>4553</td>\n",
       "      <td>Movement Zone 4553</td>\n",
       "    </tr>\n",
       "    <tr>\n",
       "      <td>4</td>\n",
       "      <td>432</td>\n",
       "      <td>432 CARRILLO PUERTO-AV. MÉXICO-COYOACÁN</td>\n",
       "      <td>432 - Carrillo Pto-Golondrinas</td>\n",
       "      <td>S/N</td>\n",
       "      <td>3340.0</td>\n",
       "      <td>GPM</td>\n",
       "      <td>General Pedro Maria Anaya</td>\n",
       "      <td>NaN</td>\n",
       "      <td>442</td>\n",
       "      <td>19.361296</td>\n",
       "      <td>...</td>\n",
       "      <td>NaN</td>\n",
       "      <td>NaN</td>\n",
       "      <td>NaN</td>\n",
       "      <td>19.361296,-99.162581</td>\n",
       "      <td>0971</td>\n",
       "      <td>14</td>\n",
       "      <td>1</td>\n",
       "      <td>9</td>\n",
       "      <td>4553</td>\n",
       "      <td>Movement Zone 4553</td>\n",
       "    </tr>\n",
       "  </tbody>\n",
       "</table>\n",
       "<p>5 rows × 24 columns</p>\n",
       "</div>"
      ],
      "text/plain": [
       "    ID                                   Nombre  \\\n",
       "0  440        440 REAL DE MAYORAZGO-PUENTE XOCO   \n",
       "1  283            283 AV. COYOACÁN-RAFAEL DONDE   \n",
       "2  279                279 LA MORENA-PROVIDENCIA   \n",
       "3  443             443 BRUNO TRAVEN-GOLONDRINAS   \n",
       "4  432  432 CARRILLO PUERTO-AV. MÉXICO-COYOACÁN   \n",
       "\n",
       "                                   Dirección Número  Código po districtCo  \\\n",
       "0        440 - Real De Mayorazgo-Puente Xoco    S/N     3330.0          1   \n",
       "1            283 - Av. Coyoacán-Rafael Donde    S/N     3103.0          1   \n",
       "2                279 - La Morena-Providencia    S/N     3103.0        DVN   \n",
       "3  443 - Bruno Trave-Avenida México-Coyoacan    S/N     3340.0          1   \n",
       "4             432 - Carrillo Pto-Golondrinas    S/N     3340.0        GPM   \n",
       "\n",
       "                     Colonia  altitude  nearbyStat  location/l  ...  \\\n",
       "0         Ampliación Granada       NaN         433   19.360650  ...   \n",
       "1         Ampliación Granada       NaN         279   19.398270  ...   \n",
       "2            Del Valle Norte       NaN         164   19.399908  ...   \n",
       "3         Ampliación Granada       NaN         432   19.359655  ...   \n",
       "4  General Pedro Maria Anaya       NaN         442   19.361296  ...   \n",
       "\n",
       "   nearbySt_3 nearbySt_4  nearbySt_5             punto_geo  CVE_AGEB  CVE_MUN  \\\n",
       "0         NaN        NaN         NaN   19.36065,-99.168669      0967       14   \n",
       "1         NaN        NaN         NaN   19.39827,-99.167383      0045       14   \n",
       "2         NaN        NaN         NaN  19.399908,-99.166553      0045       14   \n",
       "3         NaN        NaN         NaN  19.359655,-99.162025      0971       14   \n",
       "4         NaN        NaN         NaN  19.361296,-99.162581      0971       14   \n",
       "\n",
       "   CVE_LOC CVE_ENT MOVEMENT_I          DISPLAY_NA  \n",
       "0        1       9       4550  Movement Zone 4550  \n",
       "1        1       9       4551  Movement Zone 4551  \n",
       "2        1       9       4551  Movement Zone 4551  \n",
       "3        1       9       4553  Movement Zone 4553  \n",
       "4        1       9       4553  Movement Zone 4553  \n",
       "\n",
       "[5 rows x 24 columns]"
      ]
     },
     "execution_count": 11,
     "metadata": {},
     "output_type": "execute_result"
    }
   ],
   "source": [
    "df_estaciones = pd.read_csv(\"./SIG/data/procesado/CSV/estaciones-de-ecobici_con_AGEB.csv\")\n",
    "df_estaciones.head()"
   ]
  },
  {
   "cell_type": "code",
   "execution_count": 14,
   "metadata": {},
   "outputs": [],
   "source": [
    "df_estaciones['CVE_AGEB'] = [''.join(filter(lambda x: x.isdigit(), row)) for row in df_estaciones['CVE_AGEB']]"
   ]
  },
  {
   "cell_type": "code",
   "execution_count": 16,
   "metadata": {},
   "outputs": [
    {
     "data": {
      "text/plain": [
       "143"
      ]
     },
     "execution_count": 16,
     "metadata": {},
     "output_type": "execute_result"
    }
   ],
   "source": [
    "lista_agebs = df_estaciones['CVE_AGEB'].unique().tolist()\n",
    "len(lista_agebs)"
   ]
  },
  {
   "cell_type": "code",
   "execution_count": 19,
   "metadata": {},
   "outputs": [
    {
     "data": {
      "text/plain": [
       "[967, 45, 971, 219, 187]"
      ]
     },
     "execution_count": 19,
     "metadata": {},
     "output_type": "execute_result"
    }
   ],
   "source": [
    "lista_agebs[:5]"
   ]
  },
  {
   "cell_type": "markdown",
   "metadata": {},
   "source": [
    "Guardamos lo AGEBS en una lista:"
   ]
  },
  {
   "cell_type": "code",
   "execution_count": 20,
   "metadata": {},
   "outputs": [],
   "source": [
    "with open(\"./data/lista_agebs.txt\", \"wb\") as fp:\n",
    "    pickle.dump(lista_agebs, fp)"
   ]
  },
  {
   "cell_type": "markdown",
   "metadata": {},
   "source": [
    "## Leamos el archivo de viajes de UBER"
   ]
  },
  {
   "cell_type": "code",
   "execution_count": 61,
   "metadata": {},
   "outputs": [],
   "source": [
    "path_uber_trips = \"/Users/danielbustillos/Documents/ecobici_viz/data/uber/mexico_city-agebs-2019-2-OnlyWeekdays-HourlyAggregate.csv\""
   ]
  },
  {
   "cell_type": "code",
   "execution_count": 62,
   "metadata": {},
   "outputs": [],
   "source": [
    "## cambiar a pandas"
   ]
  },
  {
   "cell_type": "code",
   "execution_count": 63,
   "metadata": {},
   "outputs": [
    {
     "name": "stdout",
     "output_type": "stream",
     "text": [
      "load train:  52.899135\n"
     ]
    }
   ],
   "source": [
    "t=time.clock()\n",
    "df_trips = dd.read_csv(path_uber_trips)\n",
    "df_trips = df_trips.compute()\n",
    "print(\"load train: \" , time.clock()-t)"
   ]
  },
  {
   "cell_type": "code",
   "execution_count": 64,
   "metadata": {},
   "outputs": [
    {
     "data": {
      "text/html": [
       "<div>\n",
       "<style scoped>\n",
       "    .dataframe tbody tr th:only-of-type {\n",
       "        vertical-align: middle;\n",
       "    }\n",
       "\n",
       "    .dataframe tbody tr th {\n",
       "        vertical-align: top;\n",
       "    }\n",
       "\n",
       "    .dataframe thead th {\n",
       "        text-align: right;\n",
       "    }\n",
       "</style>\n",
       "<table border=\"1\" class=\"dataframe\">\n",
       "  <thead>\n",
       "    <tr style=\"text-align: right;\">\n",
       "      <th></th>\n",
       "      <th>sourceid</th>\n",
       "      <th>dstid</th>\n",
       "      <th>hod</th>\n",
       "      <th>mean_travel_time</th>\n",
       "      <th>standard_deviation_travel_time</th>\n",
       "      <th>geometric_mean_travel_time</th>\n",
       "      <th>geometric_standard_deviation_travel_time</th>\n",
       "    </tr>\n",
       "  </thead>\n",
       "  <tbody>\n",
       "    <tr>\n",
       "      <td>0</td>\n",
       "      <td>3400</td>\n",
       "      <td>3458</td>\n",
       "      <td>12</td>\n",
       "      <td>2388.38</td>\n",
       "      <td>495.31</td>\n",
       "      <td>2342.07</td>\n",
       "      <td>1.21</td>\n",
       "    </tr>\n",
       "    <tr>\n",
       "      <td>1</td>\n",
       "      <td>4592</td>\n",
       "      <td>2596</td>\n",
       "      <td>23</td>\n",
       "      <td>2670.75</td>\n",
       "      <td>506.90</td>\n",
       "      <td>2619.95</td>\n",
       "      <td>1.22</td>\n",
       "    </tr>\n",
       "    <tr>\n",
       "      <td>2</td>\n",
       "      <td>4718</td>\n",
       "      <td>2885</td>\n",
       "      <td>6</td>\n",
       "      <td>957.27</td>\n",
       "      <td>158.18</td>\n",
       "      <td>944.96</td>\n",
       "      <td>1.17</td>\n",
       "    </tr>\n",
       "    <tr>\n",
       "      <td>3</td>\n",
       "      <td>4735</td>\n",
       "      <td>1406</td>\n",
       "      <td>18</td>\n",
       "      <td>3557.00</td>\n",
       "      <td>1044.99</td>\n",
       "      <td>3401.00</td>\n",
       "      <td>1.35</td>\n",
       "    </tr>\n",
       "    <tr>\n",
       "      <td>4</td>\n",
       "      <td>4670</td>\n",
       "      <td>2892</td>\n",
       "      <td>23</td>\n",
       "      <td>1082.94</td>\n",
       "      <td>475.12</td>\n",
       "      <td>1026.10</td>\n",
       "      <td>1.34</td>\n",
       "    </tr>\n",
       "  </tbody>\n",
       "</table>\n",
       "</div>"
      ],
      "text/plain": [
       "   sourceid  dstid  hod  mean_travel_time  standard_deviation_travel_time  \\\n",
       "0      3400   3458   12           2388.38                          495.31   \n",
       "1      4592   2596   23           2670.75                          506.90   \n",
       "2      4718   2885    6            957.27                          158.18   \n",
       "3      4735   1406   18           3557.00                         1044.99   \n",
       "4      4670   2892   23           1082.94                          475.12   \n",
       "\n",
       "   geometric_mean_travel_time  geometric_standard_deviation_travel_time  \n",
       "0                     2342.07                                      1.21  \n",
       "1                     2619.95                                      1.22  \n",
       "2                      944.96                                      1.17  \n",
       "3                     3401.00                                      1.35  \n",
       "4                     1026.10                                      1.34  "
      ]
     },
     "execution_count": 64,
     "metadata": {},
     "output_type": "execute_result"
    }
   ],
   "source": [
    "df_trips.head()"
   ]
  },
  {
   "cell_type": "raw",
   "metadata": {},
   "source": [
    "lista_agebs.sort()\n",
    "lista_agebs"
   ]
  },
  {
   "cell_type": "code",
   "execution_count": 70,
   "metadata": {},
   "outputs": [
    {
     "data": {
      "text/plain": [
       "[1356, 717, 783, 1360, 49, 401, 533, 1337, 1341, 1214]"
      ]
     },
     "execution_count": 70,
     "metadata": {},
     "output_type": "execute_result"
    }
   ],
   "source": [
    "list(set(lista_agebs) - set(df_trips[\"sourceid\"].unique()))"
   ]
  },
  {
   "cell_type": "code",
   "execution_count": 71,
   "metadata": {},
   "outputs": [],
   "source": [
    "df_trips = df_trips[df_trips[\"sourceid\"].isin(lista_agebs)]"
   ]
  },
  {
   "cell_type": "code",
   "execution_count": 72,
   "metadata": {},
   "outputs": [],
   "source": [
    "#df_trips.to_csv('./data/procesado/mexico_city-agebs-2019-2-All-HourlyAggregate_filter.csv')"
   ]
  },
  {
   "cell_type": "code",
   "execution_count": 73,
   "metadata": {},
   "outputs": [
    {
     "data": {
      "text/plain": [
       "sourceid                                      int64\n",
       "dstid                                         int64\n",
       "hod                                           int64\n",
       "mean_travel_time                            float64\n",
       "standard_deviation_travel_time              float64\n",
       "geometric_mean_travel_time                  float64\n",
       "geometric_standard_deviation_travel_time    float64\n",
       "dtype: object"
      ]
     },
     "execution_count": 73,
     "metadata": {},
     "output_type": "execute_result"
    }
   ],
   "source": [
    "df_trips.dtypes"
   ]
  },
  {
   "cell_type": "code",
   "execution_count": 74,
   "metadata": {},
   "outputs": [],
   "source": [
    "df_trips.reset_index(drop=True, inplace=True)"
   ]
  },
  {
   "cell_type": "code",
   "execution_count": 75,
   "metadata": {},
   "outputs": [
    {
     "data": {
      "text/html": [
       "<div>\n",
       "<style scoped>\n",
       "    .dataframe tbody tr th:only-of-type {\n",
       "        vertical-align: middle;\n",
       "    }\n",
       "\n",
       "    .dataframe tbody tr th {\n",
       "        vertical-align: top;\n",
       "    }\n",
       "\n",
       "    .dataframe thead th {\n",
       "        text-align: right;\n",
       "    }\n",
       "</style>\n",
       "<table border=\"1\" class=\"dataframe\">\n",
       "  <thead>\n",
       "    <tr style=\"text-align: right;\">\n",
       "      <th></th>\n",
       "      <th>sourceid</th>\n",
       "      <th>dstid</th>\n",
       "      <th>hod</th>\n",
       "      <th>mean_travel_time</th>\n",
       "      <th>standard_deviation_travel_time</th>\n",
       "      <th>geometric_mean_travel_time</th>\n",
       "      <th>geometric_standard_deviation_travel_time</th>\n",
       "    </tr>\n",
       "  </thead>\n",
       "  <tbody>\n",
       "    <tr>\n",
       "      <td>0</td>\n",
       "      <td>1534</td>\n",
       "      <td>3304</td>\n",
       "      <td>4</td>\n",
       "      <td>1448.04</td>\n",
       "      <td>446.76</td>\n",
       "      <td>1399.74</td>\n",
       "      <td>1.27</td>\n",
       "    </tr>\n",
       "    <tr>\n",
       "      <td>1</td>\n",
       "      <td>76</td>\n",
       "      <td>4671</td>\n",
       "      <td>10</td>\n",
       "      <td>2812.74</td>\n",
       "      <td>646.22</td>\n",
       "      <td>2746.81</td>\n",
       "      <td>1.24</td>\n",
       "    </tr>\n",
       "    <tr>\n",
       "      <td>2</td>\n",
       "      <td>875</td>\n",
       "      <td>1947</td>\n",
       "      <td>17</td>\n",
       "      <td>3026.17</td>\n",
       "      <td>427.75</td>\n",
       "      <td>2996.39</td>\n",
       "      <td>1.15</td>\n",
       "    </tr>\n",
       "    <tr>\n",
       "      <td>3</td>\n",
       "      <td>1464</td>\n",
       "      <td>4814</td>\n",
       "      <td>20</td>\n",
       "      <td>1645.67</td>\n",
       "      <td>313.17</td>\n",
       "      <td>1615.15</td>\n",
       "      <td>1.22</td>\n",
       "    </tr>\n",
       "    <tr>\n",
       "      <td>4</td>\n",
       "      <td>191</td>\n",
       "      <td>4616</td>\n",
       "      <td>11</td>\n",
       "      <td>3082.92</td>\n",
       "      <td>1786.94</td>\n",
       "      <td>2752.87</td>\n",
       "      <td>1.55</td>\n",
       "    </tr>\n",
       "  </tbody>\n",
       "</table>\n",
       "</div>"
      ],
      "text/plain": [
       "   sourceid  dstid  hod  mean_travel_time  standard_deviation_travel_time  \\\n",
       "0      1534   3304    4           1448.04                          446.76   \n",
       "1        76   4671   10           2812.74                          646.22   \n",
       "2       875   1947   17           3026.17                          427.75   \n",
       "3      1464   4814   20           1645.67                          313.17   \n",
       "4       191   4616   11           3082.92                         1786.94   \n",
       "\n",
       "   geometric_mean_travel_time  geometric_standard_deviation_travel_time  \n",
       "0                     1399.74                                      1.27  \n",
       "1                     2746.81                                      1.24  \n",
       "2                     2996.39                                      1.15  \n",
       "3                     1615.15                                      1.22  \n",
       "4                     2752.87                                      1.55  "
      ]
     },
     "execution_count": 75,
     "metadata": {},
     "output_type": "execute_result"
    }
   ],
   "source": [
    "df_trips.head()"
   ]
  },
  {
   "cell_type": "code",
   "execution_count": 76,
   "metadata": {},
   "outputs": [
    {
     "data": {
      "text/plain": [
       "133"
      ]
     },
     "execution_count": 76,
     "metadata": {},
     "output_type": "execute_result"
    }
   ],
   "source": [
    "df_trips[\"sourceid\"].nunique()"
   ]
  },
  {
   "cell_type": "markdown",
   "metadata": {},
   "source": [
    "### tiempo máximo y mínimos por viaje y hora.\n",
    "Suponemos una distribución normal con media 'mean_travel_time' y desviación estandar 'standard_deviation_travel_time>'"
   ]
  },
  {
   "cell_type": "code",
   "execution_count": 77,
   "metadata": {},
   "outputs": [],
   "source": [
    "def travel_min(mean,std):\n",
    "    min = scipy.stats.norm(mean, std).ppf(.10)\n",
    "    #max = scipy.stats.norm(mean, std).ppf(.90)\n",
    "    return(min)\n",
    "def travel_max(mean,std):\n",
    "    #min = scipy.stats.norm(mean, std).ppf(.10)\n",
    "    max = scipy.stats.norm(mean, std).ppf(.90)\n",
    "    return(max)"
   ]
  },
  {
   "cell_type": "code",
   "execution_count": 78,
   "metadata": {},
   "outputs": [],
   "source": [
    "df_trips['min_travel_time'] = 0\n",
    "df_trips['max_travel_time'] = 0"
   ]
  },
  {
   "cell_type": "code",
   "execution_count": 79,
   "metadata": {},
   "outputs": [],
   "source": [
    "df_trips['min_travel_time'] =  df_trips.apply(\n",
    "    lambda row : travel_min(row['mean_travel_time'], \n",
    "                            row['standard_deviation_travel_time']), axis = 1)"
   ]
  },
  {
   "cell_type": "code",
   "execution_count": 80,
   "metadata": {},
   "outputs": [],
   "source": [
    "df_trips['max_travel_time'] =  df_trips.apply(\n",
    "    lambda row : travel_max(row['mean_travel_time'], \n",
    "                            row['standard_deviation_travel_time']), axis = 1)"
   ]
  },
  {
   "cell_type": "code",
   "execution_count": 81,
   "metadata": {},
   "outputs": [],
   "source": [
    "df_trips.to_csv('./data/procesado/mexico_city-agebs-2019-2-All-HourlyAggregate_filter.csv')"
   ]
  },
  {
   "cell_type": "code",
   "execution_count": 82,
   "metadata": {},
   "outputs": [
    {
     "data": {
      "text/html": [
       "<div>\n",
       "<style scoped>\n",
       "    .dataframe tbody tr th:only-of-type {\n",
       "        vertical-align: middle;\n",
       "    }\n",
       "\n",
       "    .dataframe tbody tr th {\n",
       "        vertical-align: top;\n",
       "    }\n",
       "\n",
       "    .dataframe thead th {\n",
       "        text-align: right;\n",
       "    }\n",
       "</style>\n",
       "<table border=\"1\" class=\"dataframe\">\n",
       "  <thead>\n",
       "    <tr style=\"text-align: right;\">\n",
       "      <th></th>\n",
       "      <th>sourceid</th>\n",
       "      <th>dstid</th>\n",
       "      <th>hod</th>\n",
       "      <th>mean_travel_time</th>\n",
       "      <th>standard_deviation_travel_time</th>\n",
       "      <th>geometric_mean_travel_time</th>\n",
       "      <th>geometric_standard_deviation_travel_time</th>\n",
       "      <th>min_travel_time</th>\n",
       "      <th>max_travel_time</th>\n",
       "    </tr>\n",
       "  </thead>\n",
       "  <tbody>\n",
       "    <tr>\n",
       "      <td>0</td>\n",
       "      <td>1534</td>\n",
       "      <td>3304</td>\n",
       "      <td>4</td>\n",
       "      <td>1448.04</td>\n",
       "      <td>446.76</td>\n",
       "      <td>1399.74</td>\n",
       "      <td>1.27</td>\n",
       "      <td>875.494023</td>\n",
       "      <td>2020.585977</td>\n",
       "    </tr>\n",
       "    <tr>\n",
       "      <td>1</td>\n",
       "      <td>76</td>\n",
       "      <td>4671</td>\n",
       "      <td>10</td>\n",
       "      <td>2812.74</td>\n",
       "      <td>646.22</td>\n",
       "      <td>2746.81</td>\n",
       "      <td>1.24</td>\n",
       "      <td>1984.575747</td>\n",
       "      <td>3640.904253</td>\n",
       "    </tr>\n",
       "    <tr>\n",
       "      <td>2</td>\n",
       "      <td>875</td>\n",
       "      <td>1947</td>\n",
       "      <td>17</td>\n",
       "      <td>3026.17</td>\n",
       "      <td>427.75</td>\n",
       "      <td>2996.39</td>\n",
       "      <td>1.15</td>\n",
       "      <td>2477.986318</td>\n",
       "      <td>3574.353682</td>\n",
       "    </tr>\n",
       "    <tr>\n",
       "      <td>3</td>\n",
       "      <td>1464</td>\n",
       "      <td>4814</td>\n",
       "      <td>20</td>\n",
       "      <td>1645.67</td>\n",
       "      <td>313.17</td>\n",
       "      <td>1615.15</td>\n",
       "      <td>1.22</td>\n",
       "      <td>1244.326496</td>\n",
       "      <td>2047.013504</td>\n",
       "    </tr>\n",
       "    <tr>\n",
       "      <td>4</td>\n",
       "      <td>191</td>\n",
       "      <td>4616</td>\n",
       "      <td>11</td>\n",
       "      <td>3082.92</td>\n",
       "      <td>1786.94</td>\n",
       "      <td>2752.87</td>\n",
       "      <td>1.55</td>\n",
       "      <td>792.864245</td>\n",
       "      <td>5372.975755</td>\n",
       "    </tr>\n",
       "  </tbody>\n",
       "</table>\n",
       "</div>"
      ],
      "text/plain": [
       "   sourceid  dstid  hod  mean_travel_time  standard_deviation_travel_time  \\\n",
       "0      1534   3304    4           1448.04                          446.76   \n",
       "1        76   4671   10           2812.74                          646.22   \n",
       "2       875   1947   17           3026.17                          427.75   \n",
       "3      1464   4814   20           1645.67                          313.17   \n",
       "4       191   4616   11           3082.92                         1786.94   \n",
       "\n",
       "   geometric_mean_travel_time  geometric_standard_deviation_travel_time  \\\n",
       "0                     1399.74                                      1.27   \n",
       "1                     2746.81                                      1.24   \n",
       "2                     2996.39                                      1.15   \n",
       "3                     1615.15                                      1.22   \n",
       "4                     2752.87                                      1.55   \n",
       "\n",
       "   min_travel_time  max_travel_time  \n",
       "0       875.494023      2020.585977  \n",
       "1      1984.575747      3640.904253  \n",
       "2      2477.986318      3574.353682  \n",
       "3      1244.326496      2047.013504  \n",
       "4       792.864245      5372.975755  "
      ]
     },
     "execution_count": 82,
     "metadata": {},
     "output_type": "execute_result"
    }
   ],
   "source": [
    "df_trips.head()"
   ]
  },
  {
   "cell_type": "code",
   "execution_count": 83,
   "metadata": {},
   "outputs": [
    {
     "data": {
      "text/plain": [
       "sourceid                                      int64\n",
       "dstid                                         int64\n",
       "hod                                           int64\n",
       "mean_travel_time                            float64\n",
       "standard_deviation_travel_time              float64\n",
       "geometric_mean_travel_time                  float64\n",
       "geometric_standard_deviation_travel_time    float64\n",
       "min_travel_time                             float64\n",
       "max_travel_time                             float64\n",
       "dtype: object"
      ]
     },
     "execution_count": 83,
     "metadata": {},
     "output_type": "execute_result"
    }
   ],
   "source": [
    "df_trips.dtypes"
   ]
  },
  {
   "cell_type": "code",
   "execution_count": 84,
   "metadata": {},
   "outputs": [
    {
     "ename": "NameError",
     "evalue": "name 'df_viajes_ageb' is not defined",
     "output_type": "error",
     "traceback": [
      "\u001b[0;31m---------------------------------------------------------------------------\u001b[0m",
      "\u001b[0;31mNameError\u001b[0m                                 Traceback (most recent call last)",
      "\u001b[0;32m<ipython-input-84-bceca378ef2d>\u001b[0m in \u001b[0;36m<module>\u001b[0;34m\u001b[0m\n\u001b[0;32m----> 1\u001b[0;31m \u001b[0mdf_viajes_ageb\u001b[0m\u001b[0;34m.\u001b[0m\u001b[0mgroupby\u001b[0m\u001b[0;34m(\u001b[0m\u001b[0;34m[\u001b[0m\u001b[0;34m'Ciclo_Estacion_Retiro'\u001b[0m\u001b[0;34m,\u001b[0m\u001b[0;34m'Ciclo_Estacion_Arribo'\u001b[0m\u001b[0;34m,\u001b[0m\u001b[0;34m'Hora_Retiro'\u001b[0m\u001b[0;34m]\u001b[0m\u001b[0;34m)\u001b[0m\u001b[0;34m.\u001b[0m\u001b[0mmean\u001b[0m\u001b[0;34m(\u001b[0m\u001b[0;34m)\u001b[0m\u001b[0;34m.\u001b[0m\u001b[0mreset_index\u001b[0m\u001b[0;34m(\u001b[0m\u001b[0mdrop\u001b[0m\u001b[0;34m=\u001b[0m\u001b[0;32mFalse\u001b[0m\u001b[0;34m)\u001b[0m\u001b[0;34m\u001b[0m\u001b[0;34m\u001b[0m\u001b[0m\n\u001b[0m",
      "\u001b[0;31mNameError\u001b[0m: name 'df_viajes_ageb' is not defined"
     ]
    }
   ],
   "source": [
    "df_viajes_ageb.groupby(['Ciclo_Estacion_Retiro','Ciclo_Estacion_Arribo','Hora_Retiro']).mean().reset_index(drop=False)"
   ]
  },
  {
   "cell_type": "code",
   "execution_count": null,
   "metadata": {},
   "outputs": [],
   "source": []
  }
 ],
 "metadata": {
  "kernelspec": {
   "display_name": "env_ecobici",
   "language": "python",
   "name": "env_ecobici"
  },
  "language_info": {
   "codemirror_mode": {
    "name": "ipython",
    "version": 3
   },
   "file_extension": ".py",
   "mimetype": "text/x-python",
   "name": "python",
   "nbconvert_exporter": "python",
   "pygments_lexer": "ipython3",
   "version": "3.6.8"
  }
 },
 "nbformat": 4,
 "nbformat_minor": 4
}
