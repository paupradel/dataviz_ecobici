{
 "cells": [
  {
   "cell_type": "code",
   "execution_count": 16,
   "metadata": {},
   "outputs": [],
   "source": [
    "import pandas as pd\n",
    "import pickle"
   ]
  },
  {
   "cell_type": "markdown",
   "metadata": {},
   "source": [
    "## Obtencion de AGEBS de interés:"
   ]
  },
  {
   "cell_type": "code",
   "execution_count": 4,
   "metadata": {},
   "outputs": [
    {
     "name": "stdout",
     "output_type": "stream",
     "text": [
      "/Users/danielbustillos/Documents/ecobici_viz\n"
     ]
    }
   ],
   "source": [
    "!pwd"
   ]
  },
  {
   "cell_type": "code",
   "execution_count": 13,
   "metadata": {},
   "outputs": [],
   "source": [
    "df_estaciones = pd.read_csv(\"./SIG/data/procesado/CSV/estaciones-de-ecobici_con_AGEB.csv\")"
   ]
  },
  {
   "cell_type": "code",
   "execution_count": 14,
   "metadata": {},
   "outputs": [
    {
     "data": {
      "text/html": [
       "<div>\n",
       "<style scoped>\n",
       "    .dataframe tbody tr th:only-of-type {\n",
       "        vertical-align: middle;\n",
       "    }\n",
       "\n",
       "    .dataframe tbody tr th {\n",
       "        vertical-align: top;\n",
       "    }\n",
       "\n",
       "    .dataframe thead th {\n",
       "        text-align: right;\n",
       "    }\n",
       "</style>\n",
       "<table border=\"1\" class=\"dataframe\">\n",
       "  <thead>\n",
       "    <tr style=\"text-align: right;\">\n",
       "      <th></th>\n",
       "      <th>ID</th>\n",
       "      <th>Nombre</th>\n",
       "      <th>Dirección</th>\n",
       "      <th>Número</th>\n",
       "      <th>Código po</th>\n",
       "      <th>districtCo</th>\n",
       "      <th>Colonia</th>\n",
       "      <th>altitude</th>\n",
       "      <th>nearbyStat</th>\n",
       "      <th>location/l</th>\n",
       "      <th>...</th>\n",
       "      <th>nearbySt_3</th>\n",
       "      <th>nearbySt_4</th>\n",
       "      <th>nearbySt_5</th>\n",
       "      <th>punto_geo</th>\n",
       "      <th>CVE_AGEB</th>\n",
       "      <th>CVE_MUN</th>\n",
       "      <th>CVE_LOC</th>\n",
       "      <th>CVE_ENT</th>\n",
       "      <th>MOVEMENT_I</th>\n",
       "      <th>DISPLAY_NA</th>\n",
       "    </tr>\n",
       "  </thead>\n",
       "  <tbody>\n",
       "    <tr>\n",
       "      <td>0</td>\n",
       "      <td>440</td>\n",
       "      <td>440 REAL DE MAYORAZGO-PUENTE XOCO</td>\n",
       "      <td>440 - Real De Mayorazgo-Puente Xoco</td>\n",
       "      <td>S/N</td>\n",
       "      <td>3330.0</td>\n",
       "      <td>1</td>\n",
       "      <td>Ampliación Granada</td>\n",
       "      <td>NaN</td>\n",
       "      <td>433</td>\n",
       "      <td>19.360650</td>\n",
       "      <td>...</td>\n",
       "      <td>NaN</td>\n",
       "      <td>NaN</td>\n",
       "      <td>NaN</td>\n",
       "      <td>19.36065,-99.168669</td>\n",
       "      <td>0967</td>\n",
       "      <td>14</td>\n",
       "      <td>1</td>\n",
       "      <td>9</td>\n",
       "      <td>4550</td>\n",
       "      <td>Movement Zone 4550</td>\n",
       "    </tr>\n",
       "    <tr>\n",
       "      <td>1</td>\n",
       "      <td>283</td>\n",
       "      <td>283 AV. COYOACÁN-RAFAEL DONDE</td>\n",
       "      <td>283 - Av. Coyoacán-Rafael Donde</td>\n",
       "      <td>S/N</td>\n",
       "      <td>3103.0</td>\n",
       "      <td>1</td>\n",
       "      <td>Ampliación Granada</td>\n",
       "      <td>NaN</td>\n",
       "      <td>279</td>\n",
       "      <td>19.398270</td>\n",
       "      <td>...</td>\n",
       "      <td>NaN</td>\n",
       "      <td>NaN</td>\n",
       "      <td>NaN</td>\n",
       "      <td>19.39827,-99.167383</td>\n",
       "      <td>0045</td>\n",
       "      <td>14</td>\n",
       "      <td>1</td>\n",
       "      <td>9</td>\n",
       "      <td>4551</td>\n",
       "      <td>Movement Zone 4551</td>\n",
       "    </tr>\n",
       "    <tr>\n",
       "      <td>2</td>\n",
       "      <td>279</td>\n",
       "      <td>279 LA MORENA-PROVIDENCIA</td>\n",
       "      <td>279 - La Morena-Providencia</td>\n",
       "      <td>S/N</td>\n",
       "      <td>3103.0</td>\n",
       "      <td>DVN</td>\n",
       "      <td>Del Valle Norte</td>\n",
       "      <td>NaN</td>\n",
       "      <td>164</td>\n",
       "      <td>19.399908</td>\n",
       "      <td>...</td>\n",
       "      <td>NaN</td>\n",
       "      <td>NaN</td>\n",
       "      <td>NaN</td>\n",
       "      <td>19.399908,-99.166553</td>\n",
       "      <td>0045</td>\n",
       "      <td>14</td>\n",
       "      <td>1</td>\n",
       "      <td>9</td>\n",
       "      <td>4551</td>\n",
       "      <td>Movement Zone 4551</td>\n",
       "    </tr>\n",
       "    <tr>\n",
       "      <td>3</td>\n",
       "      <td>443</td>\n",
       "      <td>443 BRUNO TRAVEN-GOLONDRINAS</td>\n",
       "      <td>443 - Bruno Trave-Avenida México-Coyoacan</td>\n",
       "      <td>S/N</td>\n",
       "      <td>3340.0</td>\n",
       "      <td>1</td>\n",
       "      <td>Ampliación Granada</td>\n",
       "      <td>NaN</td>\n",
       "      <td>432</td>\n",
       "      <td>19.359655</td>\n",
       "      <td>...</td>\n",
       "      <td>NaN</td>\n",
       "      <td>NaN</td>\n",
       "      <td>NaN</td>\n",
       "      <td>19.359655,-99.162025</td>\n",
       "      <td>0971</td>\n",
       "      <td>14</td>\n",
       "      <td>1</td>\n",
       "      <td>9</td>\n",
       "      <td>4553</td>\n",
       "      <td>Movement Zone 4553</td>\n",
       "    </tr>\n",
       "    <tr>\n",
       "      <td>4</td>\n",
       "      <td>432</td>\n",
       "      <td>432 CARRILLO PUERTO-AV. MÉXICO-COYOACÁN</td>\n",
       "      <td>432 - Carrillo Pto-Golondrinas</td>\n",
       "      <td>S/N</td>\n",
       "      <td>3340.0</td>\n",
       "      <td>GPM</td>\n",
       "      <td>General Pedro Maria Anaya</td>\n",
       "      <td>NaN</td>\n",
       "      <td>442</td>\n",
       "      <td>19.361296</td>\n",
       "      <td>...</td>\n",
       "      <td>NaN</td>\n",
       "      <td>NaN</td>\n",
       "      <td>NaN</td>\n",
       "      <td>19.361296,-99.162581</td>\n",
       "      <td>0971</td>\n",
       "      <td>14</td>\n",
       "      <td>1</td>\n",
       "      <td>9</td>\n",
       "      <td>4553</td>\n",
       "      <td>Movement Zone 4553</td>\n",
       "    </tr>\n",
       "  </tbody>\n",
       "</table>\n",
       "<p>5 rows × 24 columns</p>\n",
       "</div>"
      ],
      "text/plain": [
       "    ID                                   Nombre  \\\n",
       "0  440        440 REAL DE MAYORAZGO-PUENTE XOCO   \n",
       "1  283            283 AV. COYOACÁN-RAFAEL DONDE   \n",
       "2  279                279 LA MORENA-PROVIDENCIA   \n",
       "3  443             443 BRUNO TRAVEN-GOLONDRINAS   \n",
       "4  432  432 CARRILLO PUERTO-AV. MÉXICO-COYOACÁN   \n",
       "\n",
       "                                   Dirección Número  Código po districtCo  \\\n",
       "0        440 - Real De Mayorazgo-Puente Xoco    S/N     3330.0          1   \n",
       "1            283 - Av. Coyoacán-Rafael Donde    S/N     3103.0          1   \n",
       "2                279 - La Morena-Providencia    S/N     3103.0        DVN   \n",
       "3  443 - Bruno Trave-Avenida México-Coyoacan    S/N     3340.0          1   \n",
       "4             432 - Carrillo Pto-Golondrinas    S/N     3340.0        GPM   \n",
       "\n",
       "                     Colonia  altitude  nearbyStat  location/l  ...  \\\n",
       "0         Ampliación Granada       NaN         433   19.360650  ...   \n",
       "1         Ampliación Granada       NaN         279   19.398270  ...   \n",
       "2            Del Valle Norte       NaN         164   19.399908  ...   \n",
       "3         Ampliación Granada       NaN         432   19.359655  ...   \n",
       "4  General Pedro Maria Anaya       NaN         442   19.361296  ...   \n",
       "\n",
       "   nearbySt_3 nearbySt_4  nearbySt_5             punto_geo  CVE_AGEB  CVE_MUN  \\\n",
       "0         NaN        NaN         NaN   19.36065,-99.168669      0967       14   \n",
       "1         NaN        NaN         NaN   19.39827,-99.167383      0045       14   \n",
       "2         NaN        NaN         NaN  19.399908,-99.166553      0045       14   \n",
       "3         NaN        NaN         NaN  19.359655,-99.162025      0971       14   \n",
       "4         NaN        NaN         NaN  19.361296,-99.162581      0971       14   \n",
       "\n",
       "   CVE_LOC CVE_ENT MOVEMENT_I          DISPLAY_NA  \n",
       "0        1       9       4550  Movement Zone 4550  \n",
       "1        1       9       4551  Movement Zone 4551  \n",
       "2        1       9       4551  Movement Zone 4551  \n",
       "3        1       9       4553  Movement Zone 4553  \n",
       "4        1       9       4553  Movement Zone 4553  \n",
       "\n",
       "[5 rows x 24 columns]"
      ]
     },
     "execution_count": 14,
     "metadata": {},
     "output_type": "execute_result"
    }
   ],
   "source": [
    "df_estaciones.head()"
   ]
  },
  {
   "cell_type": "code",
   "execution_count": 17,
   "metadata": {},
   "outputs": [
    {
     "data": {
      "text/plain": [
       "array(['0967', '0045', '0971', '0219', '0187', '0929', '0933', '0986',\n",
       "       '0717', '0204', '0011', '005A', '0825', '0581', '0562', '0558',\n",
       "       '0793', '0365', '083A', '0628', '0420', '0191', '0609', '0613',\n",
       "       '0948', '0844', '0350', '0384', '0399', '0702', '0257', '0755',\n",
       "       '037A', '0242', '0064', '0577', '0952', '0740', '0401', '0416',\n",
       "       '0721', '0736', '076A', '0774', '0806', '0810', '0238', '0223',\n",
       "       '1464', '1479', '0926', '1303', '1411', '1430', '145A', '0945',\n",
       "       '0983', '1089', '0930', '1178', '0678', '1337', '1110', '0752',\n",
       "       '0697', '070A', '0714', '0748', '1182', '1197', '120A', '1214',\n",
       "       '1360', '1375', '138A', '1426', '0998', '1002', '0818', '049A',\n",
       "       '0644', '0729', '0771', '0790', '0803', '1106', '0841', '0856',\n",
       "       '0860', '0875', '088A', '0894', '0682', '0733', '1318', '1322',\n",
       "       '1341', '1356', '1534', '0767', '095A', '0964', '1017', '1093',\n",
       "       '0822', '0837', '0798', '0891', '068A', '0694', '0711', '1029',\n",
       "       '118A', '1211', '1226', '0887', '0478', '0482', '0533', '0622',\n",
       "       '0444', '0603', '0641', '0707', '0745', '075A', '0995', '1207',\n",
       "       '0783', '0675', '0779', '0872', '0459', '0463', '0552', '0571',\n",
       "       '0590', '0849', '1160', '1175', '0637', '0656', '0660'],\n",
       "      dtype=object)"
      ]
     },
     "execution_count": 17,
     "metadata": {},
     "output_type": "execute_result"
    }
   ],
   "source": [
    "lista_agebs = df_estaciones['CVE_AGEB'].unique()\n",
    "lista_agebs"
   ]
  },
  {
   "cell_type": "markdown",
   "metadata": {},
   "source": [
    "Guardamos lo AGEBS en una lista:"
   ]
  },
  {
   "cell_type": "code",
   "execution_count": null,
   "metadata": {},
   "outputs": [],
   "source": []
  },
  {
   "cell_type": "code",
   "execution_count": null,
   "metadata": {},
   "outputs": [],
   "source": []
  },
  {
   "cell_type": "code",
   "execution_count": null,
   "metadata": {},
   "outputs": [],
   "source": []
  },
  {
   "cell_type": "code",
   "execution_count": null,
   "metadata": {},
   "outputs": [],
   "source": []
  },
  {
   "cell_type": "code",
   "execution_count": null,
   "metadata": {},
   "outputs": [],
   "source": []
  },
  {
   "cell_type": "code",
   "execution_count": 2,
   "metadata": {},
   "outputs": [],
   "source": [
    "df_hourly = pd.read_csv(r\"./data/uber/mexico_city-agebs-2019-2-All-HourlyAggregate.csv\",\n",
    "                        chunksize=100,iterator=True)\n",
    "df_hourly = pd.concat(df_hourly, ignore_index=True)"
   ]
  },
  {
   "cell_type": "code",
   "execution_count": 11,
   "metadata": {},
   "outputs": [
    {
     "ename": "TypeError",
     "evalue": "'TextFileReader' object does not support indexing",
     "output_type": "error",
     "traceback": [
      "\u001b[0;31m---------------------------------------------------------------------------\u001b[0m",
      "\u001b[0;31mTypeError\u001b[0m                                 Traceback (most recent call last)",
      "\u001b[0;32m<ipython-input-11-791cc204462b>\u001b[0m in \u001b[0;36m<module>\u001b[0;34m\u001b[0m\n\u001b[0;32m----> 1\u001b[0;31m \u001b[0mdf_hourly\u001b[0m\u001b[0;34m[\u001b[0m\u001b[0;36m1\u001b[0m\u001b[0;34m]\u001b[0m\u001b[0;34m\u001b[0m\u001b[0;34m\u001b[0m\u001b[0m\n\u001b[0m",
      "\u001b[0;31mTypeError\u001b[0m: 'TextFileReader' object does not support indexing"
     ]
    }
   ],
   "source": [
    "df_hourly[1]"
   ]
  },
  {
   "cell_type": "code",
   "execution_count": null,
   "metadata": {},
   "outputs": [],
   "source": []
  }
 ],
 "metadata": {
  "kernelspec": {
   "display_name": "Python 3",
   "language": "python",
   "name": "python3"
  },
  "language_info": {
   "codemirror_mode": {
    "name": "ipython",
    "version": 3
   },
   "file_extension": ".py",
   "mimetype": "text/x-python",
   "name": "python",
   "nbconvert_exporter": "python",
   "pygments_lexer": "ipython3",
   "version": "3.6.8"
  }
 },
 "nbformat": 4,
 "nbformat_minor": 4
}
